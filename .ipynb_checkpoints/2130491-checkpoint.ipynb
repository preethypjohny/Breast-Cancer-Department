{
 "cells": [
  {
   "cell_type": "code",
   "execution_count": 102,
   "id": "5e91a02d",
   "metadata": {},
   "outputs": [],
   "source": [
    "import datetime\n",
    "import pandas as pd\n",
    "import numpy as np\n",
    "from sklearn.metrics import mean_squared_error\n",
    "from sklearn.metrics import mean_absolute_percentage_error\n",
    "from pmdarima import auto_arima\n",
    "from statsmodels.tsa.arima_model import ARIMA\n",
    "import statsmodels.api as sm\n",
    "from statsmodels.graphics.tsaplots import plot_acf\n",
    "import matplotlib.pyplot as plt\n",
    "%matplotlib inline\n",
    "import warnings\n",
    "warnings.filterwarnings('ignore')\n",
    "from sklearn.model_selection import train_test_split\n",
    "from sklearn.preprocessing import StandardScaler\n",
    "from sklearn.preprocessing import OrdinalEncoder\n",
    "from sklearn.svm import SVC\n",
    "from sklearn.metrics import confusion_matrix, accuracy_score, classification_report\n",
    "from sklearn.model_selection import GridSearchCV\n",
    "from sklearn.metrics import recall_score, precision_score, f1_score\n",
    "import sklearn.metrics as metrics\n",
    "from sklearn.naive_bayes import GaussianNB\n",
    "from sklearn.model_selection import cross_val_score\n",
    "from sklearn.metrics import roc_auc_score, roc_curve\n",
    "import pickle"
   ]
  },
  {
   "cell_type": "code",
   "execution_count": 2,
   "id": "aa288629",
   "metadata": {},
   "outputs": [],
   "source": [
    "predata = pd.read_csv('precovid.csv', index_col=False)\n",
    "postdata = pd.read_csv('postcovid.csv', index_col=False)"
   ]
  },
  {
   "cell_type": "markdown",
   "id": "ac5a3c5c",
   "metadata": {},
   "source": [
    "# Exploratory Data Analysis (EDA)"
   ]
  },
  {
   "cell_type": "code",
   "execution_count": 3,
   "id": "9092c827",
   "metadata": {},
   "outputs": [],
   "source": [
    "## To remove the unwanted columns : predata\n",
    "minus = ['Unnamed: 1', 'Unnamed: 3', 'Unnamed: 4', 'Unnamed: 6', 'Unnamed: 7', 'Unnamed: 9', 'Unnamed: 10', 'Unnamed: 12', 'Unnamed: 13', 'Unnamed: 15', 'Run by:  RDL', 'Unnamed: 19', 'Unnamed: 21', 'Unnamed: 23', 'Unnamed: 24', 'Unnamed: 25', 'Unnamed: 26', 'Unnamed: 27', 'Unnamed: 28', 'Unnamed: 29', 'Unnamed: 30']\n",
    "predata.drop(minus, inplace =True, axis =1)"
   ]
  },
  {
   "cell_type": "code",
   "execution_count": 4,
   "id": "097c71f0",
   "metadata": {},
   "outputs": [],
   "source": [
    "## To remove the unwanted columns : postdata\n",
    "minus1 = ['Unnamed: 1', 'Unnamed: 2', 'Unnamed: 4', 'Unnamed: 5', 'Unnamed: 6', 'Unnamed: 9', 'Unnamed: 10', 'Unnamed: 12', 'Unnamed: 13', 'Unnamed: 15', 'Run by:  RDL', 'Unnamed: 19', 'Unnamed: 21', 'Unnamed: 23', 'Unnamed: 24', 'Unnamed: 25', 'Unnamed: 26', 'Unnamed: 27', 'Unnamed: 28', 'Unnamed: 29']\n",
    "postdata.drop(minus1, inplace =True, axis =1)"
   ]
  },
  {
   "cell_type": "code",
   "execution_count": 5,
   "id": "4a535677",
   "metadata": {},
   "outputs": [],
   "source": [
    "predata.rename(columns={'SW Wales Cancer Centre': 'Date', 'Unnamed: 2': 'Time', 'Unnamed: 5':'Patient Number', \n",
    "                    'Unnamed: 8': 'Procedure Code', 'Unnamed: 11': 'Description', 'Unnamed: 14': 'Status', 'Unnamed: 16': 'In/Out Patient', 'Unnamed: 17': 'Protocol Code', \n",
    "                    'Unnamed: 20': 'Staff Initials'}, inplace = True)\n",
    "predata.rename(columns={predata.columns[9]: 'Location'}, inplace = True)"
   ]
  },
  {
   "cell_type": "code",
   "execution_count": 6,
   "id": "d71398d0",
   "metadata": {},
   "outputs": [],
   "source": [
    "predata = predata.dropna(how='any',axis=0) "
   ]
  },
  {
   "cell_type": "code",
   "execution_count": 7,
   "id": "adfb45a1",
   "metadata": {},
   "outputs": [
    {
     "data": {
      "text/html": [
       "<div>\n",
       "<style scoped>\n",
       "    .dataframe tbody tr th:only-of-type {\n",
       "        vertical-align: middle;\n",
       "    }\n",
       "\n",
       "    .dataframe tbody tr th {\n",
       "        vertical-align: top;\n",
       "    }\n",
       "\n",
       "    .dataframe thead th {\n",
       "        text-align: right;\n",
       "    }\n",
       "</style>\n",
       "<table border=\"1\" class=\"dataframe\">\n",
       "  <thead>\n",
       "    <tr style=\"text-align: right;\">\n",
       "      <th></th>\n",
       "      <th>Date</th>\n",
       "      <th>Time</th>\n",
       "      <th>Patient Number</th>\n",
       "      <th>Procedure Code</th>\n",
       "      <th>Description</th>\n",
       "      <th>Status</th>\n",
       "      <th>In/Out Patient</th>\n",
       "      <th>Protocol Code</th>\n",
       "      <th>Staff Initials</th>\n",
       "      <th>Location</th>\n",
       "    </tr>\n",
       "  </thead>\n",
       "  <tbody>\n",
       "    <tr>\n",
       "      <th>0</th>\n",
       "      <td>2/1/2020</td>\n",
       "      <td>10:57 AM</td>\n",
       "      <td>Patient 1</td>\n",
       "      <td>Image 01</td>\n",
       "      <td>Image Portal x1</td>\n",
       "      <td>1.0</td>\n",
       "      <td>In</td>\n",
       "      <td>C80.9 00</td>\n",
       "      <td>EEC</td>\n",
       "      <td>LC</td>\n",
       "    </tr>\n",
       "    <tr>\n",
       "      <th>1</th>\n",
       "      <td>2/1/2020</td>\n",
       "      <td>10:57 AM</td>\n",
       "      <td>Patient 1</td>\n",
       "      <td>Met/Bone1j</td>\n",
       "      <td>Sacrum/5#</td>\n",
       "      <td>1.0</td>\n",
       "      <td>In</td>\n",
       "      <td>C80.9 00</td>\n",
       "      <td>EEC</td>\n",
       "      <td>LC</td>\n",
       "    </tr>\n",
       "    <tr>\n",
       "      <th>2</th>\n",
       "      <td>2/1/2020</td>\n",
       "      <td>11:18 AM</td>\n",
       "      <td>Patient 2</td>\n",
       "      <td>Calc</td>\n",
       "      <td>Calc single/parallel</td>\n",
       "      <td>1.0</td>\n",
       "      <td>In</td>\n",
       "      <td>C50.9 01</td>\n",
       "      <td>MR</td>\n",
       "      <td>LC</td>\n",
       "    </tr>\n",
       "    <tr>\n",
       "      <th>3</th>\n",
       "      <td>2/1/2020</td>\n",
       "      <td>11:18 AM</td>\n",
       "      <td>Patient 2</td>\n",
       "      <td>Image 01</td>\n",
       "      <td>Image Portal x1</td>\n",
       "      <td>1.0</td>\n",
       "      <td>In</td>\n",
       "      <td>C50.9 01</td>\n",
       "      <td>MR</td>\n",
       "      <td>LC</td>\n",
       "    </tr>\n",
       "    <tr>\n",
       "      <th>4</th>\n",
       "      <td>2/1/2020</td>\n",
       "      <td>11:18 AM</td>\n",
       "      <td>Patient 2</td>\n",
       "      <td>Met/Bone5</td>\n",
       "      <td>Spinal Cord Comp/1#</td>\n",
       "      <td>1.0</td>\n",
       "      <td>In</td>\n",
       "      <td>C50.9 01</td>\n",
       "      <td>MR</td>\n",
       "      <td>LC</td>\n",
       "    </tr>\n",
       "    <tr>\n",
       "      <th>...</th>\n",
       "      <td>...</td>\n",
       "      <td>...</td>\n",
       "      <td>...</td>\n",
       "      <td>...</td>\n",
       "      <td>...</td>\n",
       "      <td>...</td>\n",
       "      <td>...</td>\n",
       "      <td>...</td>\n",
       "      <td>...</td>\n",
       "      <td>...</td>\n",
       "    </tr>\n",
       "    <tr>\n",
       "      <th>980</th>\n",
       "      <td>2/27/2020</td>\n",
       "      <td>4:33 PM</td>\n",
       "      <td>Patient 67</td>\n",
       "      <td>Image 02</td>\n",
       "      <td>Image Portal x2</td>\n",
       "      <td>1.0</td>\n",
       "      <td>Out</td>\n",
       "      <td>C50.9 01</td>\n",
       "      <td>MR</td>\n",
       "      <td>LC</td>\n",
       "    </tr>\n",
       "    <tr>\n",
       "      <th>981</th>\n",
       "      <td>2/27/2020</td>\n",
       "      <td>4:43 PM</td>\n",
       "      <td>Patient 26</td>\n",
       "      <td>Breast 6b</td>\n",
       "      <td>Breast Boost/5# Elec</td>\n",
       "      <td>1.0</td>\n",
       "      <td>Out</td>\n",
       "      <td>C50.9 01</td>\n",
       "      <td>MR</td>\n",
       "      <td>LC</td>\n",
       "    </tr>\n",
       "    <tr>\n",
       "      <th>982</th>\n",
       "      <td>2/27/2020</td>\n",
       "      <td>4:58 PM</td>\n",
       "      <td>Patient 89</td>\n",
       "      <td>Breast 1l</td>\n",
       "      <td>IMRT Breath Hold 15#</td>\n",
       "      <td>1.0</td>\n",
       "      <td>Out</td>\n",
       "      <td>C50.9 01</td>\n",
       "      <td>DP</td>\n",
       "      <td>LC</td>\n",
       "    </tr>\n",
       "    <tr>\n",
       "      <th>983</th>\n",
       "      <td>2/27/2020</td>\n",
       "      <td>5:08 PM</td>\n",
       "      <td>Patient 23</td>\n",
       "      <td>Breast 6b</td>\n",
       "      <td>Breast Boost/5# Elec</td>\n",
       "      <td>1.0</td>\n",
       "      <td>Out</td>\n",
       "      <td>C50.9 01</td>\n",
       "      <td>MR</td>\n",
       "      <td>LC</td>\n",
       "    </tr>\n",
       "    <tr>\n",
       "      <th>984</th>\n",
       "      <td>2/27/2020</td>\n",
       "      <td>5:22 PM</td>\n",
       "      <td>Patient 48</td>\n",
       "      <td>Breast 1m</td>\n",
       "      <td>IMRT Breast&amp;SCF 15#</td>\n",
       "      <td>1.0</td>\n",
       "      <td>Out</td>\n",
       "      <td>C50.9 01</td>\n",
       "      <td>MR</td>\n",
       "      <td>LC</td>\n",
       "    </tr>\n",
       "  </tbody>\n",
       "</table>\n",
       "<p>985 rows × 10 columns</p>\n",
       "</div>"
      ],
      "text/plain": [
       "          Date      Time Patient Number Procedure Code           Description  \\\n",
       "0     2/1/2020  10:57 AM      Patient 1       Image 01       Image Portal x1   \n",
       "1     2/1/2020  10:57 AM      Patient 1     Met/Bone1j             Sacrum/5#   \n",
       "2     2/1/2020  11:18 AM      Patient 2           Calc  Calc single/parallel   \n",
       "3     2/1/2020  11:18 AM      Patient 2       Image 01       Image Portal x1   \n",
       "4     2/1/2020  11:18 AM      Patient 2      Met/Bone5   Spinal Cord Comp/1#   \n",
       "..         ...       ...            ...            ...                   ...   \n",
       "980  2/27/2020   4:33 PM     Patient 67       Image 02       Image Portal x2   \n",
       "981  2/27/2020   4:43 PM     Patient 26      Breast 6b  Breast Boost/5# Elec   \n",
       "982  2/27/2020   4:58 PM     Patient 89      Breast 1l  IMRT Breath Hold 15#   \n",
       "983  2/27/2020   5:08 PM     Patient 23      Breast 6b  Breast Boost/5# Elec   \n",
       "984  2/27/2020   5:22 PM     Patient 48      Breast 1m   IMRT Breast&SCF 15#   \n",
       "\n",
       "     Status In/Out Patient Protocol Code Staff Initials Location  \n",
       "0       1.0             In      C80.9 00            EEC       LC  \n",
       "1       1.0             In      C80.9 00            EEC       LC  \n",
       "2       1.0             In      C50.9 01             MR       LC  \n",
       "3       1.0             In      C50.9 01             MR       LC  \n",
       "4       1.0             In      C50.9 01             MR       LC  \n",
       "..      ...            ...           ...            ...      ...  \n",
       "980     1.0            Out      C50.9 01             MR       LC  \n",
       "981     1.0            Out      C50.9 01             MR       LC  \n",
       "982     1.0            Out      C50.9 01             DP       LC  \n",
       "983     1.0            Out      C50.9 01             MR       LC  \n",
       "984     1.0            Out      C50.9 01             MR       LC  \n",
       "\n",
       "[985 rows x 10 columns]"
      ]
     },
     "execution_count": 7,
     "metadata": {},
     "output_type": "execute_result"
    }
   ],
   "source": [
    "predata"
   ]
  },
  {
   "cell_type": "code",
   "execution_count": 8,
   "id": "16823409",
   "metadata": {},
   "outputs": [],
   "source": [
    "postdata.rename(columns={'SW Wales Cancer Centre': 'Date', 'Unnamed: 3': 'Time', 'Study Number':'Patient Number', \n",
    "                        'Unnamed: 14': 'Status', 'Unnamed: 16': 'In/Out Patient', 'Unnamed: 17': 'Protocol Code', \n",
    "                    'Unnamed: 20': 'Staff Initials'}, inplace = True)\n",
    "postdata.rename(columns={postdata.columns[9]: 'Location'}, inplace = True)"
   ]
  },
  {
   "cell_type": "code",
   "execution_count": 9,
   "id": "92aa4cb2",
   "metadata": {},
   "outputs": [],
   "source": [
    "postdata = postdata.dropna(how='any',axis=0) "
   ]
  },
  {
   "cell_type": "code",
   "execution_count": 10,
   "id": "5a5b814a",
   "metadata": {},
   "outputs": [
    {
     "data": {
      "text/html": [
       "<div>\n",
       "<style scoped>\n",
       "    .dataframe tbody tr th:only-of-type {\n",
       "        vertical-align: middle;\n",
       "    }\n",
       "\n",
       "    .dataframe tbody tr th {\n",
       "        vertical-align: top;\n",
       "    }\n",
       "\n",
       "    .dataframe thead th {\n",
       "        text-align: right;\n",
       "    }\n",
       "</style>\n",
       "<table border=\"1\" class=\"dataframe\">\n",
       "  <thead>\n",
       "    <tr style=\"text-align: right;\">\n",
       "      <th></th>\n",
       "      <th>Date</th>\n",
       "      <th>Time</th>\n",
       "      <th>Patient Number</th>\n",
       "      <th>Procedure Code</th>\n",
       "      <th>Description</th>\n",
       "      <th>Status</th>\n",
       "      <th>In/Out Patient</th>\n",
       "      <th>Protocol Code</th>\n",
       "      <th>Staff Initials</th>\n",
       "      <th>Location</th>\n",
       "    </tr>\n",
       "  </thead>\n",
       "  <tbody>\n",
       "    <tr>\n",
       "      <th>0</th>\n",
       "      <td>2/1/2021</td>\n",
       "      <td>9:06 AM</td>\n",
       "      <td>5.0</td>\n",
       "      <td>Image 02</td>\n",
       "      <td>Image Portal x2</td>\n",
       "      <td>1</td>\n",
       "      <td>Out</td>\n",
       "      <td>C50.9 01</td>\n",
       "      <td>FMS</td>\n",
       "      <td>LN2</td>\n",
       "    </tr>\n",
       "    <tr>\n",
       "      <th>1</th>\n",
       "      <td>2/1/2021</td>\n",
       "      <td>9:06 AM</td>\n",
       "      <td>5.0</td>\n",
       "      <td>Breast 1q</td>\n",
       "      <td>IMRT Breath Hold 5#</td>\n",
       "      <td>1</td>\n",
       "      <td>Out</td>\n",
       "      <td>C50.9 01</td>\n",
       "      <td>FMS</td>\n",
       "      <td>LN2</td>\n",
       "    </tr>\n",
       "    <tr>\n",
       "      <th>2</th>\n",
       "      <td>2/1/2021</td>\n",
       "      <td>9:38 AM</td>\n",
       "      <td>90.0</td>\n",
       "      <td>IMRT/VMAT</td>\n",
       "      <td>Plan IMRT/VMAT</td>\n",
       "      <td>1</td>\n",
       "      <td>Out</td>\n",
       "      <td>C50.9 01</td>\n",
       "      <td>FMS</td>\n",
       "      <td>LN2</td>\n",
       "    </tr>\n",
       "    <tr>\n",
       "      <th>3</th>\n",
       "      <td>2/1/2021</td>\n",
       "      <td>9:41 AM</td>\n",
       "      <td>49.0</td>\n",
       "      <td>IMRT/VMAT</td>\n",
       "      <td>Plan IMRT/VMAT</td>\n",
       "      <td>1</td>\n",
       "      <td>Out</td>\n",
       "      <td>C50.9 01</td>\n",
       "      <td>FMS</td>\n",
       "      <td>LN2</td>\n",
       "    </tr>\n",
       "    <tr>\n",
       "      <th>4</th>\n",
       "      <td>2/1/2021</td>\n",
       "      <td>9:45 AM</td>\n",
       "      <td>72.0</td>\n",
       "      <td>Breast 1m</td>\n",
       "      <td>IMRT Breast&amp;SCF 15#</td>\n",
       "      <td>1</td>\n",
       "      <td>Out</td>\n",
       "      <td>C50.9 01</td>\n",
       "      <td>FMS</td>\n",
       "      <td>LN2</td>\n",
       "    </tr>\n",
       "    <tr>\n",
       "      <th>...</th>\n",
       "      <td>...</td>\n",
       "      <td>...</td>\n",
       "      <td>...</td>\n",
       "      <td>...</td>\n",
       "      <td>...</td>\n",
       "      <td>...</td>\n",
       "      <td>...</td>\n",
       "      <td>...</td>\n",
       "      <td>...</td>\n",
       "      <td>...</td>\n",
       "    </tr>\n",
       "    <tr>\n",
       "      <th>714</th>\n",
       "      <td>2/25/2021</td>\n",
       "      <td>12:20 PM</td>\n",
       "      <td>63.0</td>\n",
       "      <td>Met/Other</td>\n",
       "      <td>Other Mets</td>\n",
       "      <td>1</td>\n",
       "      <td>Out</td>\n",
       "      <td>C34.9 01</td>\n",
       "      <td>JFL</td>\n",
       "      <td>LN2</td>\n",
       "    </tr>\n",
       "    <tr>\n",
       "      <th>715</th>\n",
       "      <td>2/25/2021</td>\n",
       "      <td>12:36 PM</td>\n",
       "      <td>79.0</td>\n",
       "      <td>Image 30</td>\n",
       "      <td>Cone Beam</td>\n",
       "      <td>1</td>\n",
       "      <td>Out</td>\n",
       "      <td>C61.9 02</td>\n",
       "      <td>JFL</td>\n",
       "      <td>LN2</td>\n",
       "    </tr>\n",
       "    <tr>\n",
       "      <th>716</th>\n",
       "      <td>2/25/2021</td>\n",
       "      <td>12:36 PM</td>\n",
       "      <td>79.0</td>\n",
       "      <td>Urology 2v</td>\n",
       "      <td>VMAT Prostate 20#</td>\n",
       "      <td>1</td>\n",
       "      <td>Out</td>\n",
       "      <td>C61.9 02</td>\n",
       "      <td>JFL</td>\n",
       "      <td>LN2</td>\n",
       "    </tr>\n",
       "    <tr>\n",
       "      <th>717</th>\n",
       "      <td>2/25/2021</td>\n",
       "      <td>12:57 PM</td>\n",
       "      <td>80.0</td>\n",
       "      <td>Image 02</td>\n",
       "      <td>Image Portal x2</td>\n",
       "      <td>1</td>\n",
       "      <td>Out</td>\n",
       "      <td>C50.9 01</td>\n",
       "      <td>FMS</td>\n",
       "      <td>LN2</td>\n",
       "    </tr>\n",
       "    <tr>\n",
       "      <th>718</th>\n",
       "      <td>2/25/2021</td>\n",
       "      <td>12:57 PM</td>\n",
       "      <td>80.0</td>\n",
       "      <td>Breast 1m</td>\n",
       "      <td>IMRT Breast&amp;SCF 15#</td>\n",
       "      <td>1</td>\n",
       "      <td>Out</td>\n",
       "      <td>C50.9 01</td>\n",
       "      <td>FMS</td>\n",
       "      <td>LN2</td>\n",
       "    </tr>\n",
       "  </tbody>\n",
       "</table>\n",
       "<p>718 rows × 10 columns</p>\n",
       "</div>"
      ],
      "text/plain": [
       "          Date      Time  Patient Number Procedure Code          Description  \\\n",
       "0     2/1/2021   9:06 AM             5.0       Image 02      Image Portal x2   \n",
       "1     2/1/2021   9:06 AM             5.0      Breast 1q  IMRT Breath Hold 5#   \n",
       "2     2/1/2021   9:38 AM            90.0      IMRT/VMAT       Plan IMRT/VMAT   \n",
       "3     2/1/2021   9:41 AM            49.0      IMRT/VMAT       Plan IMRT/VMAT   \n",
       "4     2/1/2021   9:45 AM            72.0      Breast 1m  IMRT Breast&SCF 15#   \n",
       "..         ...       ...             ...            ...                  ...   \n",
       "714  2/25/2021  12:20 PM            63.0      Met/Other           Other Mets   \n",
       "715  2/25/2021  12:36 PM            79.0       Image 30            Cone Beam   \n",
       "716  2/25/2021  12:36 PM            79.0     Urology 2v    VMAT Prostate 20#   \n",
       "717  2/25/2021  12:57 PM            80.0       Image 02      Image Portal x2   \n",
       "718  2/25/2021  12:57 PM            80.0      Breast 1m  IMRT Breast&SCF 15#   \n",
       "\n",
       "     Status In/Out Patient Protocol Code Staff Initials Location  \n",
       "0         1            Out      C50.9 01            FMS      LN2  \n",
       "1         1            Out      C50.9 01            FMS      LN2  \n",
       "2         1            Out      C50.9 01            FMS      LN2  \n",
       "3         1            Out      C50.9 01            FMS      LN2  \n",
       "4         1            Out      C50.9 01            FMS      LN2  \n",
       "..      ...            ...           ...            ...      ...  \n",
       "714       1            Out      C34.9 01            JFL      LN2  \n",
       "715       1            Out      C61.9 02            JFL      LN2  \n",
       "716       1            Out      C61.9 02            JFL      LN2  \n",
       "717       1            Out      C50.9 01            FMS      LN2  \n",
       "718       1            Out      C50.9 01            FMS      LN2  \n",
       "\n",
       "[718 rows x 10 columns]"
      ]
     },
     "execution_count": 10,
     "metadata": {},
     "output_type": "execute_result"
    }
   ],
   "source": [
    "postdata"
   ]
  },
  {
   "cell_type": "code",
   "execution_count": 11,
   "id": "477b6a08",
   "metadata": {},
   "outputs": [
    {
     "name": "stdout",
     "output_type": "stream",
     "text": [
      "<class 'pandas.core.frame.DataFrame'>\n",
      "Int64Index: 985 entries, 0 to 984\n",
      "Data columns (total 10 columns):\n",
      " #   Column          Non-Null Count  Dtype  \n",
      "---  ------          --------------  -----  \n",
      " 0   Date            985 non-null    object \n",
      " 1   Time            985 non-null    object \n",
      " 2   Patient Number  985 non-null    object \n",
      " 3   Procedure Code  985 non-null    object \n",
      " 4   Description     985 non-null    object \n",
      " 5   Status          985 non-null    float64\n",
      " 6   In/Out Patient  985 non-null    object \n",
      " 7   Protocol Code   985 non-null    object \n",
      " 8   Staff Initials  985 non-null    object \n",
      " 9   Location        985 non-null    object \n",
      "dtypes: float64(1), object(9)\n",
      "memory usage: 84.6+ KB\n"
     ]
    }
   ],
   "source": [
    "predata.info()"
   ]
  },
  {
   "cell_type": "code",
   "execution_count": 12,
   "id": "de1cf540",
   "metadata": {},
   "outputs": [
    {
     "name": "stdout",
     "output_type": "stream",
     "text": [
      "<class 'pandas.core.frame.DataFrame'>\n",
      "Int64Index: 718 entries, 0 to 718\n",
      "Data columns (total 10 columns):\n",
      " #   Column          Non-Null Count  Dtype  \n",
      "---  ------          --------------  -----  \n",
      " 0   Date            718 non-null    object \n",
      " 1   Time            718 non-null    object \n",
      " 2   Patient Number  718 non-null    float64\n",
      " 3   Procedure Code  718 non-null    object \n",
      " 4   Description     718 non-null    object \n",
      " 5   Status          718 non-null    int64  \n",
      " 6   In/Out Patient  718 non-null    object \n",
      " 7   Protocol Code   718 non-null    object \n",
      " 8   Staff Initials  718 non-null    object \n",
      " 9   Location        718 non-null    object \n",
      "dtypes: float64(1), int64(1), object(8)\n",
      "memory usage: 61.7+ KB\n"
     ]
    }
   ],
   "source": [
    "postdata.info()"
   ]
  },
  {
   "cell_type": "markdown",
   "id": "51826ef6",
   "metadata": {},
   "source": [
    "# CHART 1 : Count of patients handled by each staff member"
   ]
  },
  {
   "cell_type": "markdown",
   "id": "c21916ea",
   "metadata": {},
   "source": [
    "Pre Covid Dataset Visualization"
   ]
  },
  {
   "cell_type": "code",
   "execution_count": 13,
   "id": "6cba2c0f",
   "metadata": {},
   "outputs": [
    {
     "data": {
      "text/plain": [
       "FMS    352\n",
       "MR     311\n",
       "DP     251\n",
       "VV      19\n",
       "EEC     12\n",
       "JFL      8\n",
       "RET      8\n",
       "MP       7\n",
       "SG       4\n",
       "AB       4\n",
       "RD       3\n",
       "KR       3\n",
       "RB       3\n",
       "Name: Staff Initials, dtype: int64"
      ]
     },
     "execution_count": 13,
     "metadata": {},
     "output_type": "execute_result"
    }
   ],
   "source": [
    "pre_staff_patients = predata['Staff Initials'].value_counts()\n",
    "pre_staff_patients"
   ]
  },
  {
   "cell_type": "code",
   "execution_count": 14,
   "id": "9d8ad2f1",
   "metadata": {},
   "outputs": [],
   "source": [
    "pre_staff = pre_staff_patients.index.values\n",
    "pre_staff_patients = pre_staff_patients.tolist()"
   ]
  },
  {
   "cell_type": "code",
   "execution_count": 17,
   "id": "3cc02251",
   "metadata": {},
   "outputs": [
    {
     "data": {
      "image/png": "[encoded data removed]",
      "text/plain": [
       "<Figure size 720x720 with 1 Axes>"
      ]
     },
     "metadata": {
      "needs_background": "light"
     },
     "output_type": "display_data"
    }
   ],
   "source": [
    "plt.figure(figsize=(10,10))\n",
    "plt.bar(pre_staff, pre_staff_patients, color = 'green')\n",
    "plt.title('Number of Patients handled by Staff before Covid')\n",
    "plt.xlabel('Staff Initials')\n",
    "plt.ylabel('Total Number of Patients')\n",
    "\n",
    "## Saving the graph as a png for Dashboard\n",
    "plt.savefig('prestaffcount.png', dpi=500)"
   ]
  },
  {
   "cell_type": "markdown",
   "id": "c7f67551",
   "metadata": {},
   "source": [
    "Post Covid Dataset Visualization"
   ]
  },
  {
   "cell_type": "code",
   "execution_count": 18,
   "id": "b9b1ac8d",
   "metadata": {},
   "outputs": [],
   "source": [
    "post_staff_patients = postdata['Staff Initials'].value_counts()\n",
    "post_staff = post_staff_patients.index.values\n",
    "post_staff_patients = post_staff_patients.tolist()"
   ]
  },
  {
   "cell_type": "code",
   "execution_count": 19,
   "id": "e2736bc3",
   "metadata": {},
   "outputs": [
    {
     "data": {
      "image/png": "[encoded data removed]",
      "text/plain": [
       "<Figure size 720x720 with 1 Axes>"
      ]
     },
     "metadata": {
      "needs_background": "light"
     },
     "output_type": "display_data"
    }
   ],
   "source": [
    "plt.figure(figsize=(10,10))\n",
    "plt.bar(post_staff, post_staff_patients, color = 'red')\n",
    "plt.title('Number of Patients handled by Staff after Covid')\n",
    "plt.xlabel('Staff Initials')\n",
    "plt.ylabel('Total Number of Patients')\n",
    "\n",
    "## Saving the graph as a png for Dashboard\n",
    "plt.savefig('poststaffcount.png', dpi=500)"
   ]
  },
  {
   "cell_type": "markdown",
   "id": "f859702f",
   "metadata": {},
   "source": [
    "# Chart 2: Number of Visits till date per Patient"
   ]
  },
  {
   "cell_type": "markdown",
   "id": "b9a0573f",
   "metadata": {},
   "source": [
    "Pre Covid Dataset Visualization"
   ]
  },
  {
   "cell_type": "code",
   "execution_count": 21,
   "id": "77f77ea4",
   "metadata": {},
   "outputs": [],
   "source": [
    "precount = predata['Patient Number'].value_counts()\n",
    "pre_p = pd.DataFrame(precount.values, precount.index)\n",
    "pre_p.sort_index(inplace = True)\n",
    "pre_patient_number = pre_p.index.values\n",
    "pre_visit = pre_p[0]"
   ]
  },
  {
   "cell_type": "code",
   "execution_count": 22,
   "id": "417f72c6",
   "metadata": {},
   "outputs": [
    {
     "data": {
      "image/png": "[encoded data removed]",
      "text/plain": [
       "<Figure size 2160x2160 with 1 Axes>"
      ]
     },
     "metadata": {
      "needs_background": "light"
     },
     "output_type": "display_data"
    }
   ],
   "source": [
    "plt.figure(figsize=(30,30))\n",
    "plt.step(pre_visit, pre_patient_number, color = 'black')\n",
    "plt.title('Total number of visits per patient before Covid')\n",
    "plt.xlabel('Total Number of Visits')\n",
    "plt.ylabel('Patient Number')\n",
    "\n",
    "\n",
    "plt.savefig(\"prepatientvisit.png\", dpi=700)"
   ]
  },
  {
   "cell_type": "markdown",
   "id": "d95998b8",
   "metadata": {},
   "source": [
    "Post Covid Dataset Visualization"
   ]
  },
  {
   "cell_type": "code",
   "execution_count": 23,
   "id": "857606da",
   "metadata": {},
   "outputs": [],
   "source": [
    "postcount = postdata['Patient Number'].value_counts()\n",
    "post_p = pd.DataFrame(postcount.values, postcount.index)\n",
    "post_p.sort_index(inplace = True)\n",
    "post_patient_number = post_p.index.values\n",
    "post_visit = post_p[0]"
   ]
  },
  {
   "cell_type": "code",
   "execution_count": 24,
   "id": "a03ee70c",
   "metadata": {},
   "outputs": [
    {
     "data": {
      "image/png": "[encoded data removed]",
      "text/plain": [
       "<Figure size 2160x2160 with 1 Axes>"
      ]
     },
     "metadata": {
      "needs_background": "light"
     },
     "output_type": "display_data"
    }
   ],
   "source": [
    "plt.figure(figsize=(30,30))\n",
    "plt.step(post_visit, post_patient_number, color = 'black')\n",
    "plt.title('Total number of visits per patient after Covid')\n",
    "plt.xlabel('Total Number of Visits')\n",
    "plt.ylabel('Patient Number')\n",
    "\n",
    "plt.savefig(\"postpatientvisit.png\", dpi=700)"
   ]
  },
  {
   "cell_type": "markdown",
   "id": "28757d29",
   "metadata": {},
   "source": [
    "# Chart 3: Number of In/Out Patients per Day\n"
   ]
  },
  {
   "cell_type": "markdown",
   "id": "c5127bee",
   "metadata": {},
   "source": [
    "Pre Covid Dataset Visualization"
   ]
  },
  {
   "cell_type": "code",
   "execution_count": 25,
   "id": "027625ec",
   "metadata": {},
   "outputs": [],
   "source": [
    "pre_IO_data = predata.groupby(['Date', 'In/Out Patient'], as_index=False).size().pivot('Date', 'In/Out Patient', 'size').replace(np.nan, 0)"
   ]
  },
  {
   "cell_type": "code",
   "execution_count": 26,
   "id": "6816182e",
   "metadata": {},
   "outputs": [],
   "source": [
    "pre_dates = pre_IO_data.index.values\n",
    "pre_dates = pd.to_datetime(pre_dates)"
   ]
  },
  {
   "cell_type": "code",
   "execution_count": 27,
   "id": "03ae6ec6",
   "metadata": {},
   "outputs": [],
   "source": [
    "pre_in_values= pre_IO_data['In'].values\n",
    "pre_out_values= pre_IO_data['Out'].values"
   ]
  },
  {
   "cell_type": "code",
   "execution_count": 28,
   "id": "af78fc34",
   "metadata": {},
   "outputs": [
    {
     "data": {
      "image/png": "[encoded data removed]",
      "text/plain": [
       "<Figure size 720x720 with 1 Axes>"
      ]
     },
     "metadata": {
      "needs_background": "light"
     },
     "output_type": "display_data"
    }
   ],
   "source": [
    "fig, ax = plt.subplots(figsize = (10,10))\n",
    "ax.bar(pre_dates, pre_out_values, label='Out Patients', color = 'red')\n",
    "ax.bar(pre_dates, pre_in_values, label='In Patients', color = 'yellow')\n",
    "ax.set_title('Number of In/Out Patient per day before Covid')\n",
    "ax.set_xlabel('Dates')\n",
    "ax.set_ylabel('Number of Patients')\n",
    "ax.legend()\n",
    "plt.show()\n",
    "\n",
    "fig.savefig(\"preinout.png\", dpi=500)"
   ]
  },
  {
   "cell_type": "markdown",
   "id": "8f0b1ef6",
   "metadata": {},
   "source": [
    "Post Covid dataset Visualization"
   ]
  },
  {
   "cell_type": "code",
   "execution_count": 29,
   "id": "82836d4e",
   "metadata": {},
   "outputs": [],
   "source": [
    "post_IO_data = postdata.groupby(['Date', 'In/Out Patient'], as_index=False).size().pivot('Date', 'In/Out Patient', 'size').replace(np.nan, 0)"
   ]
  },
  {
   "cell_type": "code",
   "execution_count": 30,
   "id": "e80e827a",
   "metadata": {},
   "outputs": [],
   "source": [
    "post_dates = post_IO_data.index.values\n",
    "post_dates = pd.to_datetime(post_dates)"
   ]
  },
  {
   "cell_type": "code",
   "execution_count": 31,
   "id": "4b545a36",
   "metadata": {},
   "outputs": [],
   "source": [
    "post_in_values= post_IO_data['In'].values\n",
    "post_out_values= post_IO_data['Out'].values"
   ]
  },
  {
   "cell_type": "code",
   "execution_count": 32,
   "id": "ac5f5be5",
   "metadata": {},
   "outputs": [
    {
     "data": {
      "image/png": "[encoded data removed]",
      "text/plain": [
       "<Figure size 720x720 with 1 Axes>"
      ]
     },
     "metadata": {
      "needs_background": "light"
     },
     "output_type": "display_data"
    }
   ],
   "source": [
    "fig, ax = plt.subplots(figsize = (10,10))\n",
    "ax.bar(post_dates, post_out_values, label='Out Patients', color = 'red')\n",
    "ax.bar(post_dates, post_in_values, label='In Patients', color = 'yellow')\n",
    "ax.set_title('Number of In/Out Patient per day after Covid')\n",
    "ax.set_xlabel('Dates')\n",
    "ax.set_ylabel('Number of Patients')\n",
    "ax.legend()\n",
    "plt.show()\n",
    "\n",
    "fig.savefig(\"postinout.png\", dpi=500)"
   ]
  },
  {
   "cell_type": "markdown",
   "id": "00aeeb36",
   "metadata": {},
   "source": [
    "# Chart 4: Finding the count of patients per day for the dataset"
   ]
  },
  {
   "cell_type": "markdown",
   "id": "d0fe2267",
   "metadata": {},
   "source": [
    "Pre Covid Data Visualization"
   ]
  },
  {
   "cell_type": "code",
   "execution_count": 33,
   "id": "167735d9",
   "metadata": {},
   "outputs": [],
   "source": [
    "predata['Date'] = pd.to_datetime(predata['Date'])"
   ]
  },
  {
   "cell_type": "code",
   "execution_count": 34,
   "id": "6edefa7f",
   "metadata": {},
   "outputs": [],
   "source": [
    "pre_data_patient = pd.DataFrame(predata.groupby(['Date']).sum('Status'))"
   ]
  },
  {
   "cell_type": "code",
   "execution_count": 35,
   "id": "19874633",
   "metadata": {},
   "outputs": [
    {
     "data": {
      "text/html": [
       "<div>\n",
       "<style scoped>\n",
       "    .dataframe tbody tr th:only-of-type {\n",
       "        vertical-align: middle;\n",
       "    }\n",
       "\n",
       "    .dataframe tbody tr th {\n",
       "        vertical-align: top;\n",
       "    }\n",
       "\n",
       "    .dataframe thead th {\n",
       "        text-align: right;\n",
       "    }\n",
       "</style>\n",
       "<table border=\"1\" class=\"dataframe\">\n",
       "  <thead>\n",
       "    <tr style=\"text-align: right;\">\n",
       "      <th></th>\n",
       "      <th>Status</th>\n",
       "    </tr>\n",
       "    <tr>\n",
       "      <th>Date</th>\n",
       "      <th></th>\n",
       "    </tr>\n",
       "  </thead>\n",
       "  <tbody>\n",
       "    <tr>\n",
       "      <th>2020-02-01</th>\n",
       "      <td>5.0</td>\n",
       "    </tr>\n",
       "    <tr>\n",
       "      <th>2020-02-03</th>\n",
       "      <td>55.0</td>\n",
       "    </tr>\n",
       "    <tr>\n",
       "      <th>2020-02-04</th>\n",
       "      <td>48.0</td>\n",
       "    </tr>\n",
       "    <tr>\n",
       "      <th>2020-02-05</th>\n",
       "      <td>61.0</td>\n",
       "    </tr>\n",
       "    <tr>\n",
       "      <th>2020-02-06</th>\n",
       "      <td>48.0</td>\n",
       "    </tr>\n",
       "    <tr>\n",
       "      <th>2020-02-07</th>\n",
       "      <td>53.0</td>\n",
       "    </tr>\n",
       "    <tr>\n",
       "      <th>2020-02-10</th>\n",
       "      <td>45.0</td>\n",
       "    </tr>\n",
       "    <tr>\n",
       "      <th>2020-02-11</th>\n",
       "      <td>43.0</td>\n",
       "    </tr>\n",
       "    <tr>\n",
       "      <th>2020-02-12</th>\n",
       "      <td>59.0</td>\n",
       "    </tr>\n",
       "    <tr>\n",
       "      <th>2020-02-13</th>\n",
       "      <td>51.0</td>\n",
       "    </tr>\n",
       "    <tr>\n",
       "      <th>2020-02-14</th>\n",
       "      <td>55.0</td>\n",
       "    </tr>\n",
       "    <tr>\n",
       "      <th>2020-02-17</th>\n",
       "      <td>55.0</td>\n",
       "    </tr>\n",
       "    <tr>\n",
       "      <th>2020-02-18</th>\n",
       "      <td>64.0</td>\n",
       "    </tr>\n",
       "    <tr>\n",
       "      <th>2020-02-19</th>\n",
       "      <td>62.0</td>\n",
       "    </tr>\n",
       "    <tr>\n",
       "      <th>2020-02-20</th>\n",
       "      <td>46.0</td>\n",
       "    </tr>\n",
       "    <tr>\n",
       "      <th>2020-02-21</th>\n",
       "      <td>43.0</td>\n",
       "    </tr>\n",
       "    <tr>\n",
       "      <th>2020-02-24</th>\n",
       "      <td>50.0</td>\n",
       "    </tr>\n",
       "    <tr>\n",
       "      <th>2020-02-25</th>\n",
       "      <td>39.0</td>\n",
       "    </tr>\n",
       "    <tr>\n",
       "      <th>2020-02-26</th>\n",
       "      <td>50.0</td>\n",
       "    </tr>\n",
       "    <tr>\n",
       "      <th>2020-02-27</th>\n",
       "      <td>53.0</td>\n",
       "    </tr>\n",
       "  </tbody>\n",
       "</table>\n",
       "</div>"
      ],
      "text/plain": [
       "            Status\n",
       "Date              \n",
       "2020-02-01     5.0\n",
       "2020-02-03    55.0\n",
       "2020-02-04    48.0\n",
       "2020-02-05    61.0\n",
       "2020-02-06    48.0\n",
       "2020-02-07    53.0\n",
       "2020-02-10    45.0\n",
       "2020-02-11    43.0\n",
       "2020-02-12    59.0\n",
       "2020-02-13    51.0\n",
       "2020-02-14    55.0\n",
       "2020-02-17    55.0\n",
       "2020-02-18    64.0\n",
       "2020-02-19    62.0\n",
       "2020-02-20    46.0\n",
       "2020-02-21    43.0\n",
       "2020-02-24    50.0\n",
       "2020-02-25    39.0\n",
       "2020-02-26    50.0\n",
       "2020-02-27    53.0"
      ]
     },
     "execution_count": 35,
     "metadata": {},
     "output_type": "execute_result"
    }
   ],
   "source": [
    "pre_data_patient"
   ]
  },
  {
   "cell_type": "code",
   "execution_count": 36,
   "id": "4b86575d",
   "metadata": {},
   "outputs": [
    {
     "data": {
      "text/plain": [
       "[<matplotlib.lines.Line2D at 0x1984d832100>]"
      ]
     },
     "execution_count": 36,
     "metadata": {},
     "output_type": "execute_result"
    },
    {
     "data": {
      "image/png": "[encoded data removed]",
      "text/plain": [
       "<Figure size 576x576 with 1 Axes>"
      ]
     },
     "metadata": {
      "needs_background": "light"
     },
     "output_type": "display_data"
    }
   ],
   "source": [
    "plt.figure(figsize=(8,8))\n",
    "plt.plot(pre_data_patient)"
   ]
  },
  {
   "cell_type": "markdown",
   "id": "36342e11",
   "metadata": {},
   "source": [
    "Post Covid Data Visualization"
   ]
  },
  {
   "cell_type": "code",
   "execution_count": 37,
   "id": "fd5f1cce",
   "metadata": {},
   "outputs": [],
   "source": [
    "postdata['Date'] = pd.to_datetime(postdata['Date'])"
   ]
  },
  {
   "cell_type": "code",
   "execution_count": 38,
   "id": "8fdfe235",
   "metadata": {},
   "outputs": [
    {
     "data": {
      "text/html": [
       "<div>\n",
       "<style scoped>\n",
       "    .dataframe tbody tr th:only-of-type {\n",
       "        vertical-align: middle;\n",
       "    }\n",
       "\n",
       "    .dataframe tbody tr th {\n",
       "        vertical-align: top;\n",
       "    }\n",
       "\n",
       "    .dataframe thead th {\n",
       "        text-align: right;\n",
       "    }\n",
       "</style>\n",
       "<table border=\"1\" class=\"dataframe\">\n",
       "  <thead>\n",
       "    <tr style=\"text-align: right;\">\n",
       "      <th></th>\n",
       "      <th>Patient Number</th>\n",
       "      <th>Status</th>\n",
       "    </tr>\n",
       "    <tr>\n",
       "      <th>Date</th>\n",
       "      <th></th>\n",
       "      <th></th>\n",
       "    </tr>\n",
       "  </thead>\n",
       "  <tbody>\n",
       "    <tr>\n",
       "      <th>2021-02-01</th>\n",
       "      <td>2532.0</td>\n",
       "      <td>39</td>\n",
       "    </tr>\n",
       "    <tr>\n",
       "      <th>2021-02-02</th>\n",
       "      <td>2015.0</td>\n",
       "      <td>33</td>\n",
       "    </tr>\n",
       "    <tr>\n",
       "      <th>2021-02-03</th>\n",
       "      <td>1938.0</td>\n",
       "      <td>33</td>\n",
       "    </tr>\n",
       "    <tr>\n",
       "      <th>2021-02-04</th>\n",
       "      <td>1935.0</td>\n",
       "      <td>37</td>\n",
       "    </tr>\n",
       "    <tr>\n",
       "      <th>2021-02-05</th>\n",
       "      <td>1757.0</td>\n",
       "      <td>30</td>\n",
       "    </tr>\n",
       "    <tr>\n",
       "      <th>2021-02-08</th>\n",
       "      <td>2654.0</td>\n",
       "      <td>60</td>\n",
       "    </tr>\n",
       "    <tr>\n",
       "      <th>2021-02-09</th>\n",
       "      <td>2394.0</td>\n",
       "      <td>53</td>\n",
       "    </tr>\n",
       "    <tr>\n",
       "      <th>2021-02-10</th>\n",
       "      <td>1911.0</td>\n",
       "      <td>46</td>\n",
       "    </tr>\n",
       "    <tr>\n",
       "      <th>2021-02-11</th>\n",
       "      <td>1578.0</td>\n",
       "      <td>39</td>\n",
       "    </tr>\n",
       "    <tr>\n",
       "      <th>2021-02-12</th>\n",
       "      <td>1365.0</td>\n",
       "      <td>32</td>\n",
       "    </tr>\n",
       "    <tr>\n",
       "      <th>2021-02-15</th>\n",
       "      <td>1597.0</td>\n",
       "      <td>40</td>\n",
       "    </tr>\n",
       "    <tr>\n",
       "      <th>2021-02-16</th>\n",
       "      <td>1281.0</td>\n",
       "      <td>35</td>\n",
       "    </tr>\n",
       "    <tr>\n",
       "      <th>2021-02-17</th>\n",
       "      <td>1842.0</td>\n",
       "      <td>38</td>\n",
       "    </tr>\n",
       "    <tr>\n",
       "      <th>2021-02-18</th>\n",
       "      <td>1813.0</td>\n",
       "      <td>37</td>\n",
       "    </tr>\n",
       "    <tr>\n",
       "      <th>2021-02-19</th>\n",
       "      <td>1813.0</td>\n",
       "      <td>35</td>\n",
       "    </tr>\n",
       "    <tr>\n",
       "      <th>2021-02-22</th>\n",
       "      <td>2208.0</td>\n",
       "      <td>37</td>\n",
       "    </tr>\n",
       "    <tr>\n",
       "      <th>2021-02-23</th>\n",
       "      <td>2038.0</td>\n",
       "      <td>36</td>\n",
       "    </tr>\n",
       "    <tr>\n",
       "      <th>2021-02-24</th>\n",
       "      <td>1904.0</td>\n",
       "      <td>36</td>\n",
       "    </tr>\n",
       "    <tr>\n",
       "      <th>2021-02-25</th>\n",
       "      <td>1318.0</td>\n",
       "      <td>22</td>\n",
       "    </tr>\n",
       "  </tbody>\n",
       "</table>\n",
       "</div>"
      ],
      "text/plain": [
       "            Patient Number  Status\n",
       "Date                              \n",
       "2021-02-01          2532.0      39\n",
       "2021-02-02          2015.0      33\n",
       "2021-02-03          1938.0      33\n",
       "2021-02-04          1935.0      37\n",
       "2021-02-05          1757.0      30\n",
       "2021-02-08          2654.0      60\n",
       "2021-02-09          2394.0      53\n",
       "2021-02-10          1911.0      46\n",
       "2021-02-11          1578.0      39\n",
       "2021-02-12          1365.0      32\n",
       "2021-02-15          1597.0      40\n",
       "2021-02-16          1281.0      35\n",
       "2021-02-17          1842.0      38\n",
       "2021-02-18          1813.0      37\n",
       "2021-02-19          1813.0      35\n",
       "2021-02-22          2208.0      37\n",
       "2021-02-23          2038.0      36\n",
       "2021-02-24          1904.0      36\n",
       "2021-02-25          1318.0      22"
      ]
     },
     "execution_count": 38,
     "metadata": {},
     "output_type": "execute_result"
    }
   ],
   "source": [
    "post_data_patient = pd.DataFrame(postdata.groupby(['Date']).sum('Status'))\n",
    "post_data_patient"
   ]
  },
  {
   "cell_type": "code",
   "execution_count": 39,
   "id": "a317a19e",
   "metadata": {},
   "outputs": [],
   "source": [
    "post_data_patient.drop(['Patient Number'], inplace = True, axis = 1)"
   ]
  },
  {
   "cell_type": "code",
   "execution_count": 40,
   "id": "1ffcacc3",
   "metadata": {},
   "outputs": [
    {
     "data": {
      "text/html": [
       "<div>\n",
       "<style scoped>\n",
       "    .dataframe tbody tr th:only-of-type {\n",
       "        vertical-align: middle;\n",
       "    }\n",
       "\n",
       "    .dataframe tbody tr th {\n",
       "        vertical-align: top;\n",
       "    }\n",
       "\n",
       "    .dataframe thead th {\n",
       "        text-align: right;\n",
       "    }\n",
       "</style>\n",
       "<table border=\"1\" class=\"dataframe\">\n",
       "  <thead>\n",
       "    <tr style=\"text-align: right;\">\n",
       "      <th></th>\n",
       "      <th>Status</th>\n",
       "    </tr>\n",
       "    <tr>\n",
       "      <th>Date</th>\n",
       "      <th></th>\n",
       "    </tr>\n",
       "  </thead>\n",
       "  <tbody>\n",
       "    <tr>\n",
       "      <th>2021-02-01</th>\n",
       "      <td>39</td>\n",
       "    </tr>\n",
       "    <tr>\n",
       "      <th>2021-02-02</th>\n",
       "      <td>33</td>\n",
       "    </tr>\n",
       "    <tr>\n",
       "      <th>2021-02-03</th>\n",
       "      <td>33</td>\n",
       "    </tr>\n",
       "    <tr>\n",
       "      <th>2021-02-04</th>\n",
       "      <td>37</td>\n",
       "    </tr>\n",
       "    <tr>\n",
       "      <th>2021-02-05</th>\n",
       "      <td>30</td>\n",
       "    </tr>\n",
       "    <tr>\n",
       "      <th>2021-02-08</th>\n",
       "      <td>60</td>\n",
       "    </tr>\n",
       "    <tr>\n",
       "      <th>2021-02-09</th>\n",
       "      <td>53</td>\n",
       "    </tr>\n",
       "    <tr>\n",
       "      <th>2021-02-10</th>\n",
       "      <td>46</td>\n",
       "    </tr>\n",
       "    <tr>\n",
       "      <th>2021-02-11</th>\n",
       "      <td>39</td>\n",
       "    </tr>\n",
       "    <tr>\n",
       "      <th>2021-02-12</th>\n",
       "      <td>32</td>\n",
       "    </tr>\n",
       "    <tr>\n",
       "      <th>2021-02-15</th>\n",
       "      <td>40</td>\n",
       "    </tr>\n",
       "    <tr>\n",
       "      <th>2021-02-16</th>\n",
       "      <td>35</td>\n",
       "    </tr>\n",
       "    <tr>\n",
       "      <th>2021-02-17</th>\n",
       "      <td>38</td>\n",
       "    </tr>\n",
       "    <tr>\n",
       "      <th>2021-02-18</th>\n",
       "      <td>37</td>\n",
       "    </tr>\n",
       "    <tr>\n",
       "      <th>2021-02-19</th>\n",
       "      <td>35</td>\n",
       "    </tr>\n",
       "    <tr>\n",
       "      <th>2021-02-22</th>\n",
       "      <td>37</td>\n",
       "    </tr>\n",
       "    <tr>\n",
       "      <th>2021-02-23</th>\n",
       "      <td>36</td>\n",
       "    </tr>\n",
       "    <tr>\n",
       "      <th>2021-02-24</th>\n",
       "      <td>36</td>\n",
       "    </tr>\n",
       "    <tr>\n",
       "      <th>2021-02-25</th>\n",
       "      <td>22</td>\n",
       "    </tr>\n",
       "  </tbody>\n",
       "</table>\n",
       "</div>"
      ],
      "text/plain": [
       "            Status\n",
       "Date              \n",
       "2021-02-01      39\n",
       "2021-02-02      33\n",
       "2021-02-03      33\n",
       "2021-02-04      37\n",
       "2021-02-05      30\n",
       "2021-02-08      60\n",
       "2021-02-09      53\n",
       "2021-02-10      46\n",
       "2021-02-11      39\n",
       "2021-02-12      32\n",
       "2021-02-15      40\n",
       "2021-02-16      35\n",
       "2021-02-17      38\n",
       "2021-02-18      37\n",
       "2021-02-19      35\n",
       "2021-02-22      37\n",
       "2021-02-23      36\n",
       "2021-02-24      36\n",
       "2021-02-25      22"
      ]
     },
     "execution_count": 40,
     "metadata": {},
     "output_type": "execute_result"
    }
   ],
   "source": [
    "post_data_patient"
   ]
  },
  {
   "cell_type": "code",
   "execution_count": 41,
   "id": "e520f6f8",
   "metadata": {},
   "outputs": [
    {
     "data": {
      "text/plain": [
       "[<matplotlib.lines.Line2D at 0x1984d7c9f10>]"
      ]
     },
     "execution_count": 41,
     "metadata": {},
     "output_type": "execute_result"
    },
    {
     "data": {
      "image/png": "[encoded data removed]",
      "text/plain": [
       "<Figure size 576x576 with 1 Axes>"
      ]
     },
     "metadata": {
      "needs_background": "light"
     },
     "output_type": "display_data"
    }
   ],
   "source": [
    "plt.figure(figsize=(8,8))\n",
    "plt.plot(post_data_patient)"
   ]
  },
  {
   "cell_type": "markdown",
   "id": "9eda0840",
   "metadata": {},
   "source": [
    "# Classification Models"
   ]
  },
  {
   "cell_type": "markdown",
   "id": "99d9315d",
   "metadata": {},
   "source": [
    "Frequency Encoding"
   ]
  },
  {
   "cell_type": "markdown",
   "id": "6b7a9c25",
   "metadata": {},
   "source": [
    "We will be transforming the column values into numeric values so that it can fit well in the classification models. \n",
    "In the following code, we will be classifying whether a patient is In Patient or Out Patient depending on their Protocol Code and Procedure Code. \n",
    "Since the In-Patient is very low is postdata dataset, we will be only working with predata dataset"
   ]
  },
  {
   "cell_type": "code",
   "execution_count": 42,
   "id": "0af6b5e2",
   "metadata": {},
   "outputs": [
    {
     "data": {
      "text/plain": [
       "34"
      ]
     },
     "execution_count": 42,
     "metadata": {},
     "output_type": "execute_result"
    }
   ],
   "source": [
    "predata_procedurecode = predata['Procedure Code'].value_counts()\n",
    "predata_procedurecode.count()"
   ]
  },
  {
   "cell_type": "code",
   "execution_count": 43,
   "id": "e416a478",
   "metadata": {},
   "outputs": [
    {
     "data": {
      "text/plain": [
       "16"
      ]
     },
     "execution_count": 43,
     "metadata": {},
     "output_type": "execute_result"
    }
   ],
   "source": [
    "predata_protocolcode = predata['Protocol Code'].value_counts()\n",
    "predata_protocolcode.count()"
   ]
  },
  {
   "cell_type": "code",
   "execution_count": 44,
   "id": "5923c55c",
   "metadata": {},
   "outputs": [],
   "source": [
    "fe_predata_procedurecode = predata_procedurecode\n",
    "fe_predata_protocolcode = predata_protocolcode"
   ]
  },
  {
   "cell_type": "code",
   "execution_count": 45,
   "id": "49687004",
   "metadata": {},
   "outputs": [],
   "source": [
    "# converting the Count of labels into dictionary and saving into variable\n",
    "\n",
    "fe_predata_procedurecode_dict = fe_predata_procedurecode.to_dict()"
   ]
  },
  {
   "cell_type": "code",
   "execution_count": 46,
   "id": "57bd8af6",
   "metadata": {},
   "outputs": [],
   "source": [
    "fe_predata_protocolcode_dict = fe_predata_protocolcode.to_dict()"
   ]
  },
  {
   "cell_type": "code",
   "execution_count": 47,
   "id": "045b1c71",
   "metadata": {},
   "outputs": [],
   "source": [
    "# Creating a new dataset with just Procedure Code, Protocol Code and Patient In/Out Status\n",
    "\n",
    "fe_predata = predata[['Procedure Code', 'Protocol Code', 'In/Out Patient']]"
   ]
  },
  {
   "cell_type": "code",
   "execution_count": 48,
   "id": "b91ff548",
   "metadata": {},
   "outputs": [
    {
     "data": {
      "text/html": [
       "<div>\n",
       "<style scoped>\n",
       "    .dataframe tbody tr th:only-of-type {\n",
       "        vertical-align: middle;\n",
       "    }\n",
       "\n",
       "    .dataframe tbody tr th {\n",
       "        vertical-align: top;\n",
       "    }\n",
       "\n",
       "    .dataframe thead th {\n",
       "        text-align: right;\n",
       "    }\n",
       "</style>\n",
       "<table border=\"1\" class=\"dataframe\">\n",
       "  <thead>\n",
       "    <tr style=\"text-align: right;\">\n",
       "      <th></th>\n",
       "      <th>Procedure Code</th>\n",
       "      <th>Protocol Code</th>\n",
       "      <th>In/Out Patient</th>\n",
       "    </tr>\n",
       "  </thead>\n",
       "  <tbody>\n",
       "    <tr>\n",
       "      <th>0</th>\n",
       "      <td>Image 01</td>\n",
       "      <td>C80.9 00</td>\n",
       "      <td>In</td>\n",
       "    </tr>\n",
       "    <tr>\n",
       "      <th>1</th>\n",
       "      <td>Met/Bone1j</td>\n",
       "      <td>C80.9 00</td>\n",
       "      <td>In</td>\n",
       "    </tr>\n",
       "    <tr>\n",
       "      <th>2</th>\n",
       "      <td>Calc</td>\n",
       "      <td>C50.9 01</td>\n",
       "      <td>In</td>\n",
       "    </tr>\n",
       "    <tr>\n",
       "      <th>3</th>\n",
       "      <td>Image 01</td>\n",
       "      <td>C50.9 01</td>\n",
       "      <td>In</td>\n",
       "    </tr>\n",
       "    <tr>\n",
       "      <th>4</th>\n",
       "      <td>Met/Bone5</td>\n",
       "      <td>C50.9 01</td>\n",
       "      <td>In</td>\n",
       "    </tr>\n",
       "  </tbody>\n",
       "</table>\n",
       "</div>"
      ],
      "text/plain": [
       "  Procedure Code Protocol Code In/Out Patient\n",
       "0       Image 01      C80.9 00             In\n",
       "1     Met/Bone1j      C80.9 00             In\n",
       "2           Calc      C50.9 01             In\n",
       "3       Image 01      C50.9 01             In\n",
       "4      Met/Bone5      C50.9 01             In"
      ]
     },
     "execution_count": 48,
     "metadata": {},
     "output_type": "execute_result"
    }
   ],
   "source": [
    "fe_predata.head()"
   ]
  },
  {
   "cell_type": "code",
   "execution_count": 49,
   "id": "1d601fa8",
   "metadata": {},
   "outputs": [],
   "source": [
    "# Replacing the label with the count in dataset\n",
    "fe_predata['Procedure Code'] = fe_predata['Procedure Code'].map(fe_predata_procedurecode_dict)"
   ]
  },
  {
   "cell_type": "code",
   "execution_count": 50,
   "id": "72f598b4",
   "metadata": {},
   "outputs": [],
   "source": [
    "fe_predata['Protocol Code'] = fe_predata['Protocol Code'].map(fe_predata_protocolcode_dict)"
   ]
  },
  {
   "cell_type": "code",
   "execution_count": 51,
   "id": "182b189f",
   "metadata": {},
   "outputs": [
    {
     "data": {
      "text/html": [
       "<div>\n",
       "<style scoped>\n",
       "    .dataframe tbody tr th:only-of-type {\n",
       "        vertical-align: middle;\n",
       "    }\n",
       "\n",
       "    .dataframe tbody tr th {\n",
       "        vertical-align: top;\n",
       "    }\n",
       "\n",
       "    .dataframe thead th {\n",
       "        text-align: right;\n",
       "    }\n",
       "</style>\n",
       "<table border=\"1\" class=\"dataframe\">\n",
       "  <thead>\n",
       "    <tr style=\"text-align: right;\">\n",
       "      <th></th>\n",
       "      <th>Procedure Code</th>\n",
       "      <th>Protocol Code</th>\n",
       "      <th>In/Out Patient</th>\n",
       "      <th>Out Patient</th>\n",
       "    </tr>\n",
       "  </thead>\n",
       "  <tbody>\n",
       "    <tr>\n",
       "      <th>0</th>\n",
       "      <td>23</td>\n",
       "      <td>10</td>\n",
       "      <td>In</td>\n",
       "      <td>0.0</td>\n",
       "    </tr>\n",
       "    <tr>\n",
       "      <th>1</th>\n",
       "      <td>2</td>\n",
       "      <td>10</td>\n",
       "      <td>In</td>\n",
       "      <td>0.0</td>\n",
       "    </tr>\n",
       "    <tr>\n",
       "      <th>2</th>\n",
       "      <td>21</td>\n",
       "      <td>886</td>\n",
       "      <td>In</td>\n",
       "      <td>0.0</td>\n",
       "    </tr>\n",
       "    <tr>\n",
       "      <th>3</th>\n",
       "      <td>23</td>\n",
       "      <td>886</td>\n",
       "      <td>In</td>\n",
       "      <td>0.0</td>\n",
       "    </tr>\n",
       "    <tr>\n",
       "      <th>4</th>\n",
       "      <td>1</td>\n",
       "      <td>886</td>\n",
       "      <td>In</td>\n",
       "      <td>0.0</td>\n",
       "    </tr>\n",
       "    <tr>\n",
       "      <th>...</th>\n",
       "      <td>...</td>\n",
       "      <td>...</td>\n",
       "      <td>...</td>\n",
       "      <td>...</td>\n",
       "    </tr>\n",
       "    <tr>\n",
       "      <th>980</th>\n",
       "      <td>261</td>\n",
       "      <td>886</td>\n",
       "      <td>Out</td>\n",
       "      <td>1.0</td>\n",
       "    </tr>\n",
       "    <tr>\n",
       "      <th>981</th>\n",
       "      <td>22</td>\n",
       "      <td>886</td>\n",
       "      <td>Out</td>\n",
       "      <td>1.0</td>\n",
       "    </tr>\n",
       "    <tr>\n",
       "      <th>982</th>\n",
       "      <td>195</td>\n",
       "      <td>886</td>\n",
       "      <td>Out</td>\n",
       "      <td>1.0</td>\n",
       "    </tr>\n",
       "    <tr>\n",
       "      <th>983</th>\n",
       "      <td>22</td>\n",
       "      <td>886</td>\n",
       "      <td>Out</td>\n",
       "      <td>1.0</td>\n",
       "    </tr>\n",
       "    <tr>\n",
       "      <th>984</th>\n",
       "      <td>74</td>\n",
       "      <td>886</td>\n",
       "      <td>Out</td>\n",
       "      <td>1.0</td>\n",
       "    </tr>\n",
       "  </tbody>\n",
       "</table>\n",
       "<p>985 rows × 4 columns</p>\n",
       "</div>"
      ],
      "text/plain": [
       "     Procedure Code  Protocol Code In/Out Patient  Out Patient\n",
       "0                23             10             In          0.0\n",
       "1                 2             10             In          0.0\n",
       "2                21            886             In          0.0\n",
       "3                23            886             In          0.0\n",
       "4                 1            886             In          0.0\n",
       "..              ...            ...            ...          ...\n",
       "980             261            886            Out          1.0\n",
       "981              22            886            Out          1.0\n",
       "982             195            886            Out          1.0\n",
       "983              22            886            Out          1.0\n",
       "984              74            886            Out          1.0\n",
       "\n",
       "[985 rows x 4 columns]"
      ]
     },
     "execution_count": 51,
     "metadata": {},
     "output_type": "execute_result"
    }
   ],
   "source": [
    "enc = OrdinalEncoder()\n",
    "fe_predata['Out Patient'] = enc.fit_transform(fe_predata[['In/Out Patient']])\n",
    "fe_predata"
   ]
  },
  {
   "cell_type": "code",
   "execution_count": 52,
   "id": "22e47130",
   "metadata": {},
   "outputs": [],
   "source": [
    "fe_predata.drop(['In/Out Patient'], inplace = True, axis = 1)"
   ]
  },
  {
   "cell_type": "code",
   "execution_count": 53,
   "id": "9cd6ebf1",
   "metadata": {},
   "outputs": [
    {
     "data": {
      "text/html": [
       "<div>\n",
       "<style scoped>\n",
       "    .dataframe tbody tr th:only-of-type {\n",
       "        vertical-align: middle;\n",
       "    }\n",
       "\n",
       "    .dataframe tbody tr th {\n",
       "        vertical-align: top;\n",
       "    }\n",
       "\n",
       "    .dataframe thead th {\n",
       "        text-align: right;\n",
       "    }\n",
       "</style>\n",
       "<table border=\"1\" class=\"dataframe\">\n",
       "  <thead>\n",
       "    <tr style=\"text-align: right;\">\n",
       "      <th></th>\n",
       "      <th>Procedure Code</th>\n",
       "      <th>Protocol Code</th>\n",
       "      <th>Out Patient</th>\n",
       "    </tr>\n",
       "  </thead>\n",
       "  <tbody>\n",
       "    <tr>\n",
       "      <th>0</th>\n",
       "      <td>23</td>\n",
       "      <td>10</td>\n",
       "      <td>0.0</td>\n",
       "    </tr>\n",
       "    <tr>\n",
       "      <th>1</th>\n",
       "      <td>2</td>\n",
       "      <td>10</td>\n",
       "      <td>0.0</td>\n",
       "    </tr>\n",
       "    <tr>\n",
       "      <th>2</th>\n",
       "      <td>21</td>\n",
       "      <td>886</td>\n",
       "      <td>0.0</td>\n",
       "    </tr>\n",
       "    <tr>\n",
       "      <th>3</th>\n",
       "      <td>23</td>\n",
       "      <td>886</td>\n",
       "      <td>0.0</td>\n",
       "    </tr>\n",
       "    <tr>\n",
       "      <th>4</th>\n",
       "      <td>1</td>\n",
       "      <td>886</td>\n",
       "      <td>0.0</td>\n",
       "    </tr>\n",
       "  </tbody>\n",
       "</table>\n",
       "</div>"
      ],
      "text/plain": [
       "   Procedure Code  Protocol Code  Out Patient\n",
       "0              23             10          0.0\n",
       "1               2             10          0.0\n",
       "2              21            886          0.0\n",
       "3              23            886          0.0\n",
       "4               1            886          0.0"
      ]
     },
     "execution_count": 53,
     "metadata": {},
     "output_type": "execute_result"
    }
   ],
   "source": [
    "fe_predata.head()"
   ]
  },
  {
   "cell_type": "code",
   "execution_count": 54,
   "id": "c2daa8f6",
   "metadata": {},
   "outputs": [
    {
     "data": {
      "text/html": [
       "<div>\n",
       "<style scoped>\n",
       "    .dataframe tbody tr th:only-of-type {\n",
       "        vertical-align: middle;\n",
       "    }\n",
       "\n",
       "    .dataframe tbody tr th {\n",
       "        vertical-align: top;\n",
       "    }\n",
       "\n",
       "    .dataframe thead th {\n",
       "        text-align: right;\n",
       "    }\n",
       "</style>\n",
       "<table border=\"1\" class=\"dataframe\">\n",
       "  <thead>\n",
       "    <tr style=\"text-align: right;\">\n",
       "      <th></th>\n",
       "      <th>Procedure Code</th>\n",
       "      <th>Protocol Code</th>\n",
       "      <th>Out Patient</th>\n",
       "    </tr>\n",
       "  </thead>\n",
       "  <tbody>\n",
       "    <tr>\n",
       "      <th>Procedure Code</th>\n",
       "      <td>1.000000</td>\n",
       "      <td>0.386153</td>\n",
       "      <td>0.257227</td>\n",
       "    </tr>\n",
       "    <tr>\n",
       "      <th>Protocol Code</th>\n",
       "      <td>0.386153</td>\n",
       "      <td>1.000000</td>\n",
       "      <td>0.269618</td>\n",
       "    </tr>\n",
       "    <tr>\n",
       "      <th>Out Patient</th>\n",
       "      <td>0.257227</td>\n",
       "      <td>0.269618</td>\n",
       "      <td>1.000000</td>\n",
       "    </tr>\n",
       "  </tbody>\n",
       "</table>\n",
       "</div>"
      ],
      "text/plain": [
       "                Procedure Code  Protocol Code  Out Patient\n",
       "Procedure Code        1.000000       0.386153     0.257227\n",
       "Protocol Code         0.386153       1.000000     0.269618\n",
       "Out Patient           0.257227       0.269618     1.000000"
      ]
     },
     "execution_count": 54,
     "metadata": {},
     "output_type": "execute_result"
    }
   ],
   "source": [
    "fe_predata.corr()"
   ]
  },
  {
   "cell_type": "markdown",
   "id": "069ab358",
   "metadata": {},
   "source": [
    "# Support Vector Machine Classifier along with Grid Search"
   ]
  },
  {
   "cell_type": "code",
   "execution_count": 55,
   "id": "1d548404",
   "metadata": {},
   "outputs": [],
   "source": [
    "X = fe_predata.iloc[:, [0,1]].values\n",
    "y = fe_predata.iloc[:, 2].values"
   ]
  },
  {
   "cell_type": "code",
   "execution_count": 56,
   "id": "89aca278",
   "metadata": {},
   "outputs": [],
   "source": [
    "X_train, X_test, y_train, y_test = train_test_split(X,y, test_size = 0.2, random_state = 0)"
   ]
  },
  {
   "cell_type": "code",
   "execution_count": 57,
   "id": "6aac6ab3",
   "metadata": {},
   "outputs": [],
   "source": [
    "scaler = StandardScaler()\n",
    "X_train = scaler.fit_transform(X_train)\n",
    "X_test = scaler.transform(X_test)"
   ]
  },
  {
   "cell_type": "code",
   "execution_count": 58,
   "id": "053f5e1e",
   "metadata": {},
   "outputs": [
    {
     "data": {
      "text/plain": [
       "SVC(random_state=0)"
      ]
     },
     "execution_count": 58,
     "metadata": {},
     "output_type": "execute_result"
    }
   ],
   "source": [
    "classifier = SVC(kernel = 'rbf', random_state = 0)\n",
    "classifier.fit(X_train, y_train)"
   ]
  },
  {
   "cell_type": "code",
   "execution_count": 59,
   "id": "cd74a236",
   "metadata": {},
   "outputs": [],
   "source": [
    "pred = classifier.predict(X_test)"
   ]
  },
  {
   "cell_type": "code",
   "execution_count": 60,
   "id": "8fb9d1d8",
   "metadata": {},
   "outputs": [
    {
     "data": {
      "text/plain": [
       "0.9390862944162437"
      ]
     },
     "execution_count": 60,
     "metadata": {},
     "output_type": "execute_result"
    }
   ],
   "source": [
    "accuracy = accuracy_score(y_test, pred)\n",
    "accuracy"
   ]
  },
  {
   "cell_type": "code",
   "execution_count": 61,
   "id": "81a691f9",
   "metadata": {},
   "outputs": [],
   "source": [
    "params = [{'C': [10, 50, 100, 300],'kernel': ['linear']},\n",
    "          {'C': [10, 50, 100, 300], 'kernel': ['sigmoid'], 'gamma': [0.05, 0.10, 0.15, 0.20, 0.25]},\n",
    "          {'C': [10, 50, 100, 300], 'kernel': ['poly'], 'gamma': [0.05, 0.10, 0.15, 0.20, 0.25]}]\n",
    "\n",
    "grid_search = GridSearchCV(estimator = classifier, param_grid = params, scoring = 'accuracy', cv = 10, n_jobs = -1)\n",
    "\n",
    "grid_search = grid_search.fit(X_train, y_train)"
   ]
  },
  {
   "cell_type": "code",
   "execution_count": 62,
   "id": "512d4414",
   "metadata": {},
   "outputs": [
    {
     "data": {
      "text/plain": [
       "0.9632099967543006"
      ]
     },
     "execution_count": 62,
     "metadata": {},
     "output_type": "execute_result"
    }
   ],
   "source": [
    "a = grid_search.best_score_\n",
    "a"
   ]
  },
  {
   "cell_type": "code",
   "execution_count": 63,
   "id": "b11b2367",
   "metadata": {},
   "outputs": [
    {
     "data": {
      "text/plain": [
       "{'C': 10, 'kernel': 'linear'}"
      ]
     },
     "execution_count": 63,
     "metadata": {},
     "output_type": "execute_result"
    }
   ],
   "source": [
    "grid_search.best_params_"
   ]
  },
  {
   "cell_type": "code",
   "execution_count": 64,
   "id": "112cf262",
   "metadata": {},
   "outputs": [
    {
     "data": {
      "text/plain": [
       "SVC(C=20, kernel='linear', probability=True)"
      ]
     },
     "execution_count": 64,
     "metadata": {},
     "output_type": "execute_result"
    }
   ],
   "source": [
    "classifier = SVC(C = 20, kernel = 'linear', probability = True)\n",
    "classifier.fit(X_train, y_train)"
   ]
  },
  {
   "cell_type": "code",
   "execution_count": 65,
   "id": "093bf39f",
   "metadata": {},
   "outputs": [],
   "source": [
    "pred = classifier.predict(X_test)"
   ]
  },
  {
   "cell_type": "code",
   "execution_count": 66,
   "id": "02b9c602",
   "metadata": {},
   "outputs": [
    {
     "data": {
      "text/plain": [
       "0.9685863874345549"
      ]
     },
     "execution_count": 66,
     "metadata": {},
     "output_type": "execute_result"
    }
   ],
   "source": [
    "metrics.f1_score(y_test, pred, average = 'weighted', labels = np.unique(pred))"
   ]
  },
  {
   "cell_type": "markdown",
   "id": "5890ced0",
   "metadata": {},
   "source": [
    "# Naive Bayes Classification with Gaussian Model\n"
   ]
  },
  {
   "cell_type": "markdown",
   "id": "4f6c1415",
   "metadata": {},
   "source": [
    "We will be implementing the Naive Bayes Classifier with Guassian Model. \n",
    "We will be taking fe_predata dataset as above. X and y for training and testing remains the same."
   ]
  },
  {
   "cell_type": "code",
   "execution_count": 67,
   "id": "74d04c39",
   "metadata": {},
   "outputs": [],
   "source": [
    "X_train, X_test, y_train, y_test = train_test_split(X,y, test_size = 0.3, random_state = 0)"
   ]
  },
  {
   "cell_type": "code",
   "execution_count": 68,
   "id": "c455a226",
   "metadata": {},
   "outputs": [],
   "source": [
    "from sklearn.preprocessing import StandardScaler\n",
    "sc= StandardScaler()\n",
    "X_train = sc.fit_transform(X_train)\n",
    "X_test = sc.transform(X_test)"
   ]
  },
  {
   "cell_type": "code",
   "execution_count": 69,
   "id": "b8b26ec9",
   "metadata": {},
   "outputs": [],
   "source": [
    "model = GaussianNB()"
   ]
  },
  {
   "cell_type": "code",
   "execution_count": 70,
   "id": "1c707be9",
   "metadata": {},
   "outputs": [
    {
     "data": {
      "text/plain": [
       "GaussianNB()"
      ]
     },
     "execution_count": 70,
     "metadata": {},
     "output_type": "execute_result"
    }
   ],
   "source": [
    "model.fit(X_train, y_train)"
   ]
  },
  {
   "cell_type": "code",
   "execution_count": 71,
   "id": "69585aaf",
   "metadata": {},
   "outputs": [
    {
     "data": {
      "text/plain": [
       "0.9222972972972973"
      ]
     },
     "execution_count": 71,
     "metadata": {},
     "output_type": "execute_result"
    }
   ],
   "source": [
    "model.score(X_test, y_test)"
   ]
  },
  {
   "cell_type": "code",
   "execution_count": 72,
   "id": "4467662c",
   "metadata": {},
   "outputs": [
    {
     "data": {
      "text/plain": [
       "array([0.97101449, 0.94202899, 0.95652174, 0.88405797, 0.91304348,\n",
       "       0.91304348, 0.91304348, 0.88405797, 0.88405797, 0.97058824])"
      ]
     },
     "execution_count": 72,
     "metadata": {},
     "output_type": "execute_result"
    }
   ],
   "source": [
    "cross_val_score(GaussianNB(), X_train, y_train, cv= 10)"
   ]
  },
  {
   "cell_type": "code",
   "execution_count": 73,
   "id": "cc32f80f",
   "metadata": {},
   "outputs": [
    {
     "data": {
      "text/plain": [
       "0.95"
      ]
     },
     "execution_count": 73,
     "metadata": {},
     "output_type": "execute_result"
    }
   ],
   "source": [
    "recall_score(y_test, model.predict(X_test))"
   ]
  },
  {
   "cell_type": "code",
   "execution_count": 74,
   "id": "21334925",
   "metadata": {},
   "outputs": [
    {
     "data": {
      "text/plain": [
       "0.9672727272727273"
      ]
     },
     "execution_count": 74,
     "metadata": {},
     "output_type": "execute_result"
    }
   ],
   "source": [
    "precision_score(y_test, model.predict(X_test))"
   ]
  },
  {
   "cell_type": "code",
   "execution_count": 75,
   "id": "1b170281",
   "metadata": {},
   "outputs": [
    {
     "data": {
      "text/plain": [
       "0.9585585585585585"
      ]
     },
     "execution_count": 75,
     "metadata": {},
     "output_type": "execute_result"
    }
   ],
   "source": [
    "f1_score(y_test, model.predict(X_test))"
   ]
  },
  {
   "cell_type": "code",
   "execution_count": 76,
   "id": "68867885",
   "metadata": {},
   "outputs": [],
   "source": [
    "nb_pred = model.predict(X_test)"
   ]
  },
  {
   "cell_type": "code",
   "execution_count": 77,
   "id": "574c67eb",
   "metadata": {},
   "outputs": [],
   "source": [
    "nb_conf_matrix = confusion_matrix( nb_pred, y_test)"
   ]
  },
  {
   "cell_type": "code",
   "execution_count": 78,
   "id": "7fe2f68f",
   "metadata": {},
   "outputs": [
    {
     "data": {
      "text/plain": [
       "array([[  7,  14],\n",
       "       [  9, 266]], dtype=int64)"
      ]
     },
     "execution_count": 78,
     "metadata": {},
     "output_type": "execute_result"
    }
   ],
   "source": [
    "nb_conf_matrix"
   ]
  },
  {
   "cell_type": "code",
   "execution_count": 79,
   "id": "26f60498",
   "metadata": {},
   "outputs": [
    {
     "name": "stdout",
     "output_type": "stream",
     "text": [
      "<class 'pandas.core.frame.DataFrame'>\n",
      "Int64Index: 985 entries, 0 to 984\n",
      "Data columns (total 3 columns):\n",
      " #   Column          Non-Null Count  Dtype  \n",
      "---  ------          --------------  -----  \n",
      " 0   Procedure Code  985 non-null    int64  \n",
      " 1   Protocol Code   985 non-null    int64  \n",
      " 2   Out Patient     985 non-null    float64\n",
      "dtypes: float64(1), int64(2)\n",
      "memory usage: 30.8 KB\n"
     ]
    }
   ],
   "source": [
    "fe_predata.info()"
   ]
  },
  {
   "cell_type": "code",
   "execution_count": 80,
   "id": "ae3fdc2e",
   "metadata": {},
   "outputs": [
    {
     "data": {
      "text/plain": [
       "array([0.])"
      ]
     },
     "execution_count": 80,
     "metadata": {},
     "output_type": "execute_result"
    }
   ],
   "source": [
    "# Predicting whether the patient is In/Out-- In Patient yields output 0. and Out Patient yields output 1.\n",
    "model.predict([[22, 886]])"
   ]
  },
  {
   "cell_type": "code",
   "execution_count": 81,
   "id": "9abf0bf1",
   "metadata": {},
   "outputs": [],
   "source": [
    "## ROC Curve"
   ]
  },
  {
   "cell_type": "code",
   "execution_count": 82,
   "id": "75b7426e",
   "metadata": {},
   "outputs": [],
   "source": [
    "r_prob= [ 0 for _ in range (len(y_test))]\n",
    "svm_prob = classifier.predict_proba(X_test)\n",
    "nb_prob = model.predict_proba(X_test)"
   ]
  },
  {
   "cell_type": "code",
   "execution_count": 83,
   "id": "b0973be2",
   "metadata": {},
   "outputs": [],
   "source": [
    "svm_prob = svm_prob[:,1]\n",
    "nb_prob = nb_prob[:,1]"
   ]
  },
  {
   "cell_type": "code",
   "execution_count": 84,
   "id": "4724e65b",
   "metadata": {},
   "outputs": [],
   "source": [
    "# Calculate AUROC\n",
    "\n",
    "svm_auc = roc_auc_score(y_test, svm_prob)\n",
    "nb_auc = roc_auc_score(y_test, nb_prob)"
   ]
  },
  {
   "cell_type": "code",
   "execution_count": 85,
   "id": "80152dc6",
   "metadata": {},
   "outputs": [],
   "source": [
    "# Predicting Test Results\n",
    "\n",
    "svm_fpr, svm_tpr, _ = roc_curve(y_test, svm_prob)\n",
    "nb_fpr, nb_tpr, _ = roc_curve(y_test, nb_prob)"
   ]
  },
  {
   "cell_type": "code",
   "execution_count": 86,
   "id": "2038b3d0",
   "metadata": {},
   "outputs": [
    {
     "data": {
      "text/plain": [
       "<matplotlib.legend.Legend at 0x198b5f753a0>"
      ]
     },
     "execution_count": 86,
     "metadata": {},
     "output_type": "execute_result"
    },
    {
     "data": {
      "image/png": "[encoded data removed]",
      "text/plain": [
       "<Figure size 432x288 with 1 Axes>"
      ]
     },
     "metadata": {
      "needs_background": "light"
     },
     "output_type": "display_data"
    }
   ],
   "source": [
    "# Plotting ROC Curve\n",
    "\n",
    "plt.plot(svm_fpr, svm_tpr, marker = '.', label = 'Support Vector Machine (AUROC = %0.3f)' % svm_auc)\n",
    "plt.plot(nb_fpr, nb_tpr, marker = '.', label = 'Naive Bayes (AUROC = %0.3f)' % nb_auc)\n",
    "plt.xlabel (\"False Positive Rate\")\n",
    "plt.ylabel (\"True Positive Rate\")\n",
    "plt.legend()"
   ]
  },
  {
   "cell_type": "markdown",
   "id": "0e248cb2",
   "metadata": {},
   "source": [
    "# Time Forecasting ARIMA Model"
   ]
  },
  {
   "cell_type": "markdown",
   "id": "d177f306",
   "metadata": {},
   "source": [
    "We will now be implementing the ARIMA Model on predata as well as postdata dataset. This is a time forecasting model, which will help us predict the number of footfalls/ patients visting the hospital every day"
   ]
  },
  {
   "cell_type": "markdown",
   "id": "dba6589a",
   "metadata": {},
   "source": [
    "ARIMA Model on Pre Covid Dataset"
   ]
  },
  {
   "cell_type": "code",
   "execution_count": 103,
   "id": "70f826e8",
   "metadata": {},
   "outputs": [],
   "source": [
    "predata_patient = pd.read_csv('precovid.csv', index_col=False)"
   ]
  },
  {
   "cell_type": "code",
   "execution_count": 104,
   "id": "82b8f07d",
   "metadata": {},
   "outputs": [],
   "source": [
    "## To remove the unwanted columns : predata\n",
    "minus = ['Unnamed: 1', 'Unnamed: 3', 'Unnamed: 4', 'Unnamed: 6', 'Unnamed: 7', 'Unnamed: 9', 'Unnamed: 10', 'Unnamed: 12', 'Unnamed: 13', 'Unnamed: 15', 'Run by:  RDL', 'Unnamed: 19', 'Unnamed: 21', 'Unnamed: 23', 'Unnamed: 24', 'Unnamed: 25', 'Unnamed: 26', 'Unnamed: 27', 'Unnamed: 28', 'Unnamed: 29', 'Unnamed: 30']\n",
    "predata_patient.drop(minus, inplace =True, axis =1)"
   ]
  },
  {
   "cell_type": "code",
   "execution_count": 105,
   "id": "5aa980b8",
   "metadata": {},
   "outputs": [],
   "source": [
    "predata_patient.rename(columns={'SW Wales Cancer Centre': 'Date', 'Unnamed: 2': 'Time', 'Unnamed: 5':'Patient Number', \n",
    "                    'Unnamed: 8': 'Procedure Code', 'Unnamed: 11': 'Description', 'Unnamed: 14': 'Status', 'Unnamed: 16': 'In/Out Patient', 'Unnamed: 17': 'Protocol Code', \n",
    "                    'Unnamed: 20': 'Staff Initials'}, inplace = True)\n",
    "predata_patient.rename(columns={predata_patient.columns[9]: 'Location'}, inplace = True)"
   ]
  },
  {
   "cell_type": "code",
   "execution_count": 106,
   "id": "07566cef",
   "metadata": {},
   "outputs": [],
   "source": [
    "predata_patient = predata_patient.dropna(how='any',axis=0) "
   ]
  },
  {
   "cell_type": "code",
   "execution_count": 107,
   "id": "f8e17e15",
   "metadata": {},
   "outputs": [],
   "source": [
    "predata_patient.drop(['Patient Number'], inplace = True, axis = 1 )"
   ]
  },
  {
   "cell_type": "code",
   "execution_count": 108,
   "id": "d1870d2f",
   "metadata": {},
   "outputs": [],
   "source": [
    "predata_patient['Date'] = pd.to_datetime(predata_patient['Date'])"
   ]
  },
  {
   "cell_type": "code",
   "execution_count": 109,
   "id": "29d68681",
   "metadata": {},
   "outputs": [],
   "source": [
    "predata_patient = pd.DataFrame(predata_patient.groupby(['Date']).sum('Status'))"
   ]
  },
  {
   "cell_type": "code",
   "execution_count": 110,
   "id": "e3bdb727",
   "metadata": {},
   "outputs": [
    {
     "data": {
      "text/html": [
       "<div>\n",
       "<style scoped>\n",
       "    .dataframe tbody tr th:only-of-type {\n",
       "        vertical-align: middle;\n",
       "    }\n",
       "\n",
       "    .dataframe tbody tr th {\n",
       "        vertical-align: top;\n",
       "    }\n",
       "\n",
       "    .dataframe thead th {\n",
       "        text-align: right;\n",
       "    }\n",
       "</style>\n",
       "<table border=\"1\" class=\"dataframe\">\n",
       "  <thead>\n",
       "    <tr style=\"text-align: right;\">\n",
       "      <th></th>\n",
       "      <th>Status</th>\n",
       "    </tr>\n",
       "    <tr>\n",
       "      <th>Date</th>\n",
       "      <th></th>\n",
       "    </tr>\n",
       "  </thead>\n",
       "  <tbody>\n",
       "    <tr>\n",
       "      <th>2020-02-01</th>\n",
       "      <td>5.0</td>\n",
       "    </tr>\n",
       "    <tr>\n",
       "      <th>2020-02-03</th>\n",
       "      <td>55.0</td>\n",
       "    </tr>\n",
       "    <tr>\n",
       "      <th>2020-02-04</th>\n",
       "      <td>48.0</td>\n",
       "    </tr>\n",
       "    <tr>\n",
       "      <th>2020-02-05</th>\n",
       "      <td>61.0</td>\n",
       "    </tr>\n",
       "    <tr>\n",
       "      <th>2020-02-06</th>\n",
       "      <td>48.0</td>\n",
       "    </tr>\n",
       "  </tbody>\n",
       "</table>\n",
       "</div>"
      ],
      "text/plain": [
       "            Status\n",
       "Date              \n",
       "2020-02-01     5.0\n",
       "2020-02-03    55.0\n",
       "2020-02-04    48.0\n",
       "2020-02-05    61.0\n",
       "2020-02-06    48.0"
      ]
     },
     "execution_count": 110,
     "metadata": {},
     "output_type": "execute_result"
    }
   ],
   "source": [
    "predata_patient.head()"
   ]
  },
  {
   "cell_type": "code",
   "execution_count": 111,
   "id": "277bf586",
   "metadata": {},
   "outputs": [
    {
     "data": {
      "text/plain": [
       "(20, 1)"
      ]
     },
     "execution_count": 111,
     "metadata": {},
     "output_type": "execute_result"
    }
   ],
   "source": [
    "predata_patient.shape"
   ]
  },
  {
   "cell_type": "code",
   "execution_count": 112,
   "id": "1d50d1a0",
   "metadata": {},
   "outputs": [
    {
     "data": {
      "image/png": "[encoded data removed]",
      "text/plain": [
       "<Figure size 432x288 with 1 Axes>"
      ]
     },
     "execution_count": 112,
     "metadata": {},
     "output_type": "execute_result"
    },
    {
     "data": {
      "image/png": "[encoded data removed]",
      "text/plain": [
       "<Figure size 432x288 with 1 Axes>"
      ]
     },
     "metadata": {
      "needs_background": "light"
     },
     "output_type": "display_data"
    }
   ],
   "source": [
    "# Plotting ACF to calculate Moving Average\n",
    "\n",
    "plot_acf(predata_patient)"
   ]
  },
  {
   "cell_type": "code",
   "execution_count": 113,
   "id": "4f24eb85",
   "metadata": {},
   "outputs": [
    {
     "name": "stdout",
     "output_type": "stream",
     "text": [
      "Performing stepwise search to minimize aic\n",
      " ARIMA(2,0,2)(0,0,0)[0]             : AIC=171.926, Time=0.07 sec\n",
      " ARIMA(0,0,0)(0,0,0)[0]             : AIC=215.802, Time=0.01 sec\n",
      " ARIMA(1,0,0)(0,0,0)[0]             : AIC=169.205, Time=0.02 sec\n",
      " ARIMA(0,0,1)(0,0,0)[0]             : AIC=inf, Time=0.03 sec\n",
      " ARIMA(2,0,0)(0,0,0)[0]             : AIC=168.330, Time=0.06 sec\n",
      " ARIMA(3,0,0)(0,0,0)[0]             : AIC=170.069, Time=0.03 sec\n",
      " ARIMA(2,0,1)(0,0,0)[0]             : AIC=169.929, Time=0.04 sec\n",
      " ARIMA(1,0,1)(0,0,0)[0]             : AIC=168.872, Time=0.03 sec\n",
      " ARIMA(3,0,1)(0,0,0)[0]             : AIC=171.928, Time=0.05 sec\n",
      " ARIMA(2,0,0)(0,0,0)[0] intercept   : AIC=164.089, Time=0.09 sec\n",
      " ARIMA(1,0,0)(0,0,0)[0] intercept   : AIC=162.396, Time=0.04 sec\n",
      " ARIMA(0,0,0)(0,0,0)[0] intercept   : AIC=160.414, Time=0.01 sec\n",
      " ARIMA(0,0,1)(0,0,0)[0] intercept   : AIC=162.402, Time=0.04 sec\n",
      " ARIMA(1,0,1)(0,0,0)[0] intercept   : AIC=163.905, Time=0.10 sec\n",
      "\n",
      "Best model:  ARIMA(0,0,0)(0,0,0)[0] intercept\n",
      "Total fit time: 0.625 seconds\n"
     ]
    }
   ],
   "source": [
    "stepwise_fit_pre = auto_arima(predata_patient['Status'], trace = True, suppress_warnings = True, seasonal = False)"
   ]
  },
  {
   "cell_type": "code",
   "execution_count": 114,
   "id": "ab7e64c8",
   "metadata": {},
   "outputs": [
    {
     "data": {
      "text/html": [
       "<table class=\"simpletable\">\n",
       "<caption>SARIMAX Results</caption>\n",
       "<tr>\n",
       "  <th>Dep. Variable:</th>           <td>y</td>        <th>  No. Observations:  </th>   <td>20</td>   \n",
       "</tr>\n",
       "<tr>\n",
       "  <th>Model:</th>                <td>SARIMAX</td>     <th>  Log Likelihood     </th> <td>-78.207</td>\n",
       "</tr>\n",
       "<tr>\n",
       "  <th>Date:</th>            <td>Thu, 15 Dec 2022</td> <th>  AIC                </th> <td>160.414</td>\n",
       "</tr>\n",
       "<tr>\n",
       "  <th>Time:</th>                <td>10:14:17</td>     <th>  BIC                </th> <td>162.406</td>\n",
       "</tr>\n",
       "<tr>\n",
       "  <th>Sample:</th>                  <td>0</td>        <th>  HQIC               </th> <td>160.803</td>\n",
       "</tr>\n",
       "<tr>\n",
       "  <th></th>                       <td> - 20</td>      <th>                     </th>    <td> </td>   \n",
       "</tr>\n",
       "<tr>\n",
       "  <th>Covariance Type:</th>        <td>opg</td>       <th>                     </th>    <td> </td>   \n",
       "</tr>\n",
       "</table>\n",
       "<table class=\"simpletable\">\n",
       "<tr>\n",
       "      <td></td>         <th>coef</th>     <th>std err</th>      <th>z</th>      <th>P>|z|</th>  <th>[0.025</th>    <th>0.975]</th>  \n",
       "</tr>\n",
       "<tr>\n",
       "  <th>intercept</th> <td>   49.2500</td> <td>    4.374</td> <td>   11.260</td> <td> 0.000</td> <td>   40.677</td> <td>   57.823</td>\n",
       "</tr>\n",
       "<tr>\n",
       "  <th>sigma2</th>    <td>  145.8875</td> <td>   36.700</td> <td>    3.975</td> <td> 0.000</td> <td>   73.958</td> <td>  217.817</td>\n",
       "</tr>\n",
       "</table>\n",
       "<table class=\"simpletable\">\n",
       "<tr>\n",
       "  <th>Ljung-Box (L1) (Q):</th>     <td>0.01</td> <th>  Jarque-Bera (JB):  </th> <td>50.06</td>\n",
       "</tr>\n",
       "<tr>\n",
       "  <th>Prob(Q):</th>                <td>0.93</td> <th>  Prob(JB):          </th> <td>0.00</td> \n",
       "</tr>\n",
       "<tr>\n",
       "  <th>Heteroskedasticity (H):</th> <td>0.15</td> <th>  Skew:              </th> <td>-2.26</td>\n",
       "</tr>\n",
       "<tr>\n",
       "  <th>Prob(H) (two-sided):</th>    <td>0.02</td> <th>  Kurtosis:          </th> <td>9.29</td> \n",
       "</tr>\n",
       "</table><br/><br/>Warnings:<br/>[1] Covariance matrix calculated using the outer product of gradients (complex-step)."
      ],
      "text/plain": [
       "<class 'statsmodels.iolib.summary.Summary'>\n",
       "\"\"\"\n",
       "                               SARIMAX Results                                \n",
       "==============================================================================\n",
       "Dep. Variable:                      y   No. Observations:                   20\n",
       "Model:                        SARIMAX   Log Likelihood                 -78.207\n",
       "Date:                Thu, 15 Dec 2022   AIC                            160.414\n",
       "Time:                        10:14:17   BIC                            162.406\n",
       "Sample:                             0   HQIC                           160.803\n",
       "                                 - 20                                         \n",
       "Covariance Type:                  opg                                         \n",
       "==============================================================================\n",
       "                 coef    std err          z      P>|z|      [0.025      0.975]\n",
       "------------------------------------------------------------------------------\n",
       "intercept     49.2500      4.374     11.260      0.000      40.677      57.823\n",
       "sigma2       145.8875     36.700      3.975      0.000      73.958     217.817\n",
       "===================================================================================\n",
       "Ljung-Box (L1) (Q):                   0.01   Jarque-Bera (JB):                50.06\n",
       "Prob(Q):                              0.93   Prob(JB):                         0.00\n",
       "Heteroskedasticity (H):               0.15   Skew:                            -2.26\n",
       "Prob(H) (two-sided):                  0.02   Kurtosis:                         9.29\n",
       "===================================================================================\n",
       "\n",
       "Warnings:\n",
       "[1] Covariance matrix calculated using the outer product of gradients (complex-step).\n",
       "\"\"\""
      ]
     },
     "execution_count": 114,
     "metadata": {},
     "output_type": "execute_result"
    }
   ],
   "source": [
    "stepwise_fit_pre.summary()"
   ]
  },
  {
   "cell_type": "code",
   "execution_count": 115,
   "id": "a1a0e2e1",
   "metadata": {},
   "outputs": [],
   "source": [
    "pre_train = predata_patient.iloc[: 14]\n",
    "pre_test = predata_patient.iloc[14 :]"
   ]
  },
  {
   "cell_type": "code",
   "execution_count": 116,
   "id": "ba4c7096",
   "metadata": {},
   "outputs": [
    {
     "data": {
      "text/plain": [
       "(6, 1)"
      ]
     },
     "execution_count": 116,
     "metadata": {},
     "output_type": "execute_result"
    }
   ],
   "source": [
    "pre_test.shape"
   ]
  },
  {
   "cell_type": "code",
   "execution_count": 117,
   "id": "d962c954",
   "metadata": {},
   "outputs": [],
   "source": [
    "# Tried with various parameters and selected the best one (5,1,2) (4,1,5) (6,1,5) (3,1,1: very good)\n",
    "pre_model = sm.tsa.arima.ARIMA(pre_train, order = (3,1,1))\n",
    "pre_model = pre_model.fit()"
   ]
  },
  {
   "cell_type": "code",
   "execution_count": 118,
   "id": "99447c57",
   "metadata": {},
   "outputs": [],
   "source": [
    "pre_forecast = pre_model.predict(n_periods = 6)"
   ]
  },
  {
   "cell_type": "code",
   "execution_count": 119,
   "id": "4cb00d8a",
   "metadata": {
    "scrolled": true
   },
   "outputs": [
    {
     "data": {
      "text/plain": [
       "Date\n",
       "2020-02-20    63.932150\n",
       "2020-02-21    59.732827\n",
       "2020-02-24    60.992148\n",
       "2020-02-25    58.678714\n",
       "2020-02-26    60.670223\n",
       "2020-02-27    59.406103\n",
       "Name: predicted_mean, dtype: float64"
      ]
     },
     "execution_count": 119,
     "metadata": {},
     "output_type": "execute_result"
    }
   ],
   "source": [
    "pre_start = len(pre_train)\n",
    "pre_end = len(pre_train)+ len(pre_test) - 1\n",
    "pre_pred = pre_model.predict(start= pre_start, end = pre_end, typ= 'levels')\n",
    "pre_pred.index = predata_patient.index[pre_start:pre_end+1]\n",
    "pre_pred"
   ]
  },
  {
   "cell_type": "code",
   "execution_count": 120,
   "id": "8fb635e8",
   "metadata": {},
   "outputs": [
    {
     "data": {
      "text/html": [
       "<div>\n",
       "<style scoped>\n",
       "    .dataframe tbody tr th:only-of-type {\n",
       "        vertical-align: middle;\n",
       "    }\n",
       "\n",
       "    .dataframe tbody tr th {\n",
       "        vertical-align: top;\n",
       "    }\n",
       "\n",
       "    .dataframe thead th {\n",
       "        text-align: right;\n",
       "    }\n",
       "</style>\n",
       "<table border=\"1\" class=\"dataframe\">\n",
       "  <thead>\n",
       "    <tr style=\"text-align: right;\">\n",
       "      <th></th>\n",
       "      <th>Status</th>\n",
       "    </tr>\n",
       "    <tr>\n",
       "      <th>Date</th>\n",
       "      <th></th>\n",
       "    </tr>\n",
       "  </thead>\n",
       "  <tbody>\n",
       "    <tr>\n",
       "      <th>2020-02-20</th>\n",
       "      <td>46.0</td>\n",
       "    </tr>\n",
       "    <tr>\n",
       "      <th>2020-02-21</th>\n",
       "      <td>43.0</td>\n",
       "    </tr>\n",
       "    <tr>\n",
       "      <th>2020-02-24</th>\n",
       "      <td>50.0</td>\n",
       "    </tr>\n",
       "    <tr>\n",
       "      <th>2020-02-25</th>\n",
       "      <td>39.0</td>\n",
       "    </tr>\n",
       "    <tr>\n",
       "      <th>2020-02-26</th>\n",
       "      <td>50.0</td>\n",
       "    </tr>\n",
       "    <tr>\n",
       "      <th>2020-02-27</th>\n",
       "      <td>53.0</td>\n",
       "    </tr>\n",
       "  </tbody>\n",
       "</table>\n",
       "</div>"
      ],
      "text/plain": [
       "            Status\n",
       "Date              \n",
       "2020-02-20    46.0\n",
       "2020-02-21    43.0\n",
       "2020-02-24    50.0\n",
       "2020-02-25    39.0\n",
       "2020-02-26    50.0\n",
       "2020-02-27    53.0"
      ]
     },
     "execution_count": 120,
     "metadata": {},
     "output_type": "execute_result"
    }
   ],
   "source": [
    "pre_test"
   ]
  },
  {
   "cell_type": "code",
   "execution_count": 154,
   "id": "0b669aee",
   "metadata": {},
   "outputs": [
    {
     "data": {
      "image/png": "[encoded data removed]",
      "text/plain": [
       "<Figure size 720x360 with 1 Axes>"
      ]
     },
     "metadata": {
      "needs_background": "light"
     },
     "output_type": "display_data"
    }
   ],
   "source": [
    "plt.figure(figsize=(10,5))\n",
    "plt.plot(pre_pred, color = 'red')\n",
    "plt.plot(pre_test, color = 'blue')\n",
    "plt.title('Total number of visits per patient before Covid')\n",
    "plt.xlabel('Date')\n",
    "plt.ylabel('Number of Patients')\n",
    "\n",
    "plt.savefig(\"prearima.png\", dpi=700)"
   ]
  },
  {
   "cell_type": "code",
   "execution_count": 122,
   "id": "0dfe201b",
   "metadata": {},
   "outputs": [
    {
     "data": {
      "text/plain": [
       "14.517348335549036"
      ]
     },
     "execution_count": 122,
     "metadata": {},
     "output_type": "execute_result"
    }
   ],
   "source": [
    "np.sqrt(mean_squared_error(pre_test, pre_pred))"
   ]
  },
  {
   "cell_type": "code",
   "execution_count": 123,
   "id": "be020f12",
   "metadata": {},
   "outputs": [
    {
     "data": {
      "text/plain": [
       "Status    46.833333\n",
       "dtype: float64"
      ]
     },
     "execution_count": 123,
     "metadata": {},
     "output_type": "execute_result"
    }
   ],
   "source": [
    "pre_test.mean()"
   ]
  },
  {
   "cell_type": "code",
   "execution_count": 124,
   "id": "74e2bf0b",
   "metadata": {},
   "outputs": [
    {
     "data": {
      "text/plain": [
       "0.3062774265037833"
      ]
     },
     "execution_count": 124,
     "metadata": {},
     "output_type": "execute_result"
    }
   ],
   "source": [
    "mean_absolute_percentage_error(pre_test, pre_pred)"
   ]
  },
  {
   "cell_type": "markdown",
   "id": "0ddd86a8",
   "metadata": {},
   "source": [
    "ARIMA Model on Post Covid Dataset"
   ]
  },
  {
   "cell_type": "code",
   "execution_count": 125,
   "id": "fa6d068d",
   "metadata": {},
   "outputs": [],
   "source": [
    "postdata_patient = pd.read_csv('postcovid.csv', index_col=False)"
   ]
  },
  {
   "cell_type": "code",
   "execution_count": 126,
   "id": "daf490c6",
   "metadata": {},
   "outputs": [],
   "source": [
    "## To remove the unwanted columns : postdata\n",
    "minus2 = ['Unnamed: 1', 'Unnamed: 2', 'Unnamed: 4', 'Unnamed: 5', 'Unnamed: 6', 'Unnamed: 9', 'Unnamed: 10', 'Unnamed: 12', 'Unnamed: 13', 'Unnamed: 15', 'Run by:  RDL', 'Unnamed: 19', 'Unnamed: 21', 'Unnamed: 23', 'Unnamed: 24', 'Unnamed: 25', 'Unnamed: 26', 'Unnamed: 27', 'Unnamed: 28', 'Unnamed: 29']\n",
    "postdata_patient.drop(minus2, inplace =True, axis =1)"
   ]
  },
  {
   "cell_type": "code",
   "execution_count": 127,
   "id": "02c917b2",
   "metadata": {},
   "outputs": [],
   "source": [
    "postdata_patient.rename(columns={'SW Wales Cancer Centre': 'Date', 'Unnamed: 3': 'Time', 'Study Number':'Patient Number', \n",
    "                        'Unnamed: 14': 'Status', 'Unnamed: 16': 'In/Out Patient', 'Unnamed: 17': 'Protocol Code', \n",
    "                    'Unnamed: 20': 'Staff Initials'}, inplace = True)\n",
    "postdata_patient.rename(columns={postdata_patient.columns[9]: 'Location'}, inplace = True)"
   ]
  },
  {
   "cell_type": "code",
   "execution_count": 128,
   "id": "1fc1cb9c",
   "metadata": {},
   "outputs": [],
   "source": [
    "postdata_patient = postdata_patient.dropna(how='any',axis=0) "
   ]
  },
  {
   "cell_type": "code",
   "execution_count": 129,
   "id": "9cffc70e",
   "metadata": {},
   "outputs": [],
   "source": [
    "postdata_patient.drop(['Patient Number'], inplace = True, axis = 1 )"
   ]
  },
  {
   "cell_type": "code",
   "execution_count": 130,
   "id": "ae120703",
   "metadata": {},
   "outputs": [],
   "source": [
    "postdata_patient['Date'] = pd.to_datetime(postdata_patient['Date'])"
   ]
  },
  {
   "cell_type": "code",
   "execution_count": 131,
   "id": "25cbebd8",
   "metadata": {},
   "outputs": [],
   "source": [
    "postdata_patient = pd.DataFrame(postdata_patient.groupby(['Date']).sum('Status'))"
   ]
  },
  {
   "cell_type": "code",
   "execution_count": 132,
   "id": "cf839769",
   "metadata": {},
   "outputs": [
    {
     "data": {
      "text/html": [
       "<div>\n",
       "<style scoped>\n",
       "    .dataframe tbody tr th:only-of-type {\n",
       "        vertical-align: middle;\n",
       "    }\n",
       "\n",
       "    .dataframe tbody tr th {\n",
       "        vertical-align: top;\n",
       "    }\n",
       "\n",
       "    .dataframe thead th {\n",
       "        text-align: right;\n",
       "    }\n",
       "</style>\n",
       "<table border=\"1\" class=\"dataframe\">\n",
       "  <thead>\n",
       "    <tr style=\"text-align: right;\">\n",
       "      <th></th>\n",
       "      <th>Status</th>\n",
       "    </tr>\n",
       "    <tr>\n",
       "      <th>Date</th>\n",
       "      <th></th>\n",
       "    </tr>\n",
       "  </thead>\n",
       "  <tbody>\n",
       "    <tr>\n",
       "      <th>2021-02-01</th>\n",
       "      <td>39</td>\n",
       "    </tr>\n",
       "    <tr>\n",
       "      <th>2021-02-02</th>\n",
       "      <td>33</td>\n",
       "    </tr>\n",
       "    <tr>\n",
       "      <th>2021-02-03</th>\n",
       "      <td>33</td>\n",
       "    </tr>\n",
       "    <tr>\n",
       "      <th>2021-02-04</th>\n",
       "      <td>37</td>\n",
       "    </tr>\n",
       "    <tr>\n",
       "      <th>2021-02-05</th>\n",
       "      <td>30</td>\n",
       "    </tr>\n",
       "  </tbody>\n",
       "</table>\n",
       "</div>"
      ],
      "text/plain": [
       "            Status\n",
       "Date              \n",
       "2021-02-01      39\n",
       "2021-02-02      33\n",
       "2021-02-03      33\n",
       "2021-02-04      37\n",
       "2021-02-05      30"
      ]
     },
     "execution_count": 132,
     "metadata": {},
     "output_type": "execute_result"
    }
   ],
   "source": [
    "postdata_patient.head()"
   ]
  },
  {
   "cell_type": "code",
   "execution_count": 133,
   "id": "5173463e",
   "metadata": {},
   "outputs": [
    {
     "data": {
      "text/plain": [
       "(19, 1)"
      ]
     },
     "execution_count": 133,
     "metadata": {},
     "output_type": "execute_result"
    }
   ],
   "source": [
    "postdata_patient.shape"
   ]
  },
  {
   "cell_type": "code",
   "execution_count": 134,
   "id": "cd9a12fd",
   "metadata": {},
   "outputs": [
    {
     "data": {
      "image/png": "[encoded data removed]",
      "text/plain": [
       "<Figure size 432x288 with 1 Axes>"
      ]
     },
     "execution_count": 134,
     "metadata": {},
     "output_type": "execute_result"
    },
    {
     "data": {
      "image/png": "[encoded data removed]",
      "text/plain": [
       "<Figure size 432x288 with 1 Axes>"
      ]
     },
     "metadata": {
      "needs_background": "light"
     },
     "output_type": "display_data"
    }
   ],
   "source": [
    "# Plotting ACF to calculate Moving Average\n",
    "\n",
    "plot_acf(postdata_patient)"
   ]
  },
  {
   "cell_type": "code",
   "execution_count": 135,
   "id": "e58543d8",
   "metadata": {},
   "outputs": [
    {
     "name": "stdout",
     "output_type": "stream",
     "text": [
      "Performing stepwise search to minimize aic\n",
      " ARIMA(2,0,2)(0,0,0)[0]             : AIC=147.616, Time=0.07 sec\n",
      " ARIMA(0,0,0)(0,0,0)[0]             : AIC=194.768, Time=0.01 sec\n",
      " ARIMA(1,0,0)(0,0,0)[0]             : AIC=144.237, Time=0.01 sec\n",
      " ARIMA(0,0,1)(0,0,0)[0]             : AIC=inf, Time=0.02 sec\n",
      " ARIMA(2,0,0)(0,0,0)[0]             : AIC=144.734, Time=0.02 sec\n",
      " ARIMA(1,0,1)(0,0,0)[0]             : AIC=144.301, Time=0.02 sec\n",
      " ARIMA(2,0,1)(0,0,0)[0]             : AIC=145.242, Time=0.05 sec\n",
      " ARIMA(1,0,0)(0,0,0)[0] intercept   : AIC=137.048, Time=0.04 sec\n",
      " ARIMA(0,0,0)(0,0,0)[0] intercept   : AIC=136.894, Time=0.01 sec\n",
      " ARIMA(0,0,1)(0,0,0)[0] intercept   : AIC=137.340, Time=0.02 sec\n",
      " ARIMA(1,0,1)(0,0,0)[0] intercept   : AIC=139.048, Time=0.06 sec\n",
      "\n",
      "Best model:  ARIMA(0,0,0)(0,0,0)[0] intercept\n",
      "Total fit time: 0.335 seconds\n"
     ]
    }
   ],
   "source": [
    "stepwise_fit = auto_arima(postdata_patient['Status'], trace = True, suppress_warnings = True, seasonal = False)"
   ]
  },
  {
   "cell_type": "code",
   "execution_count": 136,
   "id": "56592e45",
   "metadata": {},
   "outputs": [
    {
     "data": {
      "text/html": [
       "<table class=\"simpletable\">\n",
       "<caption>SARIMAX Results</caption>\n",
       "<tr>\n",
       "  <th>Dep. Variable:</th>           <td>y</td>        <th>  No. Observations:  </th>   <td>19</td>   \n",
       "</tr>\n",
       "<tr>\n",
       "  <th>Model:</th>                <td>SARIMAX</td>     <th>  Log Likelihood     </th> <td>-66.447</td>\n",
       "</tr>\n",
       "<tr>\n",
       "  <th>Date:</th>            <td>Thu, 15 Dec 2022</td> <th>  AIC                </th> <td>136.894</td>\n",
       "</tr>\n",
       "<tr>\n",
       "  <th>Time:</th>                <td>10:14:35</td>     <th>  BIC                </th> <td>138.783</td>\n",
       "</tr>\n",
       "<tr>\n",
       "  <th>Sample:</th>             <td>02-01-2021</td>    <th>  HQIC               </th> <td>137.214</td>\n",
       "</tr>\n",
       "<tr>\n",
       "  <th></th>                   <td>- 02-25-2021</td>   <th>                     </th>    <td> </td>   \n",
       "</tr>\n",
       "<tr>\n",
       "  <th>Covariance Type:</th>        <td>opg</td>       <th>                     </th>    <td> </td>   \n",
       "</tr>\n",
       "</table>\n",
       "<table class=\"simpletable\">\n",
       "<tr>\n",
       "      <td></td>         <th>coef</th>     <th>std err</th>      <th>z</th>      <th>P>|z|</th>  <th>[0.025</th>    <th>0.975]</th>  \n",
       "</tr>\n",
       "<tr>\n",
       "  <th>intercept</th> <td>   37.7895</td> <td>    2.178</td> <td>   17.351</td> <td> 0.000</td> <td>   33.521</td> <td>   42.058</td>\n",
       "</tr>\n",
       "<tr>\n",
       "  <th>sigma2</th>    <td>   63.8504</td> <td>   17.922</td> <td>    3.563</td> <td> 0.000</td> <td>   28.724</td> <td>   98.977</td>\n",
       "</tr>\n",
       "</table>\n",
       "<table class=\"simpletable\">\n",
       "<tr>\n",
       "  <th>Ljung-Box (L1) (Q):</th>     <td>1.71</td> <th>  Jarque-Bera (JB):  </th> <td>5.97</td>\n",
       "</tr>\n",
       "<tr>\n",
       "  <th>Prob(Q):</th>                <td>0.19</td> <th>  Prob(JB):          </th> <td>0.05</td>\n",
       "</tr>\n",
       "<tr>\n",
       "  <th>Heteroskedasticity (H):</th> <td>0.44</td> <th>  Skew:              </th> <td>1.05</td>\n",
       "</tr>\n",
       "<tr>\n",
       "  <th>Prob(H) (two-sided):</th>    <td>0.34</td> <th>  Kurtosis:          </th> <td>4.77</td>\n",
       "</tr>\n",
       "</table><br/><br/>Warnings:<br/>[1] Covariance matrix calculated using the outer product of gradients (complex-step)."
      ],
      "text/plain": [
       "<class 'statsmodels.iolib.summary.Summary'>\n",
       "\"\"\"\n",
       "                               SARIMAX Results                                \n",
       "==============================================================================\n",
       "Dep. Variable:                      y   No. Observations:                   19\n",
       "Model:                        SARIMAX   Log Likelihood                 -66.447\n",
       "Date:                Thu, 15 Dec 2022   AIC                            136.894\n",
       "Time:                        10:14:35   BIC                            138.783\n",
       "Sample:                    02-01-2021   HQIC                           137.214\n",
       "                         - 02-25-2021                                         \n",
       "Covariance Type:                  opg                                         \n",
       "==============================================================================\n",
       "                 coef    std err          z      P>|z|      [0.025      0.975]\n",
       "------------------------------------------------------------------------------\n",
       "intercept     37.7895      2.178     17.351      0.000      33.521      42.058\n",
       "sigma2        63.8504     17.922      3.563      0.000      28.724      98.977\n",
       "===================================================================================\n",
       "Ljung-Box (L1) (Q):                   1.71   Jarque-Bera (JB):                 5.97\n",
       "Prob(Q):                              0.19   Prob(JB):                         0.05\n",
       "Heteroskedasticity (H):               0.44   Skew:                             1.05\n",
       "Prob(H) (two-sided):                  0.34   Kurtosis:                         4.77\n",
       "===================================================================================\n",
       "\n",
       "Warnings:\n",
       "[1] Covariance matrix calculated using the outer product of gradients (complex-step).\n",
       "\"\"\""
      ]
     },
     "execution_count": 136,
     "metadata": {},
     "output_type": "execute_result"
    }
   ],
   "source": [
    "stepwise_fit.summary()"
   ]
  },
  {
   "cell_type": "code",
   "execution_count": 137,
   "id": "97dc6e36",
   "metadata": {},
   "outputs": [],
   "source": [
    "post_train = postdata_patient.iloc[: 13]\n",
    "post_test = postdata_patient.iloc[13 :]"
   ]
  },
  {
   "cell_type": "code",
   "execution_count": 138,
   "id": "61221ee1",
   "metadata": {},
   "outputs": [
    {
     "data": {
      "text/html": [
       "<table class=\"simpletable\">\n",
       "<caption>SARIMAX Results</caption>\n",
       "<tr>\n",
       "  <th>Dep. Variable:</th>        <td>Status</td>      <th>  No. Observations:  </th>   <td>13</td>   \n",
       "</tr>\n",
       "<tr>\n",
       "  <th>Model:</th>            <td>ARIMA(4, 1, 0)</td>  <th>  Log Likelihood     </th> <td>-43.156</td>\n",
       "</tr>\n",
       "<tr>\n",
       "  <th>Date:</th>            <td>Thu, 15 Dec 2022</td> <th>  AIC                </th> <td>96.312</td> \n",
       "</tr>\n",
       "<tr>\n",
       "  <th>Time:</th>                <td>10:14:36</td>     <th>  BIC                </th> <td>98.736</td> \n",
       "</tr>\n",
       "<tr>\n",
       "  <th>Sample:</th>             <td>02-01-2021</td>    <th>  HQIC               </th> <td>95.414</td> \n",
       "</tr>\n",
       "<tr>\n",
       "  <th></th>                   <td>- 02-17-2021</td>   <th>                     </th>    <td> </td>   \n",
       "</tr>\n",
       "<tr>\n",
       "  <th>Covariance Type:</th>        <td>opg</td>       <th>                     </th>    <td> </td>   \n",
       "</tr>\n",
       "</table>\n",
       "<table class=\"simpletable\">\n",
       "<tr>\n",
       "     <td></td>       <th>coef</th>     <th>std err</th>      <th>z</th>      <th>P>|z|</th>  <th>[0.025</th>    <th>0.975]</th>  \n",
       "</tr>\n",
       "<tr>\n",
       "  <th>ar.L1</th>  <td>   -0.4129</td> <td>    0.501</td> <td>   -0.823</td> <td> 0.410</td> <td>   -1.396</td> <td>    0.570</td>\n",
       "</tr>\n",
       "<tr>\n",
       "  <th>ar.L2</th>  <td>   -0.1754</td> <td>    0.612</td> <td>   -0.286</td> <td> 0.775</td> <td>   -1.376</td> <td>    1.025</td>\n",
       "</tr>\n",
       "<tr>\n",
       "  <th>ar.L3</th>  <td>   -0.2488</td> <td>    0.420</td> <td>   -0.593</td> <td> 0.553</td> <td>   -1.071</td> <td>    0.574</td>\n",
       "</tr>\n",
       "<tr>\n",
       "  <th>ar.L4</th>  <td>   -0.3965</td> <td>    1.051</td> <td>   -0.377</td> <td> 0.706</td> <td>   -2.456</td> <td>    1.663</td>\n",
       "</tr>\n",
       "<tr>\n",
       "  <th>sigma2</th> <td>   72.5315</td> <td>   55.823</td> <td>    1.299</td> <td> 0.194</td> <td>  -36.880</td> <td>  181.943</td>\n",
       "</tr>\n",
       "</table>\n",
       "<table class=\"simpletable\">\n",
       "<tr>\n",
       "  <th>Ljung-Box (L1) (Q):</th>     <td>0.00</td> <th>  Jarque-Bera (JB):  </th> <td>16.50</td>\n",
       "</tr>\n",
       "<tr>\n",
       "  <th>Prob(Q):</th>                <td>0.97</td> <th>  Prob(JB):          </th> <td>0.00</td> \n",
       "</tr>\n",
       "<tr>\n",
       "  <th>Heteroskedasticity (H):</th> <td>0.86</td> <th>  Skew:              </th> <td>2.13</td> \n",
       "</tr>\n",
       "<tr>\n",
       "  <th>Prob(H) (two-sided):</th>    <td>0.89</td> <th>  Kurtosis:          </th> <td>6.86</td> \n",
       "</tr>\n",
       "</table><br/><br/>Warnings:<br/>[1] Covariance matrix calculated using the outer product of gradients (complex-step)."
      ],
      "text/plain": [
       "<class 'statsmodels.iolib.summary.Summary'>\n",
       "\"\"\"\n",
       "                               SARIMAX Results                                \n",
       "==============================================================================\n",
       "Dep. Variable:                 Status   No. Observations:                   13\n",
       "Model:                 ARIMA(4, 1, 0)   Log Likelihood                 -43.156\n",
       "Date:                Thu, 15 Dec 2022   AIC                             96.312\n",
       "Time:                        10:14:36   BIC                             98.736\n",
       "Sample:                    02-01-2021   HQIC                            95.414\n",
       "                         - 02-17-2021                                         \n",
       "Covariance Type:                  opg                                         \n",
       "==============================================================================\n",
       "                 coef    std err          z      P>|z|      [0.025      0.975]\n",
       "------------------------------------------------------------------------------\n",
       "ar.L1         -0.4129      0.501     -0.823      0.410      -1.396       0.570\n",
       "ar.L2         -0.1754      0.612     -0.286      0.775      -1.376       1.025\n",
       "ar.L3         -0.2488      0.420     -0.593      0.553      -1.071       0.574\n",
       "ar.L4         -0.3965      1.051     -0.377      0.706      -2.456       1.663\n",
       "sigma2        72.5315     55.823      1.299      0.194     -36.880     181.943\n",
       "===================================================================================\n",
       "Ljung-Box (L1) (Q):                   0.00   Jarque-Bera (JB):                16.50\n",
       "Prob(Q):                              0.97   Prob(JB):                         0.00\n",
       "Heteroskedasticity (H):               0.86   Skew:                             2.13\n",
       "Prob(H) (two-sided):                  0.89   Kurtosis:                         6.86\n",
       "===================================================================================\n",
       "\n",
       "Warnings:\n",
       "[1] Covariance matrix calculated using the outer product of gradients (complex-step).\n",
       "\"\"\""
      ]
     },
     "execution_count": 138,
     "metadata": {},
     "output_type": "execute_result"
    }
   ],
   "source": [
    "# Tried with various parameters and selected the best one (4,0,0) (4, 0,6) (5,0,5) (5,0,7) (5,1,7) (5,1,5) (4,1,0 : very good)\n",
    "post_model = sm.tsa.arima.ARIMA(post_train, order = (4,1,0))\n",
    "post_model = post_model.fit()\n",
    "post_model.summary()"
   ]
  },
  {
   "cell_type": "code",
   "execution_count": 139,
   "id": "5cc36c11",
   "metadata": {},
   "outputs": [
    {
     "data": {
      "text/plain": [
       "(6, 1)"
      ]
     },
     "execution_count": 139,
     "metadata": {},
     "output_type": "execute_result"
    }
   ],
   "source": [
    "post_test.shape"
   ]
  },
  {
   "cell_type": "code",
   "execution_count": 140,
   "id": "07cf26c5",
   "metadata": {},
   "outputs": [],
   "source": [
    "post_forecast = post_model.predict(n_periods = 6)"
   ]
  },
  {
   "cell_type": "code",
   "execution_count": 141,
   "id": "9e50a622",
   "metadata": {},
   "outputs": [
    {
     "data": {
      "text/plain": [
       "Date\n",
       "2021-02-18    38.423409\n",
       "2021-02-19    35.794499\n",
       "2021-02-22    38.041736\n",
       "2021-02-23    36.280121\n",
       "2021-02-24    37.099497\n",
       "2021-02-25    37.553395\n",
       "Name: predicted_mean, dtype: float64"
      ]
     },
     "execution_count": 141,
     "metadata": {},
     "output_type": "execute_result"
    }
   ],
   "source": [
    "post_start = len(post_train)\n",
    "post_end = len(post_train)+ len(post_test) - 1\n",
    "post_pred = post_model.predict(start= post_start, end = post_end, typ= 'levels')\n",
    "post_pred.index = postdata_patient.index[post_start:post_end+1]\n",
    "post_pred"
   ]
  },
  {
   "cell_type": "code",
   "execution_count": 142,
   "id": "9d429d05",
   "metadata": {},
   "outputs": [
    {
     "data": {
      "text/html": [
       "<div>\n",
       "<style scoped>\n",
       "    .dataframe tbody tr th:only-of-type {\n",
       "        vertical-align: middle;\n",
       "    }\n",
       "\n",
       "    .dataframe tbody tr th {\n",
       "        vertical-align: top;\n",
       "    }\n",
       "\n",
       "    .dataframe thead th {\n",
       "        text-align: right;\n",
       "    }\n",
       "</style>\n",
       "<table border=\"1\" class=\"dataframe\">\n",
       "  <thead>\n",
       "    <tr style=\"text-align: right;\">\n",
       "      <th></th>\n",
       "      <th>Status</th>\n",
       "    </tr>\n",
       "    <tr>\n",
       "      <th>Date</th>\n",
       "      <th></th>\n",
       "    </tr>\n",
       "  </thead>\n",
       "  <tbody>\n",
       "    <tr>\n",
       "      <th>2021-02-18</th>\n",
       "      <td>37</td>\n",
       "    </tr>\n",
       "    <tr>\n",
       "      <th>2021-02-19</th>\n",
       "      <td>35</td>\n",
       "    </tr>\n",
       "    <tr>\n",
       "      <th>2021-02-22</th>\n",
       "      <td>37</td>\n",
       "    </tr>\n",
       "    <tr>\n",
       "      <th>2021-02-23</th>\n",
       "      <td>36</td>\n",
       "    </tr>\n",
       "    <tr>\n",
       "      <th>2021-02-24</th>\n",
       "      <td>36</td>\n",
       "    </tr>\n",
       "    <tr>\n",
       "      <th>2021-02-25</th>\n",
       "      <td>22</td>\n",
       "    </tr>\n",
       "  </tbody>\n",
       "</table>\n",
       "</div>"
      ],
      "text/plain": [
       "            Status\n",
       "Date              \n",
       "2021-02-18      37\n",
       "2021-02-19      35\n",
       "2021-02-22      37\n",
       "2021-02-23      36\n",
       "2021-02-24      36\n",
       "2021-02-25      22"
      ]
     },
     "execution_count": 142,
     "metadata": {},
     "output_type": "execute_result"
    }
   ],
   "source": [
    "post_test"
   ]
  },
  {
   "cell_type": "code",
   "execution_count": 153,
   "id": "338d2de4",
   "metadata": {},
   "outputs": [
    {
     "data": {
      "image/png": "[encoded data removed]",
      "text/plain": [
       "<Figure size 720x360 with 1 Axes>"
      ]
     },
     "metadata": {
      "needs_background": "light"
     },
     "output_type": "display_data"
    }
   ],
   "source": [
    "plt.figure(figsize=(10,5))\n",
    "plt.plot(post_pred, color = 'red')\n",
    "plt.plot(post_test, color = 'blue')\n",
    "plt.title('Total number of visits per patient after Covid')\n",
    "plt.xlabel('Date')\n",
    "plt.ylabel('Number of Patients')\n",
    "\n",
    "plt.savefig(\"postarima.png\", dpi=700)"
   ]
  },
  {
   "cell_type": "code",
   "execution_count": 144,
   "id": "40fe0dae",
   "metadata": {},
   "outputs": [
    {
     "data": {
      "text/plain": [
       "6.415319971155021"
      ]
     },
     "execution_count": 144,
     "metadata": {},
     "output_type": "execute_result"
    }
   ],
   "source": [
    "np.sqrt(mean_squared_error(post_test, post_pred))"
   ]
  },
  {
   "cell_type": "code",
   "execution_count": 145,
   "id": "2632feaf",
   "metadata": {},
   "outputs": [
    {
     "data": {
      "text/plain": [
       "Status    33.833333\n",
       "dtype: float64"
      ]
     },
     "execution_count": 145,
     "metadata": {},
     "output_type": "execute_result"
    }
   ],
   "source": [
    "post_test.mean()"
   ]
  },
  {
   "cell_type": "code",
   "execution_count": 146,
   "id": "6c9e76da",
   "metadata": {},
   "outputs": [
    {
     "data": {
      "text/plain": [
       "0.13910344948621203"
      ]
     },
     "execution_count": 146,
     "metadata": {},
     "output_type": "execute_result"
    }
   ],
   "source": [
    "mean_absolute_percentage_error(post_test, post_pred)"
   ]
  },
  {
   "cell_type": "markdown",
   "id": "7cf6c4b2",
   "metadata": {},
   "source": [
    "# Predicting number of Patients for Future Date"
   ]
  },
  {
   "cell_type": "markdown",
   "id": "6ce82047",
   "metadata": {},
   "source": [
    "Below we will be predicting the number of patients visiting the hospital for future.\n",
    "Here we will be applying the model to post covid data"
   ]
  },
  {
   "cell_type": "code",
   "execution_count": 147,
   "id": "05bbf017",
   "metadata": {},
   "outputs": [],
   "source": [
    "# Predicting Future Dates\n",
    "\n",
    "model_full= sm.tsa.arima.ARIMA(postdata_patient, order = (4,1,0))\n",
    "model_full = model_full.fit()"
   ]
  },
  {
   "cell_type": "code",
   "execution_count": 148,
   "id": "3cf9ce33",
   "metadata": {},
   "outputs": [
    {
     "data": {
      "text/html": [
       "<div>\n",
       "<style scoped>\n",
       "    .dataframe tbody tr th:only-of-type {\n",
       "        vertical-align: middle;\n",
       "    }\n",
       "\n",
       "    .dataframe tbody tr th {\n",
       "        vertical-align: top;\n",
       "    }\n",
       "\n",
       "    .dataframe thead th {\n",
       "        text-align: right;\n",
       "    }\n",
       "</style>\n",
       "<table border=\"1\" class=\"dataframe\">\n",
       "  <thead>\n",
       "    <tr style=\"text-align: right;\">\n",
       "      <th></th>\n",
       "      <th>Status</th>\n",
       "    </tr>\n",
       "    <tr>\n",
       "      <th>Date</th>\n",
       "      <th></th>\n",
       "    </tr>\n",
       "  </thead>\n",
       "  <tbody>\n",
       "    <tr>\n",
       "      <th>2021-02-19</th>\n",
       "      <td>35</td>\n",
       "    </tr>\n",
       "    <tr>\n",
       "      <th>2021-02-22</th>\n",
       "      <td>37</td>\n",
       "    </tr>\n",
       "    <tr>\n",
       "      <th>2021-02-23</th>\n",
       "      <td>36</td>\n",
       "    </tr>\n",
       "    <tr>\n",
       "      <th>2021-02-24</th>\n",
       "      <td>36</td>\n",
       "    </tr>\n",
       "    <tr>\n",
       "      <th>2021-02-25</th>\n",
       "      <td>22</td>\n",
       "    </tr>\n",
       "  </tbody>\n",
       "</table>\n",
       "</div>"
      ],
      "text/plain": [
       "            Status\n",
       "Date              \n",
       "2021-02-19      35\n",
       "2021-02-22      37\n",
       "2021-02-23      36\n",
       "2021-02-24      36\n",
       "2021-02-25      22"
      ]
     },
     "execution_count": 148,
     "metadata": {},
     "output_type": "execute_result"
    }
   ],
   "source": [
    "postdata_patient.tail()"
   ]
  },
  {
   "cell_type": "code",
   "execution_count": 149,
   "id": "fe745103",
   "metadata": {},
   "outputs": [
    {
     "name": "stdout",
     "output_type": "stream",
     "text": [
      "2021-02-25    27.315567\n",
      "2021-02-26    27.886659\n",
      "2021-02-27    30.561340\n",
      "2021-02-28    33.384999\n",
      "2021-03-01    29.514688\n",
      "2021-03-02    29.689416\n",
      "2021-03-03    28.459426\n",
      "2021-03-04    28.891353\n",
      "Freq: D, Name: Number of Patients Prediction, dtype: float64\n"
     ]
    }
   ],
   "source": [
    "future_dates = pd.date_range(start = '2021-02-25', end = '2021-03-04')\n",
    "future_pred = model_full.predict(start = len(postdata_patient), end = len(postdata_patient)+7, typ= 'levels').rename('Number of Patients Prediction')\n",
    "future_pred.index = future_dates\n",
    "print(future_pred)"
   ]
  },
  {
   "cell_type": "code",
   "execution_count": 152,
   "id": "d9be3519",
   "metadata": {
    "scrolled": true
   },
   "outputs": [
    {
     "data": {
      "image/png": "[encoded data removed]",
      "text/plain": [
       "<Figure size 432x288 with 1 Axes>"
      ]
     },
     "metadata": {
      "needs_background": "light"
     },
     "output_type": "display_data"
    }
   ],
   "source": [
    "future_pred.plot(legend = True)\n",
    "plt.title('Prediction of total number of patients visiting')\n",
    "plt.xlabel('Date')\n",
    "plt.ylabel('Number of patients')\n",
    "\n",
    "plt.savefig(\"future_pred.png\", dpi=700)"
   ]
  },
  {
   "cell_type": "code",
   "execution_count": 151,
   "id": "e280ec64",
   "metadata": {},
   "outputs": [
    {
     "data": {
      "text/plain": [
       "28.45942608522868"
      ]
     },
     "execution_count": 151,
     "metadata": {},
     "output_type": "execute_result"
    }
   ],
   "source": [
    "future_pred[('2021-03-03')]"
   ]
  }
 ],
 "metadata": {
  "kernelspec": {
   "display_name": "Python 3",
   "language": "python",
   "name": "python3"
  },
  "language_info": {
   "codemirror_mode": {
    "name": "ipython",
    "version": 3
   },
   "file_extension": ".py",
   "mimetype": "text/x-python",
   "name": "python",
   "nbconvert_exporter": "python",
   "pygments_lexer": "ipython3",
   "version": "3.8.8"
  },
  "vscode": {
   "interpreter": {
    "hash": "c25269a4018224bb4e3cb6b79397037e31419b0dedc1b97e47175df2e08dbf7b"
   }
  }
 },
 "nbformat": 4,
 "nbformat_minor": 5
}
