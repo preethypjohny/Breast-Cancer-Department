{
 "cells": [
  {
   "cell_type": "code",
   "execution_count": 90,
   "id": "8b05d61a",
   "metadata": {},
   "outputs": [],
   "source": [
    "import datetime\n",
    "import random\n",
    "import pandas as pd\n",
    "import numpy as np\n",
    "from statsmodels.tsa.stattools import adfuller\n",
    "from sklearn.metrics import mean_squared_error\n",
    "from sklearn.metrics import mean_absolute_percentage_error\n",
    "from pmdarima import auto_arima\n",
    "from statsmodels.tsa.arima_model import ARIMA\n",
    "from statsmodels.graphics.tsaplots import plot_acf, plot_pacf\n",
    "import statsmodels.api as sm\n",
    "import matplotlib.pyplot as plt\n",
    "%matplotlib inline\n",
    "from faker import Faker\n",
    "import warnings\n",
    "# warnings.filterwarnings('ignore')\n",
    "import datetime\n",
    "import seaborn as sns\n",
    "from sklearn.model_selection import train_test_split\n",
    "from sklearn.linear_model import LinearRegression\n",
    "from sklearn.preprocessing import StandardScaler\n",
    "from sklearn.preprocessing import OrdinalEncoder\n",
    "from sklearn.svm import SVC\n",
    "from sklearn.metrics import confusion_matrix, accuracy_score, classification_report\n",
    "from sklearn.model_selection import GridSearchCV\n",
    "from sklearn.metrics import recall_score, precision_score\n",
    "import sklearn.metrics as metrics\n",
    "from sklearn.naive_bayes import GaussianNB\n",
    "from sklearn.model_selection import cross_val_score\n",
    "import pickle"
   ]
  },
  {
   "cell_type": "code",
   "execution_count": 2,
   "id": "70ab8be0",
   "metadata": {},
   "outputs": [],
   "source": [
    "predata = pd.read_csv('precovid.csv', index_col=False)"
   ]
  },
  {
   "cell_type": "code",
   "execution_count": 3,
   "id": "9de67f22",
   "metadata": {},
   "outputs": [
    {
     "data": {
      "text/html": [
       "<div>\n",
       "<style scoped>\n",
       "    .dataframe tbody tr th:only-of-type {\n",
       "        vertical-align: middle;\n",
       "    }\n",
       "\n",
       "    .dataframe tbody tr th {\n",
       "        vertical-align: top;\n",
       "    }\n",
       "\n",
       "    .dataframe thead th {\n",
       "        text-align: right;\n",
       "    }\n",
       "</style>\n",
       "<table border=\"1\" class=\"dataframe\">\n",
       "  <thead>\n",
       "    <tr style=\"text-align: right;\">\n",
       "      <th></th>\n",
       "      <th>SW Wales Cancer Centre</th>\n",
       "      <th>Unnamed: 1</th>\n",
       "      <th>Unnamed: 2</th>\n",
       "      <th>Unnamed: 3</th>\n",
       "      <th>Unnamed: 4</th>\n",
       "      <th>Unnamed: 5</th>\n",
       "      <th>Unnamed: 6</th>\n",
       "      <th>Unnamed: 7</th>\n",
       "      <th>Unnamed: 8</th>\n",
       "      <th>Unnamed: 9</th>\n",
       "      <th>...</th>\n",
       "      <th>Unnamed: 21</th>\n",
       "      <th>06/05/2021  07:07:27</th>\n",
       "      <th>Unnamed: 23</th>\n",
       "      <th>Unnamed: 24</th>\n",
       "      <th>Unnamed: 25</th>\n",
       "      <th>Unnamed: 26</th>\n",
       "      <th>Unnamed: 27</th>\n",
       "      <th>Unnamed: 28</th>\n",
       "      <th>Unnamed: 29</th>\n",
       "      <th>Unnamed: 30</th>\n",
       "    </tr>\n",
       "  </thead>\n",
       "  <tbody>\n",
       "    <tr>\n",
       "      <th>0</th>\n",
       "      <td>2/1/2020</td>\n",
       "      <td>NaN</td>\n",
       "      <td>10:57 AM</td>\n",
       "      <td>NaN</td>\n",
       "      <td>NaN</td>\n",
       "      <td>Patient 1</td>\n",
       "      <td>NaN</td>\n",
       "      <td>NaN</td>\n",
       "      <td>Image 01</td>\n",
       "      <td>NaN</td>\n",
       "      <td>...</td>\n",
       "      <td>NaN</td>\n",
       "      <td>LC</td>\n",
       "      <td>NaN</td>\n",
       "      <td>NaN</td>\n",
       "      <td>NaN</td>\n",
       "      <td></td>\n",
       "      <td></td>\n",
       "      <td></td>\n",
       "      <td></td>\n",
       "      <td>NaN</td>\n",
       "    </tr>\n",
       "    <tr>\n",
       "      <th>1</th>\n",
       "      <td>2/1/2020</td>\n",
       "      <td>NaN</td>\n",
       "      <td>10:57 AM</td>\n",
       "      <td>NaN</td>\n",
       "      <td>NaN</td>\n",
       "      <td>Patient 1</td>\n",
       "      <td>NaN</td>\n",
       "      <td>NaN</td>\n",
       "      <td>Met/Bone1j</td>\n",
       "      <td>NaN</td>\n",
       "      <td>...</td>\n",
       "      <td>NaN</td>\n",
       "      <td>LC</td>\n",
       "      <td>NaN</td>\n",
       "      <td>NaN</td>\n",
       "      <td>NaN</td>\n",
       "      <td></td>\n",
       "      <td></td>\n",
       "      <td></td>\n",
       "      <td></td>\n",
       "      <td>NaN</td>\n",
       "    </tr>\n",
       "    <tr>\n",
       "      <th>2</th>\n",
       "      <td>2/1/2020</td>\n",
       "      <td>NaN</td>\n",
       "      <td>11:18 AM</td>\n",
       "      <td>NaN</td>\n",
       "      <td>NaN</td>\n",
       "      <td>Patient 2</td>\n",
       "      <td>NaN</td>\n",
       "      <td>NaN</td>\n",
       "      <td>Calc</td>\n",
       "      <td>NaN</td>\n",
       "      <td>...</td>\n",
       "      <td>NaN</td>\n",
       "      <td>LC</td>\n",
       "      <td>NaN</td>\n",
       "      <td>NaN</td>\n",
       "      <td>NaN</td>\n",
       "      <td></td>\n",
       "      <td></td>\n",
       "      <td></td>\n",
       "      <td></td>\n",
       "      <td>NaN</td>\n",
       "    </tr>\n",
       "    <tr>\n",
       "      <th>3</th>\n",
       "      <td>2/1/2020</td>\n",
       "      <td>NaN</td>\n",
       "      <td>11:18 AM</td>\n",
       "      <td>NaN</td>\n",
       "      <td>NaN</td>\n",
       "      <td>Patient 2</td>\n",
       "      <td>NaN</td>\n",
       "      <td>NaN</td>\n",
       "      <td>Image 01</td>\n",
       "      <td>NaN</td>\n",
       "      <td>...</td>\n",
       "      <td>NaN</td>\n",
       "      <td>LC</td>\n",
       "      <td>NaN</td>\n",
       "      <td>NaN</td>\n",
       "      <td>NaN</td>\n",
       "      <td></td>\n",
       "      <td></td>\n",
       "      <td></td>\n",
       "      <td></td>\n",
       "      <td>NaN</td>\n",
       "    </tr>\n",
       "    <tr>\n",
       "      <th>4</th>\n",
       "      <td>2/1/2020</td>\n",
       "      <td>NaN</td>\n",
       "      <td>11:18 AM</td>\n",
       "      <td>NaN</td>\n",
       "      <td>NaN</td>\n",
       "      <td>Patient 2</td>\n",
       "      <td>NaN</td>\n",
       "      <td>NaN</td>\n",
       "      <td>Met/Bone5</td>\n",
       "      <td>NaN</td>\n",
       "      <td>...</td>\n",
       "      <td>NaN</td>\n",
       "      <td>LC</td>\n",
       "      <td>NaN</td>\n",
       "      <td>NaN</td>\n",
       "      <td>NaN</td>\n",
       "      <td></td>\n",
       "      <td></td>\n",
       "      <td></td>\n",
       "      <td></td>\n",
       "      <td>NaN</td>\n",
       "    </tr>\n",
       "  </tbody>\n",
       "</table>\n",
       "<p>5 rows × 31 columns</p>\n",
       "</div>"
      ],
      "text/plain": [
       "  SW Wales Cancer Centre  Unnamed: 1 Unnamed: 2  Unnamed: 3  Unnamed: 4  \\\n",
       "0               2/1/2020         NaN   10:57 AM         NaN         NaN   \n",
       "1               2/1/2020         NaN   10:57 AM         NaN         NaN   \n",
       "2               2/1/2020         NaN   11:18 AM         NaN         NaN   \n",
       "3               2/1/2020         NaN   11:18 AM         NaN         NaN   \n",
       "4               2/1/2020         NaN   11:18 AM         NaN         NaN   \n",
       "\n",
       "  Unnamed: 5  Unnamed: 6  Unnamed: 7  Unnamed: 8  Unnamed: 9  ...  \\\n",
       "0  Patient 1         NaN         NaN    Image 01         NaN  ...   \n",
       "1  Patient 1         NaN         NaN  Met/Bone1j         NaN  ...   \n",
       "2  Patient 2         NaN         NaN        Calc         NaN  ...   \n",
       "3  Patient 2         NaN         NaN    Image 01         NaN  ...   \n",
       "4  Patient 2         NaN         NaN   Met/Bone5         NaN  ...   \n",
       "\n",
       "   Unnamed: 21 06/05/2021  07:07:27   Unnamed: 23  Unnamed: 24  Unnamed: 25  \\\n",
       "0          NaN                    LC          NaN          NaN          NaN   \n",
       "1          NaN                    LC          NaN          NaN          NaN   \n",
       "2          NaN                    LC          NaN          NaN          NaN   \n",
       "3          NaN                    LC          NaN          NaN          NaN   \n",
       "4          NaN                    LC          NaN          NaN          NaN   \n",
       "\n",
       "  Unnamed: 26 Unnamed: 27 Unnamed: 28  Unnamed: 29  Unnamed: 30  \n",
       "0                                                           NaN  \n",
       "1                                                           NaN  \n",
       "2                                                           NaN  \n",
       "3                                                           NaN  \n",
       "4                                                           NaN  \n",
       "\n",
       "[5 rows x 31 columns]"
      ]
     },
     "execution_count": 3,
     "metadata": {},
     "output_type": "execute_result"
    }
   ],
   "source": [
    "predata.head()"
   ]
  },
  {
   "cell_type": "code",
   "execution_count": 4,
   "id": "7f5f266e",
   "metadata": {},
   "outputs": [
    {
     "data": {
      "text/plain": [
       "(991, 31)"
      ]
     },
     "execution_count": 4,
     "metadata": {},
     "output_type": "execute_result"
    }
   ],
   "source": [
    "predata.shape"
   ]
  },
  {
   "cell_type": "code",
   "execution_count": 842,
   "id": "9a2b797f",
   "metadata": {},
   "outputs": [],
   "source": [
    "postdata = pd.read_csv('postcovid.csv', index_col=False)"
   ]
  },
  {
   "cell_type": "code",
   "execution_count": 843,
   "id": "96654a80",
   "metadata": {},
   "outputs": [
    {
     "data": {
      "text/html": [
       "<div>\n",
       "<style scoped>\n",
       "    .dataframe tbody tr th:only-of-type {\n",
       "        vertical-align: middle;\n",
       "    }\n",
       "\n",
       "    .dataframe tbody tr th {\n",
       "        vertical-align: top;\n",
       "    }\n",
       "\n",
       "    .dataframe thead th {\n",
       "        text-align: right;\n",
       "    }\n",
       "</style>\n",
       "<table border=\"1\" class=\"dataframe\">\n",
       "  <thead>\n",
       "    <tr style=\"text-align: right;\">\n",
       "      <th></th>\n",
       "      <th>SW Wales Cancer Centre</th>\n",
       "      <th>Unnamed: 1</th>\n",
       "      <th>Unnamed: 2</th>\n",
       "      <th>Unnamed: 3</th>\n",
       "      <th>Unnamed: 4</th>\n",
       "      <th>Unnamed: 5</th>\n",
       "      <th>Unnamed: 6</th>\n",
       "      <th>Study Number</th>\n",
       "      <th>Procedure Code</th>\n",
       "      <th>Unnamed: 9</th>\n",
       "      <th>...</th>\n",
       "      <th>Unnamed: 20</th>\n",
       "      <th>Unnamed: 21</th>\n",
       "      <th>6/5/2021 7:05</th>\n",
       "      <th>Unnamed: 23</th>\n",
       "      <th>Unnamed: 24</th>\n",
       "      <th>Unnamed: 25</th>\n",
       "      <th>Unnamed: 26</th>\n",
       "      <th>Unnamed: 27</th>\n",
       "      <th>Unnamed: 28</th>\n",
       "      <th>Unnamed: 29</th>\n",
       "    </tr>\n",
       "  </thead>\n",
       "  <tbody>\n",
       "    <tr>\n",
       "      <th>0</th>\n",
       "      <td>2/1/2021</td>\n",
       "      <td>NaN</td>\n",
       "      <td>NaN</td>\n",
       "      <td>9:06 AM</td>\n",
       "      <td>NaN</td>\n",
       "      <td>NaN</td>\n",
       "      <td>NaN</td>\n",
       "      <td>5.0</td>\n",
       "      <td>Image 02</td>\n",
       "      <td>NaN</td>\n",
       "      <td>...</td>\n",
       "      <td>FMS</td>\n",
       "      <td>NaN</td>\n",
       "      <td>LN2</td>\n",
       "      <td>NaN</td>\n",
       "      <td>NaN</td>\n",
       "      <td>NaN</td>\n",
       "      <td></td>\n",
       "      <td></td>\n",
       "      <td></td>\n",
       "      <td></td>\n",
       "    </tr>\n",
       "    <tr>\n",
       "      <th>1</th>\n",
       "      <td>2/1/2021</td>\n",
       "      <td>NaN</td>\n",
       "      <td>NaN</td>\n",
       "      <td>9:06 AM</td>\n",
       "      <td>NaN</td>\n",
       "      <td>NaN</td>\n",
       "      <td>NaN</td>\n",
       "      <td>5.0</td>\n",
       "      <td>Breast 1q</td>\n",
       "      <td>NaN</td>\n",
       "      <td>...</td>\n",
       "      <td>FMS</td>\n",
       "      <td>NaN</td>\n",
       "      <td>LN2</td>\n",
       "      <td>NaN</td>\n",
       "      <td>NaN</td>\n",
       "      <td>NaN</td>\n",
       "      <td></td>\n",
       "      <td></td>\n",
       "      <td></td>\n",
       "      <td></td>\n",
       "    </tr>\n",
       "    <tr>\n",
       "      <th>2</th>\n",
       "      <td>2/1/2021</td>\n",
       "      <td>NaN</td>\n",
       "      <td>NaN</td>\n",
       "      <td>9:38 AM</td>\n",
       "      <td>NaN</td>\n",
       "      <td>NaN</td>\n",
       "      <td>NaN</td>\n",
       "      <td>90.0</td>\n",
       "      <td>IMRT/VMAT</td>\n",
       "      <td>NaN</td>\n",
       "      <td>...</td>\n",
       "      <td>FMS</td>\n",
       "      <td>NaN</td>\n",
       "      <td>LN2</td>\n",
       "      <td>NaN</td>\n",
       "      <td>NaN</td>\n",
       "      <td>NaN</td>\n",
       "      <td></td>\n",
       "      <td></td>\n",
       "      <td></td>\n",
       "      <td></td>\n",
       "    </tr>\n",
       "    <tr>\n",
       "      <th>3</th>\n",
       "      <td>2/1/2021</td>\n",
       "      <td>NaN</td>\n",
       "      <td>NaN</td>\n",
       "      <td>9:41 AM</td>\n",
       "      <td>NaN</td>\n",
       "      <td>NaN</td>\n",
       "      <td>NaN</td>\n",
       "      <td>49.0</td>\n",
       "      <td>IMRT/VMAT</td>\n",
       "      <td>NaN</td>\n",
       "      <td>...</td>\n",
       "      <td>FMS</td>\n",
       "      <td>NaN</td>\n",
       "      <td>LN2</td>\n",
       "      <td>NaN</td>\n",
       "      <td>NaN</td>\n",
       "      <td>NaN</td>\n",
       "      <td></td>\n",
       "      <td></td>\n",
       "      <td></td>\n",
       "      <td></td>\n",
       "    </tr>\n",
       "    <tr>\n",
       "      <th>4</th>\n",
       "      <td>2/1/2021</td>\n",
       "      <td>NaN</td>\n",
       "      <td>NaN</td>\n",
       "      <td>9:45 AM</td>\n",
       "      <td>NaN</td>\n",
       "      <td>NaN</td>\n",
       "      <td>NaN</td>\n",
       "      <td>72.0</td>\n",
       "      <td>Breast 1m</td>\n",
       "      <td>NaN</td>\n",
       "      <td>...</td>\n",
       "      <td>FMS</td>\n",
       "      <td>NaN</td>\n",
       "      <td>LN2</td>\n",
       "      <td>NaN</td>\n",
       "      <td>NaN</td>\n",
       "      <td>NaN</td>\n",
       "      <td></td>\n",
       "      <td></td>\n",
       "      <td></td>\n",
       "      <td></td>\n",
       "    </tr>\n",
       "  </tbody>\n",
       "</table>\n",
       "<p>5 rows × 30 columns</p>\n",
       "</div>"
      ],
      "text/plain": [
       "  SW Wales Cancer Centre  Unnamed: 1  Unnamed: 2 Unnamed: 3  Unnamed: 4  \\\n",
       "0               2/1/2021         NaN         NaN    9:06 AM         NaN   \n",
       "1               2/1/2021         NaN         NaN    9:06 AM         NaN   \n",
       "2               2/1/2021         NaN         NaN    9:38 AM         NaN   \n",
       "3               2/1/2021         NaN         NaN    9:41 AM         NaN   \n",
       "4               2/1/2021         NaN         NaN    9:45 AM         NaN   \n",
       "\n",
       "   Unnamed: 5  Unnamed: 6  Study Number Procedure Code  Unnamed: 9  ...  \\\n",
       "0         NaN         NaN           5.0       Image 02         NaN  ...   \n",
       "1         NaN         NaN           5.0      Breast 1q         NaN  ...   \n",
       "2         NaN         NaN          90.0      IMRT/VMAT         NaN  ...   \n",
       "3         NaN         NaN          49.0      IMRT/VMAT         NaN  ...   \n",
       "4         NaN         NaN          72.0      Breast 1m         NaN  ...   \n",
       "\n",
       "   Unnamed: 20 Unnamed: 21  6/5/2021 7:05  Unnamed: 23  Unnamed: 24  \\\n",
       "0          FMS         NaN            LN2          NaN          NaN   \n",
       "1          FMS         NaN            LN2          NaN          NaN   \n",
       "2          FMS         NaN            LN2          NaN          NaN   \n",
       "3          FMS         NaN            LN2          NaN          NaN   \n",
       "4          FMS         NaN            LN2          NaN          NaN   \n",
       "\n",
       "  Unnamed: 25 Unnamed: 26 Unnamed: 27  Unnamed: 28  Unnamed: 29  \n",
       "0         NaN                                                    \n",
       "1         NaN                                                    \n",
       "2         NaN                                                    \n",
       "3         NaN                                                    \n",
       "4         NaN                                                    \n",
       "\n",
       "[5 rows x 30 columns]"
      ]
     },
     "execution_count": 843,
     "metadata": {},
     "output_type": "execute_result"
    }
   ],
   "source": [
    "postdata.head()"
   ]
  },
  {
   "cell_type": "code",
   "execution_count": 844,
   "id": "185ab83e",
   "metadata": {},
   "outputs": [
    {
     "data": {
      "text/plain": [
       "(719, 30)"
      ]
     },
     "execution_count": 844,
     "metadata": {},
     "output_type": "execute_result"
    }
   ],
   "source": [
    "postdata.shape"
   ]
  },
  {
   "cell_type": "code",
   "execution_count": 813,
   "id": "77590c5f",
   "metadata": {},
   "outputs": [
    {
     "name": "stdout",
     "output_type": "stream",
     "text": [
      "<class 'pandas.core.frame.DataFrame'>\n",
      "Int64Index: 985 entries, 0 to 984\n",
      "Data columns (total 10 columns):\n",
      " #   Column          Non-Null Count  Dtype  \n",
      "---  ------          --------------  -----  \n",
      " 0   Date            985 non-null    object \n",
      " 1   Time            985 non-null    object \n",
      " 2   Patient Number  985 non-null    object \n",
      " 3   Procedure Code  985 non-null    object \n",
      " 4   Description     985 non-null    object \n",
      " 5   Status          985 non-null    float64\n",
      " 6   In/Out Patient  985 non-null    object \n",
      " 7   Protocol Code   985 non-null    object \n",
      " 8   Staff Initials  985 non-null    object \n",
      " 9   Location        985 non-null    object \n",
      "dtypes: float64(1), object(9)\n",
      "memory usage: 84.6+ KB\n"
     ]
    }
   ],
   "source": [
    "predata.info()"
   ]
  },
  {
   "cell_type": "code",
   "execution_count": 814,
   "id": "f1eb04f4",
   "metadata": {},
   "outputs": [
    {
     "ename": "KeyError",
     "evalue": "\"['Unnamed: 1' 'Unnamed: 3' 'Unnamed: 4' 'Unnamed: 6' 'Unnamed: 7'\\n 'Unnamed: 9' 'Unnamed: 10' 'Unnamed: 12' 'Unnamed: 13' 'Unnamed: 15'\\n 'Run by:  RDL' 'Unnamed: 19' 'Unnamed: 21' 'Unnamed: 23' 'Unnamed: 24'\\n 'Unnamed: 25' 'Unnamed: 26' 'Unnamed: 27' 'Unnamed: 28' 'Unnamed: 29'\\n 'Unnamed: 30'] not found in axis\"",
     "output_type": "error",
     "traceback": [
      "\u001b[1;31m---------------------------------------------------------------------------\u001b[0m",
      "\u001b[1;31mKeyError\u001b[0m                                  Traceback (most recent call last)",
      "\u001b[1;32m<ipython-input-814-1d4713b1b114>\u001b[0m in \u001b[0;36m<module>\u001b[1;34m\u001b[0m\n\u001b[0;32m      1\u001b[0m \u001b[1;31m## To remove the unwanted columns : predata\u001b[0m\u001b[1;33m\u001b[0m\u001b[1;33m\u001b[0m\u001b[1;33m\u001b[0m\u001b[0m\n\u001b[0;32m      2\u001b[0m \u001b[0mminus\u001b[0m \u001b[1;33m=\u001b[0m \u001b[1;33m[\u001b[0m\u001b[1;34m'Unnamed: 1'\u001b[0m\u001b[1;33m,\u001b[0m \u001b[1;34m'Unnamed: 3'\u001b[0m\u001b[1;33m,\u001b[0m \u001b[1;34m'Unnamed: 4'\u001b[0m\u001b[1;33m,\u001b[0m \u001b[1;34m'Unnamed: 6'\u001b[0m\u001b[1;33m,\u001b[0m \u001b[1;34m'Unnamed: 7'\u001b[0m\u001b[1;33m,\u001b[0m \u001b[1;34m'Unnamed: 9'\u001b[0m\u001b[1;33m,\u001b[0m \u001b[1;34m'Unnamed: 10'\u001b[0m\u001b[1;33m,\u001b[0m \u001b[1;34m'Unnamed: 12'\u001b[0m\u001b[1;33m,\u001b[0m \u001b[1;34m'Unnamed: 13'\u001b[0m\u001b[1;33m,\u001b[0m \u001b[1;34m'Unnamed: 15'\u001b[0m\u001b[1;33m,\u001b[0m \u001b[1;34m'Run by:  RDL'\u001b[0m\u001b[1;33m,\u001b[0m \u001b[1;34m'Unnamed: 19'\u001b[0m\u001b[1;33m,\u001b[0m \u001b[1;34m'Unnamed: 21'\u001b[0m\u001b[1;33m,\u001b[0m \u001b[1;34m'Unnamed: 23'\u001b[0m\u001b[1;33m,\u001b[0m \u001b[1;34m'Unnamed: 24'\u001b[0m\u001b[1;33m,\u001b[0m \u001b[1;34m'Unnamed: 25'\u001b[0m\u001b[1;33m,\u001b[0m \u001b[1;34m'Unnamed: 26'\u001b[0m\u001b[1;33m,\u001b[0m \u001b[1;34m'Unnamed: 27'\u001b[0m\u001b[1;33m,\u001b[0m \u001b[1;34m'Unnamed: 28'\u001b[0m\u001b[1;33m,\u001b[0m \u001b[1;34m'Unnamed: 29'\u001b[0m\u001b[1;33m,\u001b[0m \u001b[1;34m'Unnamed: 30'\u001b[0m\u001b[1;33m]\u001b[0m\u001b[1;33m\u001b[0m\u001b[1;33m\u001b[0m\u001b[0m\n\u001b[1;32m----> 3\u001b[1;33m \u001b[0mpredata\u001b[0m\u001b[1;33m.\u001b[0m\u001b[0mdrop\u001b[0m\u001b[1;33m(\u001b[0m\u001b[0mminus\u001b[0m\u001b[1;33m,\u001b[0m \u001b[0minplace\u001b[0m \u001b[1;33m=\u001b[0m\u001b[1;32mTrue\u001b[0m\u001b[1;33m,\u001b[0m \u001b[0maxis\u001b[0m \u001b[1;33m=\u001b[0m\u001b[1;36m1\u001b[0m\u001b[1;33m)\u001b[0m\u001b[1;33m\u001b[0m\u001b[1;33m\u001b[0m\u001b[0m\n\u001b[0m",
      "\u001b[1;32m~\\anaconda3\\lib\\site-packages\\pandas\\core\\frame.py\u001b[0m in \u001b[0;36mdrop\u001b[1;34m(self, labels, axis, index, columns, level, inplace, errors)\u001b[0m\n\u001b[0;32m   4306\u001b[0m                 \u001b[0mweight\u001b[0m  \u001b[1;36m1.0\u001b[0m     \u001b[1;36m0.8\u001b[0m\u001b[1;33m\u001b[0m\u001b[1;33m\u001b[0m\u001b[0m\n\u001b[0;32m   4307\u001b[0m         \"\"\"\n\u001b[1;32m-> 4308\u001b[1;33m         return super().drop(\n\u001b[0m\u001b[0;32m   4309\u001b[0m             \u001b[0mlabels\u001b[0m\u001b[1;33m=\u001b[0m\u001b[0mlabels\u001b[0m\u001b[1;33m,\u001b[0m\u001b[1;33m\u001b[0m\u001b[1;33m\u001b[0m\u001b[0m\n\u001b[0;32m   4310\u001b[0m             \u001b[0maxis\u001b[0m\u001b[1;33m=\u001b[0m\u001b[0maxis\u001b[0m\u001b[1;33m,\u001b[0m\u001b[1;33m\u001b[0m\u001b[1;33m\u001b[0m\u001b[0m\n",
      "\u001b[1;32m~\\anaconda3\\lib\\site-packages\\pandas\\core\\generic.py\u001b[0m in \u001b[0;36mdrop\u001b[1;34m(self, labels, axis, index, columns, level, inplace, errors)\u001b[0m\n\u001b[0;32m   4151\u001b[0m         \u001b[1;32mfor\u001b[0m \u001b[0maxis\u001b[0m\u001b[1;33m,\u001b[0m \u001b[0mlabels\u001b[0m \u001b[1;32min\u001b[0m \u001b[0maxes\u001b[0m\u001b[1;33m.\u001b[0m\u001b[0mitems\u001b[0m\u001b[1;33m(\u001b[0m\u001b[1;33m)\u001b[0m\u001b[1;33m:\u001b[0m\u001b[1;33m\u001b[0m\u001b[1;33m\u001b[0m\u001b[0m\n\u001b[0;32m   4152\u001b[0m             \u001b[1;32mif\u001b[0m \u001b[0mlabels\u001b[0m \u001b[1;32mis\u001b[0m \u001b[1;32mnot\u001b[0m \u001b[1;32mNone\u001b[0m\u001b[1;33m:\u001b[0m\u001b[1;33m\u001b[0m\u001b[1;33m\u001b[0m\u001b[0m\n\u001b[1;32m-> 4153\u001b[1;33m                 \u001b[0mobj\u001b[0m \u001b[1;33m=\u001b[0m \u001b[0mobj\u001b[0m\u001b[1;33m.\u001b[0m\u001b[0m_drop_axis\u001b[0m\u001b[1;33m(\u001b[0m\u001b[0mlabels\u001b[0m\u001b[1;33m,\u001b[0m \u001b[0maxis\u001b[0m\u001b[1;33m,\u001b[0m \u001b[0mlevel\u001b[0m\u001b[1;33m=\u001b[0m\u001b[0mlevel\u001b[0m\u001b[1;33m,\u001b[0m \u001b[0merrors\u001b[0m\u001b[1;33m=\u001b[0m\u001b[0merrors\u001b[0m\u001b[1;33m)\u001b[0m\u001b[1;33m\u001b[0m\u001b[1;33m\u001b[0m\u001b[0m\n\u001b[0m\u001b[0;32m   4154\u001b[0m \u001b[1;33m\u001b[0m\u001b[0m\n\u001b[0;32m   4155\u001b[0m         \u001b[1;32mif\u001b[0m \u001b[0minplace\u001b[0m\u001b[1;33m:\u001b[0m\u001b[1;33m\u001b[0m\u001b[1;33m\u001b[0m\u001b[0m\n",
      "\u001b[1;32m~\\anaconda3\\lib\\site-packages\\pandas\\core\\generic.py\u001b[0m in \u001b[0;36m_drop_axis\u001b[1;34m(self, labels, axis, level, errors)\u001b[0m\n\u001b[0;32m   4186\u001b[0m                 \u001b[0mnew_axis\u001b[0m \u001b[1;33m=\u001b[0m \u001b[0maxis\u001b[0m\u001b[1;33m.\u001b[0m\u001b[0mdrop\u001b[0m\u001b[1;33m(\u001b[0m\u001b[0mlabels\u001b[0m\u001b[1;33m,\u001b[0m \u001b[0mlevel\u001b[0m\u001b[1;33m=\u001b[0m\u001b[0mlevel\u001b[0m\u001b[1;33m,\u001b[0m \u001b[0merrors\u001b[0m\u001b[1;33m=\u001b[0m\u001b[0merrors\u001b[0m\u001b[1;33m)\u001b[0m\u001b[1;33m\u001b[0m\u001b[1;33m\u001b[0m\u001b[0m\n\u001b[0;32m   4187\u001b[0m             \u001b[1;32melse\u001b[0m\u001b[1;33m:\u001b[0m\u001b[1;33m\u001b[0m\u001b[1;33m\u001b[0m\u001b[0m\n\u001b[1;32m-> 4188\u001b[1;33m                 \u001b[0mnew_axis\u001b[0m \u001b[1;33m=\u001b[0m \u001b[0maxis\u001b[0m\u001b[1;33m.\u001b[0m\u001b[0mdrop\u001b[0m\u001b[1;33m(\u001b[0m\u001b[0mlabels\u001b[0m\u001b[1;33m,\u001b[0m \u001b[0merrors\u001b[0m\u001b[1;33m=\u001b[0m\u001b[0merrors\u001b[0m\u001b[1;33m)\u001b[0m\u001b[1;33m\u001b[0m\u001b[1;33m\u001b[0m\u001b[0m\n\u001b[0m\u001b[0;32m   4189\u001b[0m             \u001b[0mresult\u001b[0m \u001b[1;33m=\u001b[0m \u001b[0mself\u001b[0m\u001b[1;33m.\u001b[0m\u001b[0mreindex\u001b[0m\u001b[1;33m(\u001b[0m\u001b[1;33m**\u001b[0m\u001b[1;33m{\u001b[0m\u001b[0maxis_name\u001b[0m\u001b[1;33m:\u001b[0m \u001b[0mnew_axis\u001b[0m\u001b[1;33m}\u001b[0m\u001b[1;33m)\u001b[0m\u001b[1;33m\u001b[0m\u001b[1;33m\u001b[0m\u001b[0m\n\u001b[0;32m   4190\u001b[0m \u001b[1;33m\u001b[0m\u001b[0m\n",
      "\u001b[1;32m~\\anaconda3\\lib\\site-packages\\pandas\\core\\indexes\\base.py\u001b[0m in \u001b[0;36mdrop\u001b[1;34m(self, labels, errors)\u001b[0m\n\u001b[0;32m   5589\u001b[0m         \u001b[1;32mif\u001b[0m \u001b[0mmask\u001b[0m\u001b[1;33m.\u001b[0m\u001b[0many\u001b[0m\u001b[1;33m(\u001b[0m\u001b[1;33m)\u001b[0m\u001b[1;33m:\u001b[0m\u001b[1;33m\u001b[0m\u001b[1;33m\u001b[0m\u001b[0m\n\u001b[0;32m   5590\u001b[0m             \u001b[1;32mif\u001b[0m \u001b[0merrors\u001b[0m \u001b[1;33m!=\u001b[0m \u001b[1;34m\"ignore\"\u001b[0m\u001b[1;33m:\u001b[0m\u001b[1;33m\u001b[0m\u001b[1;33m\u001b[0m\u001b[0m\n\u001b[1;32m-> 5591\u001b[1;33m                 \u001b[1;32mraise\u001b[0m \u001b[0mKeyError\u001b[0m\u001b[1;33m(\u001b[0m\u001b[1;34mf\"{labels[mask]} not found in axis\"\u001b[0m\u001b[1;33m)\u001b[0m\u001b[1;33m\u001b[0m\u001b[1;33m\u001b[0m\u001b[0m\n\u001b[0m\u001b[0;32m   5592\u001b[0m             \u001b[0mindexer\u001b[0m \u001b[1;33m=\u001b[0m \u001b[0mindexer\u001b[0m\u001b[1;33m[\u001b[0m\u001b[1;33m~\u001b[0m\u001b[0mmask\u001b[0m\u001b[1;33m]\u001b[0m\u001b[1;33m\u001b[0m\u001b[1;33m\u001b[0m\u001b[0m\n\u001b[0;32m   5593\u001b[0m         \u001b[1;32mreturn\u001b[0m \u001b[0mself\u001b[0m\u001b[1;33m.\u001b[0m\u001b[0mdelete\u001b[0m\u001b[1;33m(\u001b[0m\u001b[0mindexer\u001b[0m\u001b[1;33m)\u001b[0m\u001b[1;33m\u001b[0m\u001b[1;33m\u001b[0m\u001b[0m\n",
      "\u001b[1;31mKeyError\u001b[0m: \"['Unnamed: 1' 'Unnamed: 3' 'Unnamed: 4' 'Unnamed: 6' 'Unnamed: 7'\\n 'Unnamed: 9' 'Unnamed: 10' 'Unnamed: 12' 'Unnamed: 13' 'Unnamed: 15'\\n 'Run by:  RDL' 'Unnamed: 19' 'Unnamed: 21' 'Unnamed: 23' 'Unnamed: 24'\\n 'Unnamed: 25' 'Unnamed: 26' 'Unnamed: 27' 'Unnamed: 28' 'Unnamed: 29'\\n 'Unnamed: 30'] not found in axis\""
     ]
    }
   ],
   "source": [
    "## To remove the unwanted columns : predata\n",
    "minus = ['Unnamed: 1', 'Unnamed: 3', 'Unnamed: 4', 'Unnamed: 6', 'Unnamed: 7', 'Unnamed: 9', 'Unnamed: 10', 'Unnamed: 12', 'Unnamed: 13', 'Unnamed: 15', 'Run by:  RDL', 'Unnamed: 19', 'Unnamed: 21', 'Unnamed: 23', 'Unnamed: 24', 'Unnamed: 25', 'Unnamed: 26', 'Unnamed: 27', 'Unnamed: 28', 'Unnamed: 29', 'Unnamed: 30']\n",
    "predata.drop(minus, inplace =True, axis =1)"
   ]
  },
  {
   "cell_type": "code",
   "execution_count": 815,
   "id": "8f423f12",
   "metadata": {},
   "outputs": [],
   "source": [
    "predata.rename(columns={'SW Wales Cancer Centre': 'Date', 'Unnamed: 2': 'Time', 'Unnamed: 5':'Patient Number', \n",
    "                    'Unnamed: 8': 'Procedure Code', 'Unnamed: 11': 'Description', 'Unnamed: 14': 'Status', 'Unnamed: 16': 'In/Out Patient', 'Unnamed: 17': 'Protocol Code', \n",
    "                    'Unnamed: 20': 'Staff Initials'}, inplace = True)\n",
    "predata.rename(columns={predata.columns[9]: 'Location'}, inplace = True)"
   ]
  },
  {
   "cell_type": "code",
   "execution_count": 816,
   "id": "5374ffbc",
   "metadata": {},
   "outputs": [],
   "source": [
    "predata['Patient Number'] = predata['Patient Number'].str.replace('Patient', '')"
   ]
  },
  {
   "cell_type": "code",
   "execution_count": 817,
   "id": "5960b08f",
   "metadata": {},
   "outputs": [],
   "source": [
    "predata = predata.dropna(how='any',axis=0) "
   ]
  },
  {
   "cell_type": "code",
   "execution_count": 13,
   "id": "4fa9f874",
   "metadata": {},
   "outputs": [
    {
     "data": {
      "text/html": [
       "<div>\n",
       "<style scoped>\n",
       "    .dataframe tbody tr th:only-of-type {\n",
       "        vertical-align: middle;\n",
       "    }\n",
       "\n",
       "    .dataframe tbody tr th {\n",
       "        vertical-align: top;\n",
       "    }\n",
       "\n",
       "    .dataframe thead th {\n",
       "        text-align: right;\n",
       "    }\n",
       "</style>\n",
       "<table border=\"1\" class=\"dataframe\">\n",
       "  <thead>\n",
       "    <tr style=\"text-align: right;\">\n",
       "      <th></th>\n",
       "      <th>Date</th>\n",
       "      <th>Time</th>\n",
       "      <th>Patient Number</th>\n",
       "      <th>Procedure Code</th>\n",
       "      <th>Description</th>\n",
       "      <th>Status</th>\n",
       "      <th>In/Out Patient</th>\n",
       "      <th>Protocol Code</th>\n",
       "      <th>Staff Initials</th>\n",
       "      <th>Location</th>\n",
       "    </tr>\n",
       "  </thead>\n",
       "  <tbody>\n",
       "    <tr>\n",
       "      <th>0</th>\n",
       "      <td>2/1/2020</td>\n",
       "      <td>10:57 AM</td>\n",
       "      <td>1</td>\n",
       "      <td>Image 01</td>\n",
       "      <td>Image Portal x1</td>\n",
       "      <td>1.0</td>\n",
       "      <td>In</td>\n",
       "      <td>C80.9 00</td>\n",
       "      <td>EEC</td>\n",
       "      <td>LC</td>\n",
       "    </tr>\n",
       "    <tr>\n",
       "      <th>1</th>\n",
       "      <td>2/1/2020</td>\n",
       "      <td>10:57 AM</td>\n",
       "      <td>1</td>\n",
       "      <td>Met/Bone1j</td>\n",
       "      <td>Sacrum/5#</td>\n",
       "      <td>1.0</td>\n",
       "      <td>In</td>\n",
       "      <td>C80.9 00</td>\n",
       "      <td>EEC</td>\n",
       "      <td>LC</td>\n",
       "    </tr>\n",
       "    <tr>\n",
       "      <th>2</th>\n",
       "      <td>2/1/2020</td>\n",
       "      <td>11:18 AM</td>\n",
       "      <td>2</td>\n",
       "      <td>Calc</td>\n",
       "      <td>Calc single/parallel</td>\n",
       "      <td>1.0</td>\n",
       "      <td>In</td>\n",
       "      <td>C50.9 01</td>\n",
       "      <td>MR</td>\n",
       "      <td>LC</td>\n",
       "    </tr>\n",
       "    <tr>\n",
       "      <th>3</th>\n",
       "      <td>2/1/2020</td>\n",
       "      <td>11:18 AM</td>\n",
       "      <td>2</td>\n",
       "      <td>Image 01</td>\n",
       "      <td>Image Portal x1</td>\n",
       "      <td>1.0</td>\n",
       "      <td>In</td>\n",
       "      <td>C50.9 01</td>\n",
       "      <td>MR</td>\n",
       "      <td>LC</td>\n",
       "    </tr>\n",
       "    <tr>\n",
       "      <th>4</th>\n",
       "      <td>2/1/2020</td>\n",
       "      <td>11:18 AM</td>\n",
       "      <td>2</td>\n",
       "      <td>Met/Bone5</td>\n",
       "      <td>Spinal Cord Comp/1#</td>\n",
       "      <td>1.0</td>\n",
       "      <td>In</td>\n",
       "      <td>C50.9 01</td>\n",
       "      <td>MR</td>\n",
       "      <td>LC</td>\n",
       "    </tr>\n",
       "    <tr>\n",
       "      <th>...</th>\n",
       "      <td>...</td>\n",
       "      <td>...</td>\n",
       "      <td>...</td>\n",
       "      <td>...</td>\n",
       "      <td>...</td>\n",
       "      <td>...</td>\n",
       "      <td>...</td>\n",
       "      <td>...</td>\n",
       "      <td>...</td>\n",
       "      <td>...</td>\n",
       "    </tr>\n",
       "    <tr>\n",
       "      <th>980</th>\n",
       "      <td>2/27/2020</td>\n",
       "      <td>4:33 PM</td>\n",
       "      <td>67</td>\n",
       "      <td>Image 02</td>\n",
       "      <td>Image Portal x2</td>\n",
       "      <td>1.0</td>\n",
       "      <td>Out</td>\n",
       "      <td>C50.9 01</td>\n",
       "      <td>MR</td>\n",
       "      <td>LC</td>\n",
       "    </tr>\n",
       "    <tr>\n",
       "      <th>981</th>\n",
       "      <td>2/27/2020</td>\n",
       "      <td>4:43 PM</td>\n",
       "      <td>26</td>\n",
       "      <td>Breast 6b</td>\n",
       "      <td>Breast Boost/5# Elec</td>\n",
       "      <td>1.0</td>\n",
       "      <td>Out</td>\n",
       "      <td>C50.9 01</td>\n",
       "      <td>MR</td>\n",
       "      <td>LC</td>\n",
       "    </tr>\n",
       "    <tr>\n",
       "      <th>982</th>\n",
       "      <td>2/27/2020</td>\n",
       "      <td>4:58 PM</td>\n",
       "      <td>89</td>\n",
       "      <td>Breast 1l</td>\n",
       "      <td>IMRT Breath Hold 15#</td>\n",
       "      <td>1.0</td>\n",
       "      <td>Out</td>\n",
       "      <td>C50.9 01</td>\n",
       "      <td>DP</td>\n",
       "      <td>LC</td>\n",
       "    </tr>\n",
       "    <tr>\n",
       "      <th>983</th>\n",
       "      <td>2/27/2020</td>\n",
       "      <td>5:08 PM</td>\n",
       "      <td>23</td>\n",
       "      <td>Breast 6b</td>\n",
       "      <td>Breast Boost/5# Elec</td>\n",
       "      <td>1.0</td>\n",
       "      <td>Out</td>\n",
       "      <td>C50.9 01</td>\n",
       "      <td>MR</td>\n",
       "      <td>LC</td>\n",
       "    </tr>\n",
       "    <tr>\n",
       "      <th>984</th>\n",
       "      <td>2/27/2020</td>\n",
       "      <td>5:22 PM</td>\n",
       "      <td>48</td>\n",
       "      <td>Breast 1m</td>\n",
       "      <td>IMRT Breast&amp;SCF 15#</td>\n",
       "      <td>1.0</td>\n",
       "      <td>Out</td>\n",
       "      <td>C50.9 01</td>\n",
       "      <td>MR</td>\n",
       "      <td>LC</td>\n",
       "    </tr>\n",
       "  </tbody>\n",
       "</table>\n",
       "<p>985 rows × 10 columns</p>\n",
       "</div>"
      ],
      "text/plain": [
       "          Date      Time Patient Number Procedure Code           Description  \\\n",
       "0     2/1/2020  10:57 AM              1       Image 01       Image Portal x1   \n",
       "1     2/1/2020  10:57 AM              1     Met/Bone1j             Sacrum/5#   \n",
       "2     2/1/2020  11:18 AM              2           Calc  Calc single/parallel   \n",
       "3     2/1/2020  11:18 AM              2       Image 01       Image Portal x1   \n",
       "4     2/1/2020  11:18 AM              2      Met/Bone5   Spinal Cord Comp/1#   \n",
       "..         ...       ...            ...            ...                   ...   \n",
       "980  2/27/2020   4:33 PM             67       Image 02       Image Portal x2   \n",
       "981  2/27/2020   4:43 PM             26      Breast 6b  Breast Boost/5# Elec   \n",
       "982  2/27/2020   4:58 PM             89      Breast 1l  IMRT Breath Hold 15#   \n",
       "983  2/27/2020   5:08 PM             23      Breast 6b  Breast Boost/5# Elec   \n",
       "984  2/27/2020   5:22 PM             48      Breast 1m   IMRT Breast&SCF 15#   \n",
       "\n",
       "     Status In/Out Patient Protocol Code Staff Initials Location  \n",
       "0       1.0             In      C80.9 00            EEC       LC  \n",
       "1       1.0             In      C80.9 00            EEC       LC  \n",
       "2       1.0             In      C50.9 01             MR       LC  \n",
       "3       1.0             In      C50.9 01             MR       LC  \n",
       "4       1.0             In      C50.9 01             MR       LC  \n",
       "..      ...            ...           ...            ...      ...  \n",
       "980     1.0            Out      C50.9 01             MR       LC  \n",
       "981     1.0            Out      C50.9 01             MR       LC  \n",
       "982     1.0            Out      C50.9 01             DP       LC  \n",
       "983     1.0            Out      C50.9 01             MR       LC  \n",
       "984     1.0            Out      C50.9 01             MR       LC  \n",
       "\n",
       "[985 rows x 10 columns]"
      ]
     },
     "execution_count": 13,
     "metadata": {},
     "output_type": "execute_result"
    }
   ],
   "source": [
    "predata"
   ]
  },
  {
   "cell_type": "code",
   "execution_count": 818,
   "id": "0f72862a",
   "metadata": {},
   "outputs": [
    {
     "name": "stdout",
     "output_type": "stream",
     "text": [
      "<class 'pandas.core.frame.DataFrame'>\n",
      "RangeIndex: 719 entries, 0 to 718\n",
      "Data columns (total 30 columns):\n",
      " #   Column                  Non-Null Count  Dtype  \n",
      "---  ------                  --------------  -----  \n",
      " 0   SW Wales Cancer Centre  719 non-null    object \n",
      " 1   Unnamed: 1              0 non-null      float64\n",
      " 2   Unnamed: 2              0 non-null      float64\n",
      " 3   Unnamed: 3              719 non-null    object \n",
      " 4   Unnamed: 4              0 non-null      float64\n",
      " 5   Unnamed: 5              0 non-null      float64\n",
      " 6   Unnamed: 6              0 non-null      float64\n",
      " 7   Study Number            718 non-null    float64\n",
      " 8   Procedure Code          719 non-null    object \n",
      " 9   Unnamed: 9              0 non-null      float64\n",
      " 10  Unnamed: 10             0 non-null      float64\n",
      " 11  Description             719 non-null    object \n",
      " 12  Unnamed: 12             0 non-null      float64\n",
      " 13  Unnamed: 13             0 non-null      float64\n",
      " 14  Unnamed: 14             719 non-null    int64  \n",
      " 15  Unnamed: 15             719 non-null    object \n",
      " 16  Unnamed: 16             719 non-null    object \n",
      " 17  Unnamed: 17             718 non-null    object \n",
      " 18  Run by:  RDL            0 non-null      float64\n",
      " 19  Unnamed: 19             0 non-null      float64\n",
      " 20  Unnamed: 20             719 non-null    object \n",
      " 21  Unnamed: 21             0 non-null      float64\n",
      " 22  6/5/2021 7:05           719 non-null    object \n",
      " 23  Unnamed: 23             0 non-null      float64\n",
      " 24  Unnamed: 24             0 non-null      float64\n",
      " 25  Unnamed: 25             0 non-null      float64\n",
      " 26  Unnamed: 26             719 non-null    object \n",
      " 27  Unnamed: 27             719 non-null    object \n",
      " 28  Unnamed: 28             719 non-null    object \n",
      " 29  Unnamed: 29             719 non-null    object \n",
      "dtypes: float64(16), int64(1), object(13)\n",
      "memory usage: 168.6+ KB\n"
     ]
    }
   ],
   "source": [
    "postdata.info()"
   ]
  },
  {
   "cell_type": "code",
   "execution_count": 845,
   "id": "39ee3676",
   "metadata": {},
   "outputs": [],
   "source": [
    "## To remove the unwanted columns : postdata\n",
    "minus1 = ['Unnamed: 1', 'Unnamed: 2', 'Unnamed: 4', 'Unnamed: 5', 'Unnamed: 6', 'Unnamed: 9', 'Unnamed: 10', 'Unnamed: 12', 'Unnamed: 13', 'Unnamed: 15', 'Run by:  RDL', 'Unnamed: 19', 'Unnamed: 21', 'Unnamed: 23', 'Unnamed: 24', 'Unnamed: 25', 'Unnamed: 26', 'Unnamed: 27', 'Unnamed: 28', 'Unnamed: 29']\n",
    "postdata.drop(minus1, inplace =True, axis =1)"
   ]
  },
  {
   "cell_type": "code",
   "execution_count": 846,
   "id": "eaed1874",
   "metadata": {},
   "outputs": [],
   "source": [
    "postdata.rename(columns={'SW Wales Cancer Centre': 'Date', 'Unnamed: 3': 'Time', 'Study Number':'Patient Number', \n",
    "                        'Unnamed: 14': 'Status', 'Unnamed: 16': 'In/Out Patient', 'Unnamed: 17': 'Protocol Code', \n",
    "                    'Unnamed: 20': 'Staff Initials'}, inplace = True)\n",
    "postdata.rename(columns={postdata.columns[9]: 'Location'}, inplace = True)"
   ]
  },
  {
   "cell_type": "code",
   "execution_count": 847,
   "id": "a31c6350",
   "metadata": {},
   "outputs": [],
   "source": [
    "postdata = postdata.dropna(how='any',axis=0) "
   ]
  },
  {
   "cell_type": "code",
   "execution_count": 848,
   "id": "2f1d1e26",
   "metadata": {},
   "outputs": [
    {
     "data": {
      "text/html": [
       "<div>\n",
       "<style scoped>\n",
       "    .dataframe tbody tr th:only-of-type {\n",
       "        vertical-align: middle;\n",
       "    }\n",
       "\n",
       "    .dataframe tbody tr th {\n",
       "        vertical-align: top;\n",
       "    }\n",
       "\n",
       "    .dataframe thead th {\n",
       "        text-align: right;\n",
       "    }\n",
       "</style>\n",
       "<table border=\"1\" class=\"dataframe\">\n",
       "  <thead>\n",
       "    <tr style=\"text-align: right;\">\n",
       "      <th></th>\n",
       "      <th>Date</th>\n",
       "      <th>Time</th>\n",
       "      <th>Patient Number</th>\n",
       "      <th>Procedure Code</th>\n",
       "      <th>Description</th>\n",
       "      <th>Status</th>\n",
       "      <th>In/Out Patient</th>\n",
       "      <th>Protocol Code</th>\n",
       "      <th>Staff Initials</th>\n",
       "      <th>Location</th>\n",
       "    </tr>\n",
       "  </thead>\n",
       "  <tbody>\n",
       "    <tr>\n",
       "      <th>0</th>\n",
       "      <td>2/1/2021</td>\n",
       "      <td>9:06 AM</td>\n",
       "      <td>5.0</td>\n",
       "      <td>Image 02</td>\n",
       "      <td>Image Portal x2</td>\n",
       "      <td>1</td>\n",
       "      <td>Out</td>\n",
       "      <td>C50.9 01</td>\n",
       "      <td>FMS</td>\n",
       "      <td>LN2</td>\n",
       "    </tr>\n",
       "    <tr>\n",
       "      <th>1</th>\n",
       "      <td>2/1/2021</td>\n",
       "      <td>9:06 AM</td>\n",
       "      <td>5.0</td>\n",
       "      <td>Breast 1q</td>\n",
       "      <td>IMRT Breath Hold 5#</td>\n",
       "      <td>1</td>\n",
       "      <td>Out</td>\n",
       "      <td>C50.9 01</td>\n",
       "      <td>FMS</td>\n",
       "      <td>LN2</td>\n",
       "    </tr>\n",
       "    <tr>\n",
       "      <th>2</th>\n",
       "      <td>2/1/2021</td>\n",
       "      <td>9:38 AM</td>\n",
       "      <td>90.0</td>\n",
       "      <td>IMRT/VMAT</td>\n",
       "      <td>Plan IMRT/VMAT</td>\n",
       "      <td>1</td>\n",
       "      <td>Out</td>\n",
       "      <td>C50.9 01</td>\n",
       "      <td>FMS</td>\n",
       "      <td>LN2</td>\n",
       "    </tr>\n",
       "    <tr>\n",
       "      <th>3</th>\n",
       "      <td>2/1/2021</td>\n",
       "      <td>9:41 AM</td>\n",
       "      <td>49.0</td>\n",
       "      <td>IMRT/VMAT</td>\n",
       "      <td>Plan IMRT/VMAT</td>\n",
       "      <td>1</td>\n",
       "      <td>Out</td>\n",
       "      <td>C50.9 01</td>\n",
       "      <td>FMS</td>\n",
       "      <td>LN2</td>\n",
       "    </tr>\n",
       "    <tr>\n",
       "      <th>4</th>\n",
       "      <td>2/1/2021</td>\n",
       "      <td>9:45 AM</td>\n",
       "      <td>72.0</td>\n",
       "      <td>Breast 1m</td>\n",
       "      <td>IMRT Breast&amp;SCF 15#</td>\n",
       "      <td>1</td>\n",
       "      <td>Out</td>\n",
       "      <td>C50.9 01</td>\n",
       "      <td>FMS</td>\n",
       "      <td>LN2</td>\n",
       "    </tr>\n",
       "    <tr>\n",
       "      <th>...</th>\n",
       "      <td>...</td>\n",
       "      <td>...</td>\n",
       "      <td>...</td>\n",
       "      <td>...</td>\n",
       "      <td>...</td>\n",
       "      <td>...</td>\n",
       "      <td>...</td>\n",
       "      <td>...</td>\n",
       "      <td>...</td>\n",
       "      <td>...</td>\n",
       "    </tr>\n",
       "    <tr>\n",
       "      <th>714</th>\n",
       "      <td>2/25/2021</td>\n",
       "      <td>12:20 PM</td>\n",
       "      <td>63.0</td>\n",
       "      <td>Met/Other</td>\n",
       "      <td>Other Mets</td>\n",
       "      <td>1</td>\n",
       "      <td>Out</td>\n",
       "      <td>C34.9 01</td>\n",
       "      <td>JFL</td>\n",
       "      <td>LN2</td>\n",
       "    </tr>\n",
       "    <tr>\n",
       "      <th>715</th>\n",
       "      <td>2/25/2021</td>\n",
       "      <td>12:36 PM</td>\n",
       "      <td>79.0</td>\n",
       "      <td>Image 30</td>\n",
       "      <td>Cone Beam</td>\n",
       "      <td>1</td>\n",
       "      <td>Out</td>\n",
       "      <td>C61.9 02</td>\n",
       "      <td>JFL</td>\n",
       "      <td>LN2</td>\n",
       "    </tr>\n",
       "    <tr>\n",
       "      <th>716</th>\n",
       "      <td>2/25/2021</td>\n",
       "      <td>12:36 PM</td>\n",
       "      <td>79.0</td>\n",
       "      <td>Urology 2v</td>\n",
       "      <td>VMAT Prostate 20#</td>\n",
       "      <td>1</td>\n",
       "      <td>Out</td>\n",
       "      <td>C61.9 02</td>\n",
       "      <td>JFL</td>\n",
       "      <td>LN2</td>\n",
       "    </tr>\n",
       "    <tr>\n",
       "      <th>717</th>\n",
       "      <td>2/25/2021</td>\n",
       "      <td>12:57 PM</td>\n",
       "      <td>80.0</td>\n",
       "      <td>Image 02</td>\n",
       "      <td>Image Portal x2</td>\n",
       "      <td>1</td>\n",
       "      <td>Out</td>\n",
       "      <td>C50.9 01</td>\n",
       "      <td>FMS</td>\n",
       "      <td>LN2</td>\n",
       "    </tr>\n",
       "    <tr>\n",
       "      <th>718</th>\n",
       "      <td>2/25/2021</td>\n",
       "      <td>12:57 PM</td>\n",
       "      <td>80.0</td>\n",
       "      <td>Breast 1m</td>\n",
       "      <td>IMRT Breast&amp;SCF 15#</td>\n",
       "      <td>1</td>\n",
       "      <td>Out</td>\n",
       "      <td>C50.9 01</td>\n",
       "      <td>FMS</td>\n",
       "      <td>LN2</td>\n",
       "    </tr>\n",
       "  </tbody>\n",
       "</table>\n",
       "<p>718 rows × 10 columns</p>\n",
       "</div>"
      ],
      "text/plain": [
       "          Date      Time  Patient Number Procedure Code          Description  \\\n",
       "0     2/1/2021   9:06 AM             5.0       Image 02      Image Portal x2   \n",
       "1     2/1/2021   9:06 AM             5.0      Breast 1q  IMRT Breath Hold 5#   \n",
       "2     2/1/2021   9:38 AM            90.0      IMRT/VMAT       Plan IMRT/VMAT   \n",
       "3     2/1/2021   9:41 AM            49.0      IMRT/VMAT       Plan IMRT/VMAT   \n",
       "4     2/1/2021   9:45 AM            72.0      Breast 1m  IMRT Breast&SCF 15#   \n",
       "..         ...       ...             ...            ...                  ...   \n",
       "714  2/25/2021  12:20 PM            63.0      Met/Other           Other Mets   \n",
       "715  2/25/2021  12:36 PM            79.0       Image 30            Cone Beam   \n",
       "716  2/25/2021  12:36 PM            79.0     Urology 2v    VMAT Prostate 20#   \n",
       "717  2/25/2021  12:57 PM            80.0       Image 02      Image Portal x2   \n",
       "718  2/25/2021  12:57 PM            80.0      Breast 1m  IMRT Breast&SCF 15#   \n",
       "\n",
       "     Status In/Out Patient Protocol Code Staff Initials Location  \n",
       "0         1            Out      C50.9 01            FMS      LN2  \n",
       "1         1            Out      C50.9 01            FMS      LN2  \n",
       "2         1            Out      C50.9 01            FMS      LN2  \n",
       "3         1            Out      C50.9 01            FMS      LN2  \n",
       "4         1            Out      C50.9 01            FMS      LN2  \n",
       "..      ...            ...           ...            ...      ...  \n",
       "714       1            Out      C34.9 01            JFL      LN2  \n",
       "715       1            Out      C61.9 02            JFL      LN2  \n",
       "716       1            Out      C61.9 02            JFL      LN2  \n",
       "717       1            Out      C50.9 01            FMS      LN2  \n",
       "718       1            Out      C50.9 01            FMS      LN2  \n",
       "\n",
       "[718 rows x 10 columns]"
      ]
     },
     "execution_count": 848,
     "metadata": {},
     "output_type": "execute_result"
    }
   ],
   "source": [
    "postdata"
   ]
  },
  {
   "cell_type": "code",
   "execution_count": 260,
   "id": "1a5eab30",
   "metadata": {},
   "outputs": [],
   "source": [
    "# pre_staff_patients = predata['Staff Initials'].value_counts()"
   ]
  },
  {
   "cell_type": "code",
   "execution_count": 261,
   "id": "b4381278",
   "metadata": {},
   "outputs": [],
   "source": [
    "# pre_staff = pre_staff_patients.index.values"
   ]
  },
  {
   "cell_type": "code",
   "execution_count": 262,
   "id": "644717b4",
   "metadata": {},
   "outputs": [
    {
     "data": {
      "text/plain": [
       "array(['FMS', 'MR', 'DP', 'VV', 'EEC', 'JFL', 'RET', 'MP', 'AB', 'SG',\n",
       "       'RD', 'RB', 'KR'], dtype=object)"
      ]
     },
     "execution_count": 262,
     "metadata": {},
     "output_type": "execute_result"
    }
   ],
   "source": [
    "# pre_staff"
   ]
  },
  {
   "cell_type": "code",
   "execution_count": 263,
   "id": "f36b13f2",
   "metadata": {},
   "outputs": [
    {
     "data": {
      "text/plain": [
       "array(['FMS', 'MR', 'SG', 'MP', 'RD', 'EEC', 'RB', 'JFL', 'VV', 'CP',\n",
       "       'AB', 'RET', 'PB', 'DP'], dtype=object)"
      ]
     },
     "execution_count": 263,
     "metadata": {},
     "output_type": "execute_result"
    }
   ],
   "source": [
    "# post_staff_patients = postdata['Staff Initials'].value_counts()\n",
    "# post_staff = post_staff_patients.index.values\n",
    "# post_staff"
   ]
  },
  {
   "cell_type": "code",
   "execution_count": 333,
   "id": "5fd4054b",
   "metadata": {},
   "outputs": [
    {
     "name": "stdout",
     "output_type": "stream",
     "text": [
      "<class 'pandas.core.frame.DataFrame'>\n",
      "Int64Index: 985 entries, 0 to 984\n",
      "Data columns (total 10 columns):\n",
      " #   Column          Non-Null Count  Dtype  \n",
      "---  ------          --------------  -----  \n",
      " 0   Date            985 non-null    object \n",
      " 1   Time            985 non-null    object \n",
      " 2   Patient Number  985 non-null    object \n",
      " 3   Procedure Code  985 non-null    object \n",
      " 4   Description     985 non-null    object \n",
      " 5   Status          985 non-null    float64\n",
      " 6   In/Out Patient  985 non-null    object \n",
      " 7   Protocol Code   985 non-null    object \n",
      " 8   Staff Initials  985 non-null    object \n",
      " 9   Location        985 non-null    object \n",
      "dtypes: float64(1), object(9)\n",
      "memory usage: 84.6+ KB\n"
     ]
    }
   ],
   "source": [
    "predata.info()"
   ]
  },
  {
   "cell_type": "code",
   "execution_count": 265,
   "id": "8bb06e7b",
   "metadata": {},
   "outputs": [],
   "source": [
    "predata['Date'] = pd.to_datetime(predata['Date'])\n",
    "predata['Time'] = pd.to_datetime(predata['Time'])"
   ]
  },
  {
   "cell_type": "code",
   "execution_count": 266,
   "id": "ad1b4b71",
   "metadata": {},
   "outputs": [
    {
     "name": "stdout",
     "output_type": "stream",
     "text": [
      "<class 'pandas.core.frame.DataFrame'>\n",
      "Int64Index: 985 entries, 0 to 984\n",
      "Data columns (total 10 columns):\n",
      " #   Column          Non-Null Count  Dtype         \n",
      "---  ------          --------------  -----         \n",
      " 0   Date            985 non-null    datetime64[ns]\n",
      " 1   Time            985 non-null    datetime64[ns]\n",
      " 2   Patient Number  985 non-null    object        \n",
      " 3   Procedure Code  985 non-null    object        \n",
      " 4   Description     985 non-null    object        \n",
      " 5   Status          985 non-null    float64       \n",
      " 6   In/Out Patient  985 non-null    object        \n",
      " 7   Protocol Code   985 non-null    object        \n",
      " 8   Staff Initials  985 non-null    object        \n",
      " 9   Location        985 non-null    object        \n",
      "dtypes: datetime64[ns](2), float64(1), object(7)\n",
      "memory usage: 84.6+ KB\n"
     ]
    }
   ],
   "source": [
    "predata.info()"
   ]
  },
  {
   "cell_type": "code",
   "execution_count": 267,
   "id": "60a3f9a4",
   "metadata": {},
   "outputs": [],
   "source": [
    "# Date = predata['Date']\n",
    "# Time = predata['Time']"
   ]
  },
  {
   "cell_type": "code",
   "execution_count": 268,
   "id": "ec3d75d9",
   "metadata": {},
   "outputs": [
    {
     "data": {
      "text/plain": [
       "0     2022-12-01 10:57:00\n",
       "1     2022-12-01 10:57:00\n",
       "2     2022-12-01 11:18:00\n",
       "3     2022-12-01 11:18:00\n",
       "4     2022-12-01 11:18:00\n",
       "              ...        \n",
       "980   2022-12-01 16:33:00\n",
       "981   2022-12-01 16:43:00\n",
       "982   2022-12-01 16:58:00\n",
       "983   2022-12-01 17:08:00\n",
       "984   2022-12-01 17:22:00\n",
       "Name: Time, Length: 985, dtype: datetime64[ns]"
      ]
     },
     "execution_count": 268,
     "metadata": {},
     "output_type": "execute_result"
    }
   ],
   "source": [
    "Time"
   ]
  },
  {
   "cell_type": "code",
   "execution_count": 270,
   "id": "e7a07e43",
   "metadata": {},
   "outputs": [],
   "source": [
    "# predata['DateTime'] = datetime.datetime.combine(Date.date, Time.time())"
   ]
  },
  {
   "cell_type": "code",
   "execution_count": 19,
   "id": "6de46204",
   "metadata": {},
   "outputs": [
    {
     "data": {
      "text/html": [
       "<div>\n",
       "<style scoped>\n",
       "    .dataframe tbody tr th:only-of-type {\n",
       "        vertical-align: middle;\n",
       "    }\n",
       "\n",
       "    .dataframe tbody tr th {\n",
       "        vertical-align: top;\n",
       "    }\n",
       "\n",
       "    .dataframe thead th {\n",
       "        text-align: right;\n",
       "    }\n",
       "</style>\n",
       "<table border=\"1\" class=\"dataframe\">\n",
       "  <thead>\n",
       "    <tr style=\"text-align: right;\">\n",
       "      <th></th>\n",
       "      <th>Date</th>\n",
       "      <th>Time</th>\n",
       "      <th>Patient Number</th>\n",
       "      <th>Procedure Code</th>\n",
       "      <th>Description</th>\n",
       "      <th>Status</th>\n",
       "      <th>In/Out Patient</th>\n",
       "      <th>Protocol Code</th>\n",
       "      <th>Staff Initials</th>\n",
       "      <th>Location</th>\n",
       "    </tr>\n",
       "  </thead>\n",
       "  <tbody>\n",
       "    <tr>\n",
       "      <th>0</th>\n",
       "      <td>2/1/2020</td>\n",
       "      <td>10:57 AM</td>\n",
       "      <td>1</td>\n",
       "      <td>Image 01</td>\n",
       "      <td>Image Portal x1</td>\n",
       "      <td>1.0</td>\n",
       "      <td>In</td>\n",
       "      <td>C80.9 00</td>\n",
       "      <td>EEC</td>\n",
       "      <td>LC</td>\n",
       "    </tr>\n",
       "    <tr>\n",
       "      <th>1</th>\n",
       "      <td>2/1/2020</td>\n",
       "      <td>10:57 AM</td>\n",
       "      <td>1</td>\n",
       "      <td>Met/Bone1j</td>\n",
       "      <td>Sacrum/5#</td>\n",
       "      <td>1.0</td>\n",
       "      <td>In</td>\n",
       "      <td>C80.9 00</td>\n",
       "      <td>EEC</td>\n",
       "      <td>LC</td>\n",
       "    </tr>\n",
       "    <tr>\n",
       "      <th>2</th>\n",
       "      <td>2/1/2020</td>\n",
       "      <td>11:18 AM</td>\n",
       "      <td>2</td>\n",
       "      <td>Calc</td>\n",
       "      <td>Calc single/parallel</td>\n",
       "      <td>1.0</td>\n",
       "      <td>In</td>\n",
       "      <td>C50.9 01</td>\n",
       "      <td>MR</td>\n",
       "      <td>LC</td>\n",
       "    </tr>\n",
       "    <tr>\n",
       "      <th>3</th>\n",
       "      <td>2/1/2020</td>\n",
       "      <td>11:18 AM</td>\n",
       "      <td>2</td>\n",
       "      <td>Image 01</td>\n",
       "      <td>Image Portal x1</td>\n",
       "      <td>1.0</td>\n",
       "      <td>In</td>\n",
       "      <td>C50.9 01</td>\n",
       "      <td>MR</td>\n",
       "      <td>LC</td>\n",
       "    </tr>\n",
       "    <tr>\n",
       "      <th>4</th>\n",
       "      <td>2/1/2020</td>\n",
       "      <td>11:18 AM</td>\n",
       "      <td>2</td>\n",
       "      <td>Met/Bone5</td>\n",
       "      <td>Spinal Cord Comp/1#</td>\n",
       "      <td>1.0</td>\n",
       "      <td>In</td>\n",
       "      <td>C50.9 01</td>\n",
       "      <td>MR</td>\n",
       "      <td>LC</td>\n",
       "    </tr>\n",
       "    <tr>\n",
       "      <th>...</th>\n",
       "      <td>...</td>\n",
       "      <td>...</td>\n",
       "      <td>...</td>\n",
       "      <td>...</td>\n",
       "      <td>...</td>\n",
       "      <td>...</td>\n",
       "      <td>...</td>\n",
       "      <td>...</td>\n",
       "      <td>...</td>\n",
       "      <td>...</td>\n",
       "    </tr>\n",
       "    <tr>\n",
       "      <th>980</th>\n",
       "      <td>2/27/2020</td>\n",
       "      <td>4:33 PM</td>\n",
       "      <td>67</td>\n",
       "      <td>Image 02</td>\n",
       "      <td>Image Portal x2</td>\n",
       "      <td>1.0</td>\n",
       "      <td>Out</td>\n",
       "      <td>C50.9 01</td>\n",
       "      <td>MR</td>\n",
       "      <td>LC</td>\n",
       "    </tr>\n",
       "    <tr>\n",
       "      <th>981</th>\n",
       "      <td>2/27/2020</td>\n",
       "      <td>4:43 PM</td>\n",
       "      <td>26</td>\n",
       "      <td>Breast 6b</td>\n",
       "      <td>Breast Boost/5# Elec</td>\n",
       "      <td>1.0</td>\n",
       "      <td>Out</td>\n",
       "      <td>C50.9 01</td>\n",
       "      <td>MR</td>\n",
       "      <td>LC</td>\n",
       "    </tr>\n",
       "    <tr>\n",
       "      <th>982</th>\n",
       "      <td>2/27/2020</td>\n",
       "      <td>4:58 PM</td>\n",
       "      <td>89</td>\n",
       "      <td>Breast 1l</td>\n",
       "      <td>IMRT Breath Hold 15#</td>\n",
       "      <td>1.0</td>\n",
       "      <td>Out</td>\n",
       "      <td>C50.9 01</td>\n",
       "      <td>DP</td>\n",
       "      <td>LC</td>\n",
       "    </tr>\n",
       "    <tr>\n",
       "      <th>983</th>\n",
       "      <td>2/27/2020</td>\n",
       "      <td>5:08 PM</td>\n",
       "      <td>23</td>\n",
       "      <td>Breast 6b</td>\n",
       "      <td>Breast Boost/5# Elec</td>\n",
       "      <td>1.0</td>\n",
       "      <td>Out</td>\n",
       "      <td>C50.9 01</td>\n",
       "      <td>MR</td>\n",
       "      <td>LC</td>\n",
       "    </tr>\n",
       "    <tr>\n",
       "      <th>984</th>\n",
       "      <td>2/27/2020</td>\n",
       "      <td>5:22 PM</td>\n",
       "      <td>48</td>\n",
       "      <td>Breast 1m</td>\n",
       "      <td>IMRT Breast&amp;SCF 15#</td>\n",
       "      <td>1.0</td>\n",
       "      <td>Out</td>\n",
       "      <td>C50.9 01</td>\n",
       "      <td>MR</td>\n",
       "      <td>LC</td>\n",
       "    </tr>\n",
       "  </tbody>\n",
       "</table>\n",
       "<p>985 rows × 10 columns</p>\n",
       "</div>"
      ],
      "text/plain": [
       "          Date      Time Patient Number Procedure Code           Description  \\\n",
       "0     2/1/2020  10:57 AM              1       Image 01       Image Portal x1   \n",
       "1     2/1/2020  10:57 AM              1     Met/Bone1j             Sacrum/5#   \n",
       "2     2/1/2020  11:18 AM              2           Calc  Calc single/parallel   \n",
       "3     2/1/2020  11:18 AM              2       Image 01       Image Portal x1   \n",
       "4     2/1/2020  11:18 AM              2      Met/Bone5   Spinal Cord Comp/1#   \n",
       "..         ...       ...            ...            ...                   ...   \n",
       "980  2/27/2020   4:33 PM             67       Image 02       Image Portal x2   \n",
       "981  2/27/2020   4:43 PM             26      Breast 6b  Breast Boost/5# Elec   \n",
       "982  2/27/2020   4:58 PM             89      Breast 1l  IMRT Breath Hold 15#   \n",
       "983  2/27/2020   5:08 PM             23      Breast 6b  Breast Boost/5# Elec   \n",
       "984  2/27/2020   5:22 PM             48      Breast 1m   IMRT Breast&SCF 15#   \n",
       "\n",
       "     Status In/Out Patient Protocol Code Staff Initials Location  \n",
       "0       1.0             In      C80.9 00            EEC       LC  \n",
       "1       1.0             In      C80.9 00            EEC       LC  \n",
       "2       1.0             In      C50.9 01             MR       LC  \n",
       "3       1.0             In      C50.9 01             MR       LC  \n",
       "4       1.0             In      C50.9 01             MR       LC  \n",
       "..      ...            ...           ...            ...      ...  \n",
       "980     1.0            Out      C50.9 01             MR       LC  \n",
       "981     1.0            Out      C50.9 01             MR       LC  \n",
       "982     1.0            Out      C50.9 01             DP       LC  \n",
       "983     1.0            Out      C50.9 01             MR       LC  \n",
       "984     1.0            Out      C50.9 01             MR       LC  \n",
       "\n",
       "[985 rows x 10 columns]"
      ]
     },
     "execution_count": 19,
     "metadata": {},
     "output_type": "execute_result"
    }
   ],
   "source": [
    "predata"
   ]
  },
  {
   "cell_type": "code",
   "execution_count": 20,
   "id": "c08dcad2",
   "metadata": {},
   "outputs": [
    {
     "data": {
      "text/plain": [
       "IMRT Breast 15#         271\n",
       "Image Portal x2         261\n",
       "IMRT Breath Hold 15#    195\n",
       "IMRT Breast&SCF 15#      74\n",
       "Plan IMRT/VMAT           51\n",
       "Image Portal x1          23\n",
       "Breast Boost/5# Elec     22\n",
       "Calc single/parallel     21\n",
       "Rectum IMRT/25#/45Gy     13\n",
       "Trial Set Up              6\n",
       "Technical support         6\n",
       "S'Clav/Axilla 15#         4\n",
       "T-Spine/1#                3\n",
       "Image Portal x3           3\n",
       "Brain Mets/5#             3\n",
       "IMRT Brain/60Gy/30#       3\n",
       "Pelvis/1#                 2\n",
       "L-Spine/1#                2\n",
       "T-Spine/5#                2\n",
       "Sacrum/5#                 2\n",
       "SCF nodes/5#              2\n",
       "Image Portal x4           2\n",
       "Ribs/1#                   2\n",
       "NHL1-5#                   2\n",
       "Spinal Cord Comp/1#       1\n",
       "Cervix/5# No Plan         1\n",
       "Myeloma 5#                1\n",
       "Lower GI/OffProtocol      1\n",
       "IMRT Brain OffProtol      1\n",
       "Pelvis/5#                 1\n",
       "PCI/10#                   1\n",
       "Upper GI/1#               1\n",
       "Lung/1#                   1\n",
       "H&N/1#                    1\n",
       "Name: Description, dtype: int64"
      ]
     },
     "execution_count": 20,
     "metadata": {},
     "output_type": "execute_result"
    }
   ],
   "source": [
    "predata_description = predata['Description'].value_counts()\n",
    "predata_description.count()\n",
    "predata_description"
   ]
  },
  {
   "cell_type": "code",
   "execution_count": 21,
   "id": "0f2dfc42",
   "metadata": {},
   "outputs": [
    {
     "data": {
      "text/plain": [
       "34"
      ]
     },
     "execution_count": 21,
     "metadata": {},
     "output_type": "execute_result"
    }
   ],
   "source": [
    "predata_procedurecode = predata['Procedure Code'].value_counts()\n",
    "predata_procedurecode\n",
    "predata_procedurecode.count()"
   ]
  },
  {
   "cell_type": "code",
   "execution_count": 22,
   "id": "4a3c1cf0",
   "metadata": {},
   "outputs": [
    {
     "data": {
      "text/plain": [
       "C50.9 01    886\n",
       "C20.9 01     19\n",
       "C50.8 06     14\n",
       "C54.1 01     12\n",
       "C34.9 01     10\n",
       "C80.9 00     10\n",
       "C900          8\n",
       "C55.9 01      6\n",
       "C71.9 01      4\n",
       "C18.9 01      3\n",
       "C15.9 00      3\n",
       "C07.9 02      2\n",
       "C71.2 01      2\n",
       "C52.9 01      2\n",
       "C857          2\n",
       "C75.9 00      2\n",
       "Name: Protocol Code, dtype: int64"
      ]
     },
     "execution_count": 22,
     "metadata": {},
     "output_type": "execute_result"
    }
   ],
   "source": [
    "predata_protocolcode = predata['Protocol Code'].value_counts()\n",
    "predata_protocolcode.count()\n",
    "predata_protocolcode"
   ]
  },
  {
   "cell_type": "markdown",
   "id": "282786d7",
   "metadata": {},
   "source": [
    "# Changing str values to numeric values for regression/ One Hot Encoding"
   ]
  },
  {
   "cell_type": "code",
   "execution_count": null,
   "id": "84641355",
   "metadata": {},
   "outputs": [],
   "source": [
    "# dummy_predata = pd.get_dummies(predata, columns = ['Procedure Code'], prefix = 'Procedure', drop_first= True)\n",
    "# dummy_predata"
   ]
  },
  {
   "cell_type": "code",
   "execution_count": null,
   "id": "d7993530",
   "metadata": {},
   "outputs": [],
   "source": [
    "# dummy_predata.drop(columns = ['Date', 'Time', 'Patient Number','Description', 'Status', 'Staff Initials', 'Location'], inplace = True)"
   ]
  },
  {
   "cell_type": "code",
   "execution_count": null,
   "id": "60bcd7a6",
   "metadata": {},
   "outputs": [],
   "source": [
    "# dummy_predata"
   ]
  },
  {
   "cell_type": "code",
   "execution_count": null,
   "id": "0bc71c4e",
   "metadata": {},
   "outputs": [],
   "source": [
    "# dummy_predata = pd.get_dummies(predata, columns = ['In/Out Patient', 'Protocol Code', 'Procedure Code'], drop_first= True)"
   ]
  },
  {
   "cell_type": "code",
   "execution_count": null,
   "id": "1e7e757b",
   "metadata": {
    "scrolled": true
   },
   "outputs": [],
   "source": [
    "# dummy_predata"
   ]
  },
  {
   "cell_type": "code",
   "execution_count": null,
   "id": "81cf6c7a",
   "metadata": {},
   "outputs": [],
   "source": [
    "# dummy_predata.drop(columns = ['Date', 'Time', 'Patient Number','Description', 'Status', 'Staff Initials', 'Location'], inplace = True)"
   ]
  },
  {
   "cell_type": "code",
   "execution_count": null,
   "id": "c59b66e6",
   "metadata": {},
   "outputs": [],
   "source": [
    "# dummy_predata"
   ]
  },
  {
   "cell_type": "code",
   "execution_count": null,
   "id": "07fe5450",
   "metadata": {},
   "outputs": [],
   "source": [
    "# dummy_predata.corr()"
   ]
  },
  {
   "cell_type": "code",
   "execution_count": null,
   "id": "4e18aff6",
   "metadata": {},
   "outputs": [],
   "source": [
    "# ## Independent and Dependent Features\n",
    "# X= dummy_predata.iloc[:,1:]\n",
    "# y= dummy_predata.iloc[:,:1]"
   ]
  },
  {
   "cell_type": "code",
   "execution_count": null,
   "id": "a88da6f2",
   "metadata": {},
   "outputs": [],
   "source": [
    "# ## Train Test Split\n",
    "# X_train, X_test, y_train, y_test = train_test_split(X, y, test_size = 0.3)"
   ]
  },
  {
   "cell_type": "code",
   "execution_count": null,
   "id": "41473aea",
   "metadata": {},
   "outputs": [],
   "source": [
    "# ## Normalize the dataset\n",
    "# scaler = StandardScaler()"
   ]
  },
  {
   "cell_type": "code",
   "execution_count": null,
   "id": "676e7efe",
   "metadata": {},
   "outputs": [],
   "source": [
    "# X_train = scaler.fit_transform(X_train)\n",
    "# X_test = scaler.fit_transform(X_test)\n",
    "# y_train = scaler.fit_transform(y_train)\n",
    "# y_test = scaler.fit_transform(y_test)"
   ]
  },
  {
   "cell_type": "code",
   "execution_count": null,
   "id": "5170a9b1",
   "metadata": {},
   "outputs": [],
   "source": [
    "# linear_regression = LinearRegression()"
   ]
  },
  {
   "cell_type": "code",
   "execution_count": null,
   "id": "3367b8fe",
   "metadata": {},
   "outputs": [],
   "source": [
    "# linear_regression.fit(X_train, y_train)"
   ]
  },
  {
   "cell_type": "code",
   "execution_count": null,
   "id": "dfab1be8",
   "metadata": {},
   "outputs": [],
   "source": [
    "# linear_regression.get_params()"
   ]
  },
  {
   "cell_type": "code",
   "execution_count": null,
   "id": "24aa735d",
   "metadata": {},
   "outputs": [],
   "source": [
    "# ## Prediction using Test data\n",
    "\n",
    "# pred = linear_regression.predict(X_test)"
   ]
  },
  {
   "cell_type": "code",
   "execution_count": null,
   "id": "01dfd375",
   "metadata": {},
   "outputs": [],
   "source": [
    "# pred"
   ]
  },
  {
   "cell_type": "code",
   "execution_count": null,
   "id": "a37e492c",
   "metadata": {},
   "outputs": [],
   "source": [
    "# y_test"
   ]
  },
  {
   "cell_type": "code",
   "execution_count": null,
   "id": "20e6bbe5",
   "metadata": {},
   "outputs": [],
   "source": [
    "# ## plot a scatter plot for pred\n",
    "\n",
    "# plt.scatter(pred, y_test)"
   ]
  },
  {
   "cell_type": "code",
   "execution_count": null,
   "id": "60e4c055",
   "metadata": {},
   "outputs": [],
   "source": [
    "### Not Successful"
   ]
  },
  {
   "cell_type": "markdown",
   "id": "ca1dfd77",
   "metadata": {},
   "source": [
    "# Classification Model"
   ]
  },
  {
   "cell_type": "code",
   "execution_count": 23,
   "id": "05e3dc79",
   "metadata": {},
   "outputs": [],
   "source": [
    "## Frequency Encoding\n",
    "fe_predata_procedurecode = predata_procedurecode\n",
    "fe_predata_protocolcode = predata_protocolcode"
   ]
  },
  {
   "cell_type": "code",
   "execution_count": 24,
   "id": "1580bc04",
   "metadata": {},
   "outputs": [],
   "source": [
    "# converting the Count of labels into dictionary and saving into variable\n",
    "\n",
    "fe_predata_procedurecode_dict = fe_predata_procedurecode.to_dict()\n",
    "fe_predata_protocolcode_dict = fe_predata_protocolcode.to_dict()"
   ]
  },
  {
   "cell_type": "code",
   "execution_count": 25,
   "id": "125a7958",
   "metadata": {},
   "outputs": [
    {
     "data": {
      "text/html": [
       "<div>\n",
       "<style scoped>\n",
       "    .dataframe tbody tr th:only-of-type {\n",
       "        vertical-align: middle;\n",
       "    }\n",
       "\n",
       "    .dataframe tbody tr th {\n",
       "        vertical-align: top;\n",
       "    }\n",
       "\n",
       "    .dataframe thead th {\n",
       "        text-align: right;\n",
       "    }\n",
       "</style>\n",
       "<table border=\"1\" class=\"dataframe\">\n",
       "  <thead>\n",
       "    <tr style=\"text-align: right;\">\n",
       "      <th></th>\n",
       "      <th>Date</th>\n",
       "      <th>Time</th>\n",
       "      <th>Patient Number</th>\n",
       "      <th>Procedure Code</th>\n",
       "      <th>Description</th>\n",
       "      <th>Status</th>\n",
       "      <th>In/Out Patient</th>\n",
       "      <th>Protocol Code</th>\n",
       "      <th>Staff Initials</th>\n",
       "      <th>Location</th>\n",
       "    </tr>\n",
       "  </thead>\n",
       "  <tbody>\n",
       "    <tr>\n",
       "      <th>0</th>\n",
       "      <td>2/1/2020</td>\n",
       "      <td>10:57 AM</td>\n",
       "      <td>1</td>\n",
       "      <td>Image 01</td>\n",
       "      <td>Image Portal x1</td>\n",
       "      <td>1.0</td>\n",
       "      <td>In</td>\n",
       "      <td>C80.9 00</td>\n",
       "      <td>EEC</td>\n",
       "      <td>LC</td>\n",
       "    </tr>\n",
       "    <tr>\n",
       "      <th>1</th>\n",
       "      <td>2/1/2020</td>\n",
       "      <td>10:57 AM</td>\n",
       "      <td>1</td>\n",
       "      <td>Met/Bone1j</td>\n",
       "      <td>Sacrum/5#</td>\n",
       "      <td>1.0</td>\n",
       "      <td>In</td>\n",
       "      <td>C80.9 00</td>\n",
       "      <td>EEC</td>\n",
       "      <td>LC</td>\n",
       "    </tr>\n",
       "    <tr>\n",
       "      <th>2</th>\n",
       "      <td>2/1/2020</td>\n",
       "      <td>11:18 AM</td>\n",
       "      <td>2</td>\n",
       "      <td>Calc</td>\n",
       "      <td>Calc single/parallel</td>\n",
       "      <td>1.0</td>\n",
       "      <td>In</td>\n",
       "      <td>C50.9 01</td>\n",
       "      <td>MR</td>\n",
       "      <td>LC</td>\n",
       "    </tr>\n",
       "    <tr>\n",
       "      <th>3</th>\n",
       "      <td>2/1/2020</td>\n",
       "      <td>11:18 AM</td>\n",
       "      <td>2</td>\n",
       "      <td>Image 01</td>\n",
       "      <td>Image Portal x1</td>\n",
       "      <td>1.0</td>\n",
       "      <td>In</td>\n",
       "      <td>C50.9 01</td>\n",
       "      <td>MR</td>\n",
       "      <td>LC</td>\n",
       "    </tr>\n",
       "    <tr>\n",
       "      <th>4</th>\n",
       "      <td>2/1/2020</td>\n",
       "      <td>11:18 AM</td>\n",
       "      <td>2</td>\n",
       "      <td>Met/Bone5</td>\n",
       "      <td>Spinal Cord Comp/1#</td>\n",
       "      <td>1.0</td>\n",
       "      <td>In</td>\n",
       "      <td>C50.9 01</td>\n",
       "      <td>MR</td>\n",
       "      <td>LC</td>\n",
       "    </tr>\n",
       "  </tbody>\n",
       "</table>\n",
       "</div>"
      ],
      "text/plain": [
       "       Date      Time Patient Number Procedure Code           Description  \\\n",
       "0  2/1/2020  10:57 AM              1       Image 01       Image Portal x1   \n",
       "1  2/1/2020  10:57 AM              1     Met/Bone1j             Sacrum/5#   \n",
       "2  2/1/2020  11:18 AM              2           Calc  Calc single/parallel   \n",
       "3  2/1/2020  11:18 AM              2       Image 01       Image Portal x1   \n",
       "4  2/1/2020  11:18 AM              2      Met/Bone5   Spinal Cord Comp/1#   \n",
       "\n",
       "   Status In/Out Patient Protocol Code Staff Initials Location  \n",
       "0     1.0             In      C80.9 00            EEC       LC  \n",
       "1     1.0             In      C80.9 00            EEC       LC  \n",
       "2     1.0             In      C50.9 01             MR       LC  \n",
       "3     1.0             In      C50.9 01             MR       LC  \n",
       "4     1.0             In      C50.9 01             MR       LC  "
      ]
     },
     "execution_count": 25,
     "metadata": {},
     "output_type": "execute_result"
    }
   ],
   "source": [
    "predata.head()"
   ]
  },
  {
   "cell_type": "code",
   "execution_count": 26,
   "id": "8104ddcf",
   "metadata": {},
   "outputs": [],
   "source": [
    "# Creating a new dataset with just Procedure Code, Protocol Code and Patient In/Out Status\n",
    "\n",
    "fe_predata = predata[['Procedure Code', 'Protocol Code', 'In/Out Patient']]"
   ]
  },
  {
   "cell_type": "code",
   "execution_count": 27,
   "id": "840a17ea",
   "metadata": {},
   "outputs": [
    {
     "data": {
      "text/html": [
       "<div>\n",
       "<style scoped>\n",
       "    .dataframe tbody tr th:only-of-type {\n",
       "        vertical-align: middle;\n",
       "    }\n",
       "\n",
       "    .dataframe tbody tr th {\n",
       "        vertical-align: top;\n",
       "    }\n",
       "\n",
       "    .dataframe thead th {\n",
       "        text-align: right;\n",
       "    }\n",
       "</style>\n",
       "<table border=\"1\" class=\"dataframe\">\n",
       "  <thead>\n",
       "    <tr style=\"text-align: right;\">\n",
       "      <th></th>\n",
       "      <th>Procedure Code</th>\n",
       "      <th>Protocol Code</th>\n",
       "      <th>In/Out Patient</th>\n",
       "    </tr>\n",
       "  </thead>\n",
       "  <tbody>\n",
       "    <tr>\n",
       "      <th>0</th>\n",
       "      <td>Image 01</td>\n",
       "      <td>C80.9 00</td>\n",
       "      <td>In</td>\n",
       "    </tr>\n",
       "    <tr>\n",
       "      <th>1</th>\n",
       "      <td>Met/Bone1j</td>\n",
       "      <td>C80.9 00</td>\n",
       "      <td>In</td>\n",
       "    </tr>\n",
       "    <tr>\n",
       "      <th>2</th>\n",
       "      <td>Calc</td>\n",
       "      <td>C50.9 01</td>\n",
       "      <td>In</td>\n",
       "    </tr>\n",
       "    <tr>\n",
       "      <th>3</th>\n",
       "      <td>Image 01</td>\n",
       "      <td>C50.9 01</td>\n",
       "      <td>In</td>\n",
       "    </tr>\n",
       "    <tr>\n",
       "      <th>4</th>\n",
       "      <td>Met/Bone5</td>\n",
       "      <td>C50.9 01</td>\n",
       "      <td>In</td>\n",
       "    </tr>\n",
       "  </tbody>\n",
       "</table>\n",
       "</div>"
      ],
      "text/plain": [
       "  Procedure Code Protocol Code In/Out Patient\n",
       "0       Image 01      C80.9 00             In\n",
       "1     Met/Bone1j      C80.9 00             In\n",
       "2           Calc      C50.9 01             In\n",
       "3       Image 01      C50.9 01             In\n",
       "4      Met/Bone5      C50.9 01             In"
      ]
     },
     "execution_count": 27,
     "metadata": {},
     "output_type": "execute_result"
    }
   ],
   "source": [
    "fe_predata.head()"
   ]
  },
  {
   "cell_type": "code",
   "execution_count": 28,
   "id": "f09a3a17",
   "metadata": {},
   "outputs": [
    {
     "name": "stderr",
     "output_type": "stream",
     "text": [
      "<ipython-input-28-9db37f405a03>:2: SettingWithCopyWarning: \n",
      "A value is trying to be set on a copy of a slice from a DataFrame.\n",
      "Try using .loc[row_indexer,col_indexer] = value instead\n",
      "\n",
      "See the caveats in the documentation: https://pandas.pydata.org/pandas-docs/stable/user_guide/indexing.html#returning-a-view-versus-a-copy\n",
      "  fe_predata['Procedure Code'] = fe_predata['Procedure Code'].map(fe_predata_procedurecode_dict)\n"
     ]
    }
   ],
   "source": [
    "# Replacing the label with the count in dataset\n",
    "fe_predata['Procedure Code'] = fe_predata['Procedure Code'].map(fe_predata_procedurecode_dict)\n",
    "# fe_predata['Protocol Code'] = fe_predata['Protocol Code'].map(fe_predata_protocolcode_dict)"
   ]
  },
  {
   "cell_type": "code",
   "execution_count": 29,
   "id": "1fe6295b",
   "metadata": {},
   "outputs": [
    {
     "name": "stderr",
     "output_type": "stream",
     "text": [
      "<ipython-input-29-919bfe76fbeb>:1: SettingWithCopyWarning: \n",
      "A value is trying to be set on a copy of a slice from a DataFrame.\n",
      "Try using .loc[row_indexer,col_indexer] = value instead\n",
      "\n",
      "See the caveats in the documentation: https://pandas.pydata.org/pandas-docs/stable/user_guide/indexing.html#returning-a-view-versus-a-copy\n",
      "  fe_predata['Protocol Code'] = fe_predata['Protocol Code'].map(fe_predata_protocolcode_dict)\n"
     ]
    },
    {
     "data": {
      "text/html": [
       "<div>\n",
       "<style scoped>\n",
       "    .dataframe tbody tr th:only-of-type {\n",
       "        vertical-align: middle;\n",
       "    }\n",
       "\n",
       "    .dataframe tbody tr th {\n",
       "        vertical-align: top;\n",
       "    }\n",
       "\n",
       "    .dataframe thead th {\n",
       "        text-align: right;\n",
       "    }\n",
       "</style>\n",
       "<table border=\"1\" class=\"dataframe\">\n",
       "  <thead>\n",
       "    <tr style=\"text-align: right;\">\n",
       "      <th></th>\n",
       "      <th>Procedure Code</th>\n",
       "      <th>Protocol Code</th>\n",
       "      <th>In/Out Patient</th>\n",
       "    </tr>\n",
       "  </thead>\n",
       "  <tbody>\n",
       "    <tr>\n",
       "      <th>0</th>\n",
       "      <td>23</td>\n",
       "      <td>10</td>\n",
       "      <td>In</td>\n",
       "    </tr>\n",
       "    <tr>\n",
       "      <th>1</th>\n",
       "      <td>2</td>\n",
       "      <td>10</td>\n",
       "      <td>In</td>\n",
       "    </tr>\n",
       "    <tr>\n",
       "      <th>2</th>\n",
       "      <td>21</td>\n",
       "      <td>886</td>\n",
       "      <td>In</td>\n",
       "    </tr>\n",
       "    <tr>\n",
       "      <th>3</th>\n",
       "      <td>23</td>\n",
       "      <td>886</td>\n",
       "      <td>In</td>\n",
       "    </tr>\n",
       "    <tr>\n",
       "      <th>4</th>\n",
       "      <td>1</td>\n",
       "      <td>886</td>\n",
       "      <td>In</td>\n",
       "    </tr>\n",
       "    <tr>\n",
       "      <th>...</th>\n",
       "      <td>...</td>\n",
       "      <td>...</td>\n",
       "      <td>...</td>\n",
       "    </tr>\n",
       "    <tr>\n",
       "      <th>980</th>\n",
       "      <td>261</td>\n",
       "      <td>886</td>\n",
       "      <td>Out</td>\n",
       "    </tr>\n",
       "    <tr>\n",
       "      <th>981</th>\n",
       "      <td>22</td>\n",
       "      <td>886</td>\n",
       "      <td>Out</td>\n",
       "    </tr>\n",
       "    <tr>\n",
       "      <th>982</th>\n",
       "      <td>195</td>\n",
       "      <td>886</td>\n",
       "      <td>Out</td>\n",
       "    </tr>\n",
       "    <tr>\n",
       "      <th>983</th>\n",
       "      <td>22</td>\n",
       "      <td>886</td>\n",
       "      <td>Out</td>\n",
       "    </tr>\n",
       "    <tr>\n",
       "      <th>984</th>\n",
       "      <td>74</td>\n",
       "      <td>886</td>\n",
       "      <td>Out</td>\n",
       "    </tr>\n",
       "  </tbody>\n",
       "</table>\n",
       "<p>985 rows × 3 columns</p>\n",
       "</div>"
      ],
      "text/plain": [
       "     Procedure Code  Protocol Code In/Out Patient\n",
       "0                23             10             In\n",
       "1                 2             10             In\n",
       "2                21            886             In\n",
       "3                23            886             In\n",
       "4                 1            886             In\n",
       "..              ...            ...            ...\n",
       "980             261            886            Out\n",
       "981              22            886            Out\n",
       "982             195            886            Out\n",
       "983              22            886            Out\n",
       "984              74            886            Out\n",
       "\n",
       "[985 rows x 3 columns]"
      ]
     },
     "execution_count": 29,
     "metadata": {},
     "output_type": "execute_result"
    }
   ],
   "source": [
    "fe_predata['Protocol Code'] = fe_predata['Protocol Code'].map(fe_predata_protocolcode_dict)\n",
    "fe_predata"
   ]
  },
  {
   "cell_type": "code",
   "execution_count": 30,
   "id": "31fd9c5c",
   "metadata": {},
   "outputs": [
    {
     "name": "stderr",
     "output_type": "stream",
     "text": [
      "<ipython-input-30-e11770f15888>:2: SettingWithCopyWarning: \n",
      "A value is trying to be set on a copy of a slice from a DataFrame.\n",
      "Try using .loc[row_indexer,col_indexer] = value instead\n",
      "\n",
      "See the caveats in the documentation: https://pandas.pydata.org/pandas-docs/stable/user_guide/indexing.html#returning-a-view-versus-a-copy\n",
      "  fe_predata['Out Patient'] = enc.fit_transform(fe_predata[['In/Out Patient']])\n"
     ]
    },
    {
     "data": {
      "text/html": [
       "<div>\n",
       "<style scoped>\n",
       "    .dataframe tbody tr th:only-of-type {\n",
       "        vertical-align: middle;\n",
       "    }\n",
       "\n",
       "    .dataframe tbody tr th {\n",
       "        vertical-align: top;\n",
       "    }\n",
       "\n",
       "    .dataframe thead th {\n",
       "        text-align: right;\n",
       "    }\n",
       "</style>\n",
       "<table border=\"1\" class=\"dataframe\">\n",
       "  <thead>\n",
       "    <tr style=\"text-align: right;\">\n",
       "      <th></th>\n",
       "      <th>Procedure Code</th>\n",
       "      <th>Protocol Code</th>\n",
       "      <th>In/Out Patient</th>\n",
       "      <th>Out Patient</th>\n",
       "    </tr>\n",
       "  </thead>\n",
       "  <tbody>\n",
       "    <tr>\n",
       "      <th>0</th>\n",
       "      <td>23</td>\n",
       "      <td>10</td>\n",
       "      <td>In</td>\n",
       "      <td>0.0</td>\n",
       "    </tr>\n",
       "    <tr>\n",
       "      <th>1</th>\n",
       "      <td>2</td>\n",
       "      <td>10</td>\n",
       "      <td>In</td>\n",
       "      <td>0.0</td>\n",
       "    </tr>\n",
       "    <tr>\n",
       "      <th>2</th>\n",
       "      <td>21</td>\n",
       "      <td>886</td>\n",
       "      <td>In</td>\n",
       "      <td>0.0</td>\n",
       "    </tr>\n",
       "    <tr>\n",
       "      <th>3</th>\n",
       "      <td>23</td>\n",
       "      <td>886</td>\n",
       "      <td>In</td>\n",
       "      <td>0.0</td>\n",
       "    </tr>\n",
       "    <tr>\n",
       "      <th>4</th>\n",
       "      <td>1</td>\n",
       "      <td>886</td>\n",
       "      <td>In</td>\n",
       "      <td>0.0</td>\n",
       "    </tr>\n",
       "    <tr>\n",
       "      <th>...</th>\n",
       "      <td>...</td>\n",
       "      <td>...</td>\n",
       "      <td>...</td>\n",
       "      <td>...</td>\n",
       "    </tr>\n",
       "    <tr>\n",
       "      <th>980</th>\n",
       "      <td>261</td>\n",
       "      <td>886</td>\n",
       "      <td>Out</td>\n",
       "      <td>1.0</td>\n",
       "    </tr>\n",
       "    <tr>\n",
       "      <th>981</th>\n",
       "      <td>22</td>\n",
       "      <td>886</td>\n",
       "      <td>Out</td>\n",
       "      <td>1.0</td>\n",
       "    </tr>\n",
       "    <tr>\n",
       "      <th>982</th>\n",
       "      <td>195</td>\n",
       "      <td>886</td>\n",
       "      <td>Out</td>\n",
       "      <td>1.0</td>\n",
       "    </tr>\n",
       "    <tr>\n",
       "      <th>983</th>\n",
       "      <td>22</td>\n",
       "      <td>886</td>\n",
       "      <td>Out</td>\n",
       "      <td>1.0</td>\n",
       "    </tr>\n",
       "    <tr>\n",
       "      <th>984</th>\n",
       "      <td>74</td>\n",
       "      <td>886</td>\n",
       "      <td>Out</td>\n",
       "      <td>1.0</td>\n",
       "    </tr>\n",
       "  </tbody>\n",
       "</table>\n",
       "<p>985 rows × 4 columns</p>\n",
       "</div>"
      ],
      "text/plain": [
       "     Procedure Code  Protocol Code In/Out Patient  Out Patient\n",
       "0                23             10             In          0.0\n",
       "1                 2             10             In          0.0\n",
       "2                21            886             In          0.0\n",
       "3                23            886             In          0.0\n",
       "4                 1            886             In          0.0\n",
       "..              ...            ...            ...          ...\n",
       "980             261            886            Out          1.0\n",
       "981              22            886            Out          1.0\n",
       "982             195            886            Out          1.0\n",
       "983              22            886            Out          1.0\n",
       "984              74            886            Out          1.0\n",
       "\n",
       "[985 rows x 4 columns]"
      ]
     },
     "execution_count": 30,
     "metadata": {},
     "output_type": "execute_result"
    }
   ],
   "source": [
    "enc = OrdinalEncoder()\n",
    "fe_predata['Out Patient'] = enc.fit_transform(fe_predata[['In/Out Patient']])\n",
    "fe_predata"
   ]
  },
  {
   "cell_type": "code",
   "execution_count": 31,
   "id": "11556509",
   "metadata": {},
   "outputs": [
    {
     "name": "stderr",
     "output_type": "stream",
     "text": [
      "C:\\Users\\Asus\\anaconda3\\lib\\site-packages\\pandas\\core\\frame.py:4308: SettingWithCopyWarning: \n",
      "A value is trying to be set on a copy of a slice from a DataFrame\n",
      "\n",
      "See the caveats in the documentation: https://pandas.pydata.org/pandas-docs/stable/user_guide/indexing.html#returning-a-view-versus-a-copy\n",
      "  return super().drop(\n"
     ]
    }
   ],
   "source": [
    "fe_predata.drop(['In/Out Patient'], inplace = True, axis = 1)"
   ]
  },
  {
   "cell_type": "code",
   "execution_count": 2099,
   "id": "b8813697",
   "metadata": {},
   "outputs": [
    {
     "data": {
      "text/html": [
       "<div>\n",
       "<style scoped>\n",
       "    .dataframe tbody tr th:only-of-type {\n",
       "        vertical-align: middle;\n",
       "    }\n",
       "\n",
       "    .dataframe tbody tr th {\n",
       "        vertical-align: top;\n",
       "    }\n",
       "\n",
       "    .dataframe thead th {\n",
       "        text-align: right;\n",
       "    }\n",
       "</style>\n",
       "<table border=\"1\" class=\"dataframe\">\n",
       "  <thead>\n",
       "    <tr style=\"text-align: right;\">\n",
       "      <th></th>\n",
       "      <th>Procedure Code</th>\n",
       "      <th>Protocol Code</th>\n",
       "      <th>Out Patient</th>\n",
       "    </tr>\n",
       "  </thead>\n",
       "  <tbody>\n",
       "    <tr>\n",
       "      <th>0</th>\n",
       "      <td>23</td>\n",
       "      <td>10</td>\n",
       "      <td>0.0</td>\n",
       "    </tr>\n",
       "    <tr>\n",
       "      <th>1</th>\n",
       "      <td>2</td>\n",
       "      <td>10</td>\n",
       "      <td>0.0</td>\n",
       "    </tr>\n",
       "    <tr>\n",
       "      <th>2</th>\n",
       "      <td>21</td>\n",
       "      <td>886</td>\n",
       "      <td>0.0</td>\n",
       "    </tr>\n",
       "    <tr>\n",
       "      <th>3</th>\n",
       "      <td>23</td>\n",
       "      <td>886</td>\n",
       "      <td>0.0</td>\n",
       "    </tr>\n",
       "    <tr>\n",
       "      <th>4</th>\n",
       "      <td>1</td>\n",
       "      <td>886</td>\n",
       "      <td>0.0</td>\n",
       "    </tr>\n",
       "    <tr>\n",
       "      <th>...</th>\n",
       "      <td>...</td>\n",
       "      <td>...</td>\n",
       "      <td>...</td>\n",
       "    </tr>\n",
       "    <tr>\n",
       "      <th>980</th>\n",
       "      <td>261</td>\n",
       "      <td>886</td>\n",
       "      <td>1.0</td>\n",
       "    </tr>\n",
       "    <tr>\n",
       "      <th>981</th>\n",
       "      <td>22</td>\n",
       "      <td>886</td>\n",
       "      <td>1.0</td>\n",
       "    </tr>\n",
       "    <tr>\n",
       "      <th>982</th>\n",
       "      <td>195</td>\n",
       "      <td>886</td>\n",
       "      <td>1.0</td>\n",
       "    </tr>\n",
       "    <tr>\n",
       "      <th>983</th>\n",
       "      <td>22</td>\n",
       "      <td>886</td>\n",
       "      <td>1.0</td>\n",
       "    </tr>\n",
       "    <tr>\n",
       "      <th>984</th>\n",
       "      <td>74</td>\n",
       "      <td>886</td>\n",
       "      <td>1.0</td>\n",
       "    </tr>\n",
       "  </tbody>\n",
       "</table>\n",
       "<p>985 rows × 3 columns</p>\n",
       "</div>"
      ],
      "text/plain": [
       "     Procedure Code  Protocol Code  Out Patient\n",
       "0                23             10          0.0\n",
       "1                 2             10          0.0\n",
       "2                21            886          0.0\n",
       "3                23            886          0.0\n",
       "4                 1            886          0.0\n",
       "..              ...            ...          ...\n",
       "980             261            886          1.0\n",
       "981              22            886          1.0\n",
       "982             195            886          1.0\n",
       "983              22            886          1.0\n",
       "984              74            886          1.0\n",
       "\n",
       "[985 rows x 3 columns]"
      ]
     },
     "execution_count": 2099,
     "metadata": {},
     "output_type": "execute_result"
    }
   ],
   "source": [
    "fe_predata"
   ]
  },
  {
   "cell_type": "code",
   "execution_count": 2100,
   "id": "f58eea47",
   "metadata": {},
   "outputs": [
    {
     "data": {
      "text/html": [
       "<div>\n",
       "<style scoped>\n",
       "    .dataframe tbody tr th:only-of-type {\n",
       "        vertical-align: middle;\n",
       "    }\n",
       "\n",
       "    .dataframe tbody tr th {\n",
       "        vertical-align: top;\n",
       "    }\n",
       "\n",
       "    .dataframe thead th {\n",
       "        text-align: right;\n",
       "    }\n",
       "</style>\n",
       "<table border=\"1\" class=\"dataframe\">\n",
       "  <thead>\n",
       "    <tr style=\"text-align: right;\">\n",
       "      <th></th>\n",
       "      <th>Procedure Code</th>\n",
       "      <th>Protocol Code</th>\n",
       "      <th>Out Patient</th>\n",
       "    </tr>\n",
       "  </thead>\n",
       "  <tbody>\n",
       "    <tr>\n",
       "      <th>Procedure Code</th>\n",
       "      <td>1.000000</td>\n",
       "      <td>0.386153</td>\n",
       "      <td>0.257227</td>\n",
       "    </tr>\n",
       "    <tr>\n",
       "      <th>Protocol Code</th>\n",
       "      <td>0.386153</td>\n",
       "      <td>1.000000</td>\n",
       "      <td>0.269618</td>\n",
       "    </tr>\n",
       "    <tr>\n",
       "      <th>Out Patient</th>\n",
       "      <td>0.257227</td>\n",
       "      <td>0.269618</td>\n",
       "      <td>1.000000</td>\n",
       "    </tr>\n",
       "  </tbody>\n",
       "</table>\n",
       "</div>"
      ],
      "text/plain": [
       "                Procedure Code  Protocol Code  Out Patient\n",
       "Procedure Code        1.000000       0.386153     0.257227\n",
       "Protocol Code         0.386153       1.000000     0.269618\n",
       "Out Patient           0.257227       0.269618     1.000000"
      ]
     },
     "execution_count": 2100,
     "metadata": {},
     "output_type": "execute_result"
    }
   ],
   "source": [
    "fe_predata.corr()"
   ]
  },
  {
   "cell_type": "markdown",
   "id": "9f702a5e",
   "metadata": {},
   "source": [
    "# SVM along with Grid Search"
   ]
  },
  {
   "cell_type": "code",
   "execution_count": 33,
   "id": "c9c27389",
   "metadata": {},
   "outputs": [],
   "source": [
    "X = fe_predata.iloc[:, [0,1]].values\n",
    "y = fe_predata.iloc[:, 2].values"
   ]
  },
  {
   "cell_type": "code",
   "execution_count": 34,
   "id": "cdb685e0",
   "metadata": {},
   "outputs": [],
   "source": [
    "X_train, X_test, y_train, y_test = train_test_split(X,y, test_size = 0.3, random_state = 0)"
   ]
  },
  {
   "cell_type": "code",
   "execution_count": 35,
   "id": "5cba29ef",
   "metadata": {},
   "outputs": [],
   "source": [
    "scaler = StandardScaler()\n",
    "X_train = scaler.fit_transform(X_train)\n",
    "X_test = scaler.transform(X_test)"
   ]
  },
  {
   "cell_type": "code",
   "execution_count": 36,
   "id": "54e8554c",
   "metadata": {},
   "outputs": [
    {
     "data": {
      "text/plain": [
       "SVC(random_state=0)"
      ]
     },
     "execution_count": 36,
     "metadata": {},
     "output_type": "execute_result"
    }
   ],
   "source": [
    "classifier = SVC(kernel = 'rbf', random_state = 0)\n",
    "classifier.fit(X_train, y_train)"
   ]
  },
  {
   "cell_type": "code",
   "execution_count": 37,
   "id": "3431418b",
   "metadata": {},
   "outputs": [],
   "source": [
    "pred = classifier.predict(X_test)"
   ]
  },
  {
   "cell_type": "code",
   "execution_count": 38,
   "id": "90de5d85",
   "metadata": {},
   "outputs": [
    {
     "data": {
      "text/plain": [
       "0.9459459459459459"
      ]
     },
     "execution_count": 38,
     "metadata": {},
     "output_type": "execute_result"
    }
   ],
   "source": [
    "accuracy = accuracy_score(y_test, pred)\n",
    "accuracy"
   ]
  },
  {
   "cell_type": "code",
   "execution_count": 629,
   "id": "64bbfd6e",
   "metadata": {},
   "outputs": [],
   "source": [
    "# print(classification_report(y_test, pred))"
   ]
  },
  {
   "cell_type": "code",
   "execution_count": 630,
   "id": "7baf1dd8",
   "metadata": {},
   "outputs": [],
   "source": [
    "# cm = confusion_matrix(y_test, pred)"
   ]
  },
  {
   "cell_type": "code",
   "execution_count": 631,
   "id": "fb084213",
   "metadata": {},
   "outputs": [],
   "source": [
    "# tn, fp, fn, tp = cm.ravel()"
   ]
  },
  {
   "cell_type": "code",
   "execution_count": 632,
   "id": "aa5b17f7",
   "metadata": {},
   "outputs": [],
   "source": [
    "# precision = tp/(tp+fp)\n",
    "# recall = tp/(tp+fn)"
   ]
  },
  {
   "cell_type": "code",
   "execution_count": 39,
   "id": "7b725ecd",
   "metadata": {},
   "outputs": [],
   "source": [
    "params = [{'C': [10, 50, 100, 300],'kernel': ['linear']},\n",
    "          {'C': [10, 50, 100, 300], 'kernel': ['sigmoid'], 'gamma': [0.05, 0.10, 0.15, 0.20, 0.25]},\n",
    "          {'C': [10, 50, 100, 300], 'kernel': ['poly'], 'gamma': [0.05, 0.10, 0.15, 0.20, 0.25]}]\n",
    "\n",
    "grid_search = GridSearchCV(estimator = classifier, param_grid = params, scoring = 'accuracy', cv = 10, n_jobs = -1)\n",
    "\n",
    "grid_search = grid_search.fit(X_train, y_train)"
   ]
  },
  {
   "cell_type": "code",
   "execution_count": 40,
   "id": "ae230687",
   "metadata": {},
   "outputs": [],
   "source": [
    "a = grid_search.best_score_"
   ]
  },
  {
   "cell_type": "code",
   "execution_count": 41,
   "id": "332e0e61",
   "metadata": {},
   "outputs": [
    {
     "data": {
      "text/plain": [
       "0.9637254901960786"
      ]
     },
     "execution_count": 41,
     "metadata": {},
     "output_type": "execute_result"
    }
   ],
   "source": [
    "a"
   ]
  },
  {
   "cell_type": "code",
   "execution_count": 42,
   "id": "eb42eb67",
   "metadata": {},
   "outputs": [
    {
     "data": {
      "text/plain": [
       "{'C': 10, 'kernel': 'linear'}"
      ]
     },
     "execution_count": 42,
     "metadata": {},
     "output_type": "execute_result"
    }
   ],
   "source": [
    "grid_search.best_params_"
   ]
  },
  {
   "cell_type": "code",
   "execution_count": 43,
   "id": "2cb14b80",
   "metadata": {},
   "outputs": [
    {
     "data": {
      "text/plain": [
       "SVC(C=10, kernel='linear')"
      ]
     },
     "execution_count": 43,
     "metadata": {},
     "output_type": "execute_result"
    }
   ],
   "source": [
    "classifier = SVC(C = 10, kernel = 'linear')\n",
    "classifier.fit(X_train, y_train)"
   ]
  },
  {
   "cell_type": "code",
   "execution_count": 44,
   "id": "4b15ce8a",
   "metadata": {},
   "outputs": [],
   "source": [
    "pred = classifier.predict(X_test)"
   ]
  },
  {
   "cell_type": "code",
   "execution_count": 45,
   "id": "39a30579",
   "metadata": {},
   "outputs": [],
   "source": [
    "conf_matrix = confusion_matrix(y_test, pred)"
   ]
  },
  {
   "cell_type": "code",
   "execution_count": 46,
   "id": "57f92c07",
   "metadata": {},
   "outputs": [],
   "source": [
    "accuracy = accuracy_score(y_test, pred)"
   ]
  },
  {
   "cell_type": "code",
   "execution_count": 47,
   "id": "52955ea7",
   "metadata": {},
   "outputs": [
    {
     "data": {
      "text/plain": [
       "0.9459459459459459"
      ]
     },
     "execution_count": 47,
     "metadata": {},
     "output_type": "execute_result"
    }
   ],
   "source": [
    "accuracy"
   ]
  },
  {
   "cell_type": "code",
   "execution_count": 48,
   "id": "230a9e83",
   "metadata": {},
   "outputs": [
    {
     "name": "stdout",
     "output_type": "stream",
     "text": [
      "              precision    recall  f1-score   support\n",
      "\n",
      "         0.0       0.00      0.00      0.00        16\n",
      "         1.0       0.95      1.00      0.97       280\n",
      "\n",
      "    accuracy                           0.95       296\n",
      "   macro avg       0.47      0.50      0.49       296\n",
      "weighted avg       0.89      0.95      0.92       296\n",
      "\n"
     ]
    },
    {
     "name": "stderr",
     "output_type": "stream",
     "text": [
      "C:\\Users\\Asus\\anaconda3\\lib\\site-packages\\sklearn\\metrics\\_classification.py:1245: UndefinedMetricWarning: Precision and F-score are ill-defined and being set to 0.0 in labels with no predicted samples. Use `zero_division` parameter to control this behavior.\n",
      "  _warn_prf(average, modifier, msg_start, len(result))\n",
      "C:\\Users\\Asus\\anaconda3\\lib\\site-packages\\sklearn\\metrics\\_classification.py:1245: UndefinedMetricWarning: Precision and F-score are ill-defined and being set to 0.0 in labels with no predicted samples. Use `zero_division` parameter to control this behavior.\n",
      "  _warn_prf(average, modifier, msg_start, len(result))\n",
      "C:\\Users\\Asus\\anaconda3\\lib\\site-packages\\sklearn\\metrics\\_classification.py:1245: UndefinedMetricWarning: Precision and F-score are ill-defined and being set to 0.0 in labels with no predicted samples. Use `zero_division` parameter to control this behavior.\n",
      "  _warn_prf(average, modifier, msg_start, len(result))\n"
     ]
    }
   ],
   "source": [
    "print(classification_report(y_test, pred))"
   ]
  },
  {
   "cell_type": "code",
   "execution_count": 49,
   "id": "aeb2d37b",
   "metadata": {},
   "outputs": [
    {
     "data": {
      "text/plain": [
       "0.9722222222222222"
      ]
     },
     "execution_count": 49,
     "metadata": {},
     "output_type": "execute_result"
    }
   ],
   "source": [
    "metrics.f1_score(y_test, pred, average = 'weighted', labels = np.unique(pred))"
   ]
  },
  {
   "cell_type": "markdown",
   "id": "f47f40d1",
   "metadata": {},
   "source": [
    "# Naive Bayes Classification with Gaussian Model"
   ]
  },
  {
   "cell_type": "code",
   "execution_count": 51,
   "id": "61fd04c9",
   "metadata": {},
   "outputs": [
    {
     "data": {
      "text/html": [
       "<div>\n",
       "<style scoped>\n",
       "    .dataframe tbody tr th:only-of-type {\n",
       "        vertical-align: middle;\n",
       "    }\n",
       "\n",
       "    .dataframe tbody tr th {\n",
       "        vertical-align: top;\n",
       "    }\n",
       "\n",
       "    .dataframe thead th {\n",
       "        text-align: right;\n",
       "    }\n",
       "</style>\n",
       "<table border=\"1\" class=\"dataframe\">\n",
       "  <thead>\n",
       "    <tr style=\"text-align: right;\">\n",
       "      <th></th>\n",
       "      <th>Procedure Code</th>\n",
       "      <th>Protocol Code</th>\n",
       "      <th>Out Patient</th>\n",
       "    </tr>\n",
       "  </thead>\n",
       "  <tbody>\n",
       "    <tr>\n",
       "      <th>0</th>\n",
       "      <td>23</td>\n",
       "      <td>10</td>\n",
       "      <td>0.0</td>\n",
       "    </tr>\n",
       "    <tr>\n",
       "      <th>1</th>\n",
       "      <td>2</td>\n",
       "      <td>10</td>\n",
       "      <td>0.0</td>\n",
       "    </tr>\n",
       "    <tr>\n",
       "      <th>2</th>\n",
       "      <td>21</td>\n",
       "      <td>886</td>\n",
       "      <td>0.0</td>\n",
       "    </tr>\n",
       "    <tr>\n",
       "      <th>3</th>\n",
       "      <td>23</td>\n",
       "      <td>886</td>\n",
       "      <td>0.0</td>\n",
       "    </tr>\n",
       "    <tr>\n",
       "      <th>4</th>\n",
       "      <td>1</td>\n",
       "      <td>886</td>\n",
       "      <td>0.0</td>\n",
       "    </tr>\n",
       "    <tr>\n",
       "      <th>...</th>\n",
       "      <td>...</td>\n",
       "      <td>...</td>\n",
       "      <td>...</td>\n",
       "    </tr>\n",
       "    <tr>\n",
       "      <th>980</th>\n",
       "      <td>261</td>\n",
       "      <td>886</td>\n",
       "      <td>1.0</td>\n",
       "    </tr>\n",
       "    <tr>\n",
       "      <th>981</th>\n",
       "      <td>22</td>\n",
       "      <td>886</td>\n",
       "      <td>1.0</td>\n",
       "    </tr>\n",
       "    <tr>\n",
       "      <th>982</th>\n",
       "      <td>195</td>\n",
       "      <td>886</td>\n",
       "      <td>1.0</td>\n",
       "    </tr>\n",
       "    <tr>\n",
       "      <th>983</th>\n",
       "      <td>22</td>\n",
       "      <td>886</td>\n",
       "      <td>1.0</td>\n",
       "    </tr>\n",
       "    <tr>\n",
       "      <th>984</th>\n",
       "      <td>74</td>\n",
       "      <td>886</td>\n",
       "      <td>1.0</td>\n",
       "    </tr>\n",
       "  </tbody>\n",
       "</table>\n",
       "<p>985 rows × 3 columns</p>\n",
       "</div>"
      ],
      "text/plain": [
       "     Procedure Code  Protocol Code  Out Patient\n",
       "0                23             10          0.0\n",
       "1                 2             10          0.0\n",
       "2                21            886          0.0\n",
       "3                23            886          0.0\n",
       "4                 1            886          0.0\n",
       "..              ...            ...          ...\n",
       "980             261            886          1.0\n",
       "981              22            886          1.0\n",
       "982             195            886          1.0\n",
       "983              22            886          1.0\n",
       "984              74            886          1.0\n",
       "\n",
       "[985 rows x 3 columns]"
      ]
     },
     "execution_count": 51,
     "metadata": {},
     "output_type": "execute_result"
    }
   ],
   "source": [
    "fe_predata"
   ]
  },
  {
   "cell_type": "code",
   "execution_count": 52,
   "id": "5bc214cd",
   "metadata": {},
   "outputs": [],
   "source": [
    "X = fe_predata.iloc[:, [0,1]].values\n",
    "y = fe_predata.iloc[:, 2].values"
   ]
  },
  {
   "cell_type": "code",
   "execution_count": 79,
   "id": "60c599a7",
   "metadata": {},
   "outputs": [],
   "source": [
    "X_train, X_test, y_train, y_test = train_test_split(X,y, test_size = 0.3, random_state = 0)"
   ]
  },
  {
   "cell_type": "code",
   "execution_count": 80,
   "id": "96baf4ae",
   "metadata": {},
   "outputs": [],
   "source": [
    "model = GaussianNB()"
   ]
  },
  {
   "cell_type": "code",
   "execution_count": 81,
   "id": "80cb74f5",
   "metadata": {},
   "outputs": [
    {
     "data": {
      "text/plain": [
       "GaussianNB()"
      ]
     },
     "execution_count": 81,
     "metadata": {},
     "output_type": "execute_result"
    }
   ],
   "source": [
    "model.fit(X_train, y_train)"
   ]
  },
  {
   "cell_type": "code",
   "execution_count": 82,
   "id": "d8d5ed16",
   "metadata": {},
   "outputs": [
    {
     "data": {
      "text/plain": [
       "0.9222972972972973"
      ]
     },
     "execution_count": 82,
     "metadata": {},
     "output_type": "execute_result"
    }
   ],
   "source": [
    "model.score(X_test, y_test)"
   ]
  },
  {
   "cell_type": "code",
   "execution_count": 89,
   "id": "409171a6",
   "metadata": {},
   "outputs": [
    {
     "data": {
      "text/plain": [
       "array([0.97101449, 0.94202899, 0.95652174, 0.88405797, 0.91304348,\n",
       "       0.91304348, 0.91304348, 0.88405797, 0.88405797, 0.97058824])"
      ]
     },
     "execution_count": 89,
     "metadata": {},
     "output_type": "execute_result"
    }
   ],
   "source": [
    "cross_val_score(GaussianNB(), X_train, y_train, cv= 10)"
   ]
  },
  {
   "cell_type": "markdown",
   "id": "3e512210",
   "metadata": {},
   "source": [
    "# ARIMA Model on postdata"
   ]
  },
  {
   "cell_type": "code",
   "execution_count": 873,
   "id": "81046376",
   "metadata": {},
   "outputs": [],
   "source": [
    "postdata_patient = pd.read_csv('postcovid.csv', index_col=False)"
   ]
  },
  {
   "cell_type": "code",
   "execution_count": 874,
   "id": "556f4aa5",
   "metadata": {},
   "outputs": [],
   "source": [
    "## To remove the unwanted columns : postdata\n",
    "minus2 = ['Unnamed: 1', 'Unnamed: 2', 'Unnamed: 4', 'Unnamed: 5', 'Unnamed: 6', 'Unnamed: 9', 'Unnamed: 10', 'Unnamed: 12', 'Unnamed: 13', 'Unnamed: 15', 'Run by:  RDL', 'Unnamed: 19', 'Unnamed: 21', 'Unnamed: 23', 'Unnamed: 24', 'Unnamed: 25', 'Unnamed: 26', 'Unnamed: 27', 'Unnamed: 28', 'Unnamed: 29']\n",
    "postdata_patient.drop(minus2, inplace =True, axis =1)"
   ]
  },
  {
   "cell_type": "code",
   "execution_count": 875,
   "id": "3281a3d6",
   "metadata": {},
   "outputs": [],
   "source": [
    "postdata_patient.rename(columns={'SW Wales Cancer Centre': 'Date', 'Unnamed: 3': 'Time', 'Study Number':'Patient Number', \n",
    "                        'Unnamed: 14': 'Status', 'Unnamed: 16': 'In/Out Patient', 'Unnamed: 17': 'Protocol Code', \n",
    "                    'Unnamed: 20': 'Staff Initials'}, inplace = True)\n",
    "postdata_patient.rename(columns={postdata_patient.columns[9]: 'Location'}, inplace = True)"
   ]
  },
  {
   "cell_type": "code",
   "execution_count": 876,
   "id": "e96774ac",
   "metadata": {},
   "outputs": [],
   "source": [
    "postdata_patient = postdata_patient.dropna(how='any',axis=0) "
   ]
  },
  {
   "cell_type": "code",
   "execution_count": 877,
   "id": "ae2b02ad",
   "metadata": {},
   "outputs": [
    {
     "data": {
      "text/html": [
       "<div>\n",
       "<style scoped>\n",
       "    .dataframe tbody tr th:only-of-type {\n",
       "        vertical-align: middle;\n",
       "    }\n",
       "\n",
       "    .dataframe tbody tr th {\n",
       "        vertical-align: top;\n",
       "    }\n",
       "\n",
       "    .dataframe thead th {\n",
       "        text-align: right;\n",
       "    }\n",
       "</style>\n",
       "<table border=\"1\" class=\"dataframe\">\n",
       "  <thead>\n",
       "    <tr style=\"text-align: right;\">\n",
       "      <th></th>\n",
       "      <th>Date</th>\n",
       "      <th>Time</th>\n",
       "      <th>Patient Number</th>\n",
       "      <th>Procedure Code</th>\n",
       "      <th>Description</th>\n",
       "      <th>Status</th>\n",
       "      <th>In/Out Patient</th>\n",
       "      <th>Protocol Code</th>\n",
       "      <th>Staff Initials</th>\n",
       "      <th>Location</th>\n",
       "    </tr>\n",
       "  </thead>\n",
       "  <tbody>\n",
       "    <tr>\n",
       "      <th>0</th>\n",
       "      <td>2/1/2021</td>\n",
       "      <td>9:06 AM</td>\n",
       "      <td>5.0</td>\n",
       "      <td>Image 02</td>\n",
       "      <td>Image Portal x2</td>\n",
       "      <td>1</td>\n",
       "      <td>Out</td>\n",
       "      <td>C50.9 01</td>\n",
       "      <td>FMS</td>\n",
       "      <td>LN2</td>\n",
       "    </tr>\n",
       "    <tr>\n",
       "      <th>1</th>\n",
       "      <td>2/1/2021</td>\n",
       "      <td>9:06 AM</td>\n",
       "      <td>5.0</td>\n",
       "      <td>Breast 1q</td>\n",
       "      <td>IMRT Breath Hold 5#</td>\n",
       "      <td>1</td>\n",
       "      <td>Out</td>\n",
       "      <td>C50.9 01</td>\n",
       "      <td>FMS</td>\n",
       "      <td>LN2</td>\n",
       "    </tr>\n",
       "    <tr>\n",
       "      <th>2</th>\n",
       "      <td>2/1/2021</td>\n",
       "      <td>9:38 AM</td>\n",
       "      <td>90.0</td>\n",
       "      <td>IMRT/VMAT</td>\n",
       "      <td>Plan IMRT/VMAT</td>\n",
       "      <td>1</td>\n",
       "      <td>Out</td>\n",
       "      <td>C50.9 01</td>\n",
       "      <td>FMS</td>\n",
       "      <td>LN2</td>\n",
       "    </tr>\n",
       "    <tr>\n",
       "      <th>3</th>\n",
       "      <td>2/1/2021</td>\n",
       "      <td>9:41 AM</td>\n",
       "      <td>49.0</td>\n",
       "      <td>IMRT/VMAT</td>\n",
       "      <td>Plan IMRT/VMAT</td>\n",
       "      <td>1</td>\n",
       "      <td>Out</td>\n",
       "      <td>C50.9 01</td>\n",
       "      <td>FMS</td>\n",
       "      <td>LN2</td>\n",
       "    </tr>\n",
       "    <tr>\n",
       "      <th>4</th>\n",
       "      <td>2/1/2021</td>\n",
       "      <td>9:45 AM</td>\n",
       "      <td>72.0</td>\n",
       "      <td>Breast 1m</td>\n",
       "      <td>IMRT Breast&amp;SCF 15#</td>\n",
       "      <td>1</td>\n",
       "      <td>Out</td>\n",
       "      <td>C50.9 01</td>\n",
       "      <td>FMS</td>\n",
       "      <td>LN2</td>\n",
       "    </tr>\n",
       "    <tr>\n",
       "      <th>...</th>\n",
       "      <td>...</td>\n",
       "      <td>...</td>\n",
       "      <td>...</td>\n",
       "      <td>...</td>\n",
       "      <td>...</td>\n",
       "      <td>...</td>\n",
       "      <td>...</td>\n",
       "      <td>...</td>\n",
       "      <td>...</td>\n",
       "      <td>...</td>\n",
       "    </tr>\n",
       "    <tr>\n",
       "      <th>714</th>\n",
       "      <td>2/25/2021</td>\n",
       "      <td>12:20 PM</td>\n",
       "      <td>63.0</td>\n",
       "      <td>Met/Other</td>\n",
       "      <td>Other Mets</td>\n",
       "      <td>1</td>\n",
       "      <td>Out</td>\n",
       "      <td>C34.9 01</td>\n",
       "      <td>JFL</td>\n",
       "      <td>LN2</td>\n",
       "    </tr>\n",
       "    <tr>\n",
       "      <th>715</th>\n",
       "      <td>2/25/2021</td>\n",
       "      <td>12:36 PM</td>\n",
       "      <td>79.0</td>\n",
       "      <td>Image 30</td>\n",
       "      <td>Cone Beam</td>\n",
       "      <td>1</td>\n",
       "      <td>Out</td>\n",
       "      <td>C61.9 02</td>\n",
       "      <td>JFL</td>\n",
       "      <td>LN2</td>\n",
       "    </tr>\n",
       "    <tr>\n",
       "      <th>716</th>\n",
       "      <td>2/25/2021</td>\n",
       "      <td>12:36 PM</td>\n",
       "      <td>79.0</td>\n",
       "      <td>Urology 2v</td>\n",
       "      <td>VMAT Prostate 20#</td>\n",
       "      <td>1</td>\n",
       "      <td>Out</td>\n",
       "      <td>C61.9 02</td>\n",
       "      <td>JFL</td>\n",
       "      <td>LN2</td>\n",
       "    </tr>\n",
       "    <tr>\n",
       "      <th>717</th>\n",
       "      <td>2/25/2021</td>\n",
       "      <td>12:57 PM</td>\n",
       "      <td>80.0</td>\n",
       "      <td>Image 02</td>\n",
       "      <td>Image Portal x2</td>\n",
       "      <td>1</td>\n",
       "      <td>Out</td>\n",
       "      <td>C50.9 01</td>\n",
       "      <td>FMS</td>\n",
       "      <td>LN2</td>\n",
       "    </tr>\n",
       "    <tr>\n",
       "      <th>718</th>\n",
       "      <td>2/25/2021</td>\n",
       "      <td>12:57 PM</td>\n",
       "      <td>80.0</td>\n",
       "      <td>Breast 1m</td>\n",
       "      <td>IMRT Breast&amp;SCF 15#</td>\n",
       "      <td>1</td>\n",
       "      <td>Out</td>\n",
       "      <td>C50.9 01</td>\n",
       "      <td>FMS</td>\n",
       "      <td>LN2</td>\n",
       "    </tr>\n",
       "  </tbody>\n",
       "</table>\n",
       "<p>718 rows × 10 columns</p>\n",
       "</div>"
      ],
      "text/plain": [
       "          Date      Time  Patient Number Procedure Code          Description  \\\n",
       "0     2/1/2021   9:06 AM             5.0       Image 02      Image Portal x2   \n",
       "1     2/1/2021   9:06 AM             5.0      Breast 1q  IMRT Breath Hold 5#   \n",
       "2     2/1/2021   9:38 AM            90.0      IMRT/VMAT       Plan IMRT/VMAT   \n",
       "3     2/1/2021   9:41 AM            49.0      IMRT/VMAT       Plan IMRT/VMAT   \n",
       "4     2/1/2021   9:45 AM            72.0      Breast 1m  IMRT Breast&SCF 15#   \n",
       "..         ...       ...             ...            ...                  ...   \n",
       "714  2/25/2021  12:20 PM            63.0      Met/Other           Other Mets   \n",
       "715  2/25/2021  12:36 PM            79.0       Image 30            Cone Beam   \n",
       "716  2/25/2021  12:36 PM            79.0     Urology 2v    VMAT Prostate 20#   \n",
       "717  2/25/2021  12:57 PM            80.0       Image 02      Image Portal x2   \n",
       "718  2/25/2021  12:57 PM            80.0      Breast 1m  IMRT Breast&SCF 15#   \n",
       "\n",
       "     Status In/Out Patient Protocol Code Staff Initials Location  \n",
       "0         1            Out      C50.9 01            FMS      LN2  \n",
       "1         1            Out      C50.9 01            FMS      LN2  \n",
       "2         1            Out      C50.9 01            FMS      LN2  \n",
       "3         1            Out      C50.9 01            FMS      LN2  \n",
       "4         1            Out      C50.9 01            FMS      LN2  \n",
       "..      ...            ...           ...            ...      ...  \n",
       "714       1            Out      C34.9 01            JFL      LN2  \n",
       "715       1            Out      C61.9 02            JFL      LN2  \n",
       "716       1            Out      C61.9 02            JFL      LN2  \n",
       "717       1            Out      C50.9 01            FMS      LN2  \n",
       "718       1            Out      C50.9 01            FMS      LN2  \n",
       "\n",
       "[718 rows x 10 columns]"
      ]
     },
     "execution_count": 877,
     "metadata": {},
     "output_type": "execute_result"
    }
   ],
   "source": [
    "postdata_patient"
   ]
  },
  {
   "cell_type": "code",
   "execution_count": 878,
   "id": "319f22f6",
   "metadata": {},
   "outputs": [
    {
     "name": "stdout",
     "output_type": "stream",
     "text": [
      "<class 'pandas.core.frame.DataFrame'>\n",
      "Int64Index: 718 entries, 0 to 718\n",
      "Data columns (total 10 columns):\n",
      " #   Column          Non-Null Count  Dtype  \n",
      "---  ------          --------------  -----  \n",
      " 0   Date            718 non-null    object \n",
      " 1   Time            718 non-null    object \n",
      " 2   Patient Number  718 non-null    float64\n",
      " 3   Procedure Code  718 non-null    object \n",
      " 4   Description     718 non-null    object \n",
      " 5   Status          718 non-null    int64  \n",
      " 6   In/Out Patient  718 non-null    object \n",
      " 7   Protocol Code   718 non-null    object \n",
      " 8   Staff Initials  718 non-null    object \n",
      " 9   Location        718 non-null    object \n",
      "dtypes: float64(1), int64(1), object(8)\n",
      "memory usage: 61.7+ KB\n"
     ]
    }
   ],
   "source": [
    "postdata_patient.info()"
   ]
  },
  {
   "cell_type": "code",
   "execution_count": 879,
   "id": "2b3bf61b",
   "metadata": {},
   "outputs": [],
   "source": [
    "postdata_patient.drop(['Patient Number'], inplace = True, axis = 1 )"
   ]
  },
  {
   "cell_type": "code",
   "execution_count": 880,
   "id": "cbd4e8b3",
   "metadata": {},
   "outputs": [],
   "source": [
    "postdata_patient['Date'] = pd.to_datetime(postdata_patient['Date'])"
   ]
  },
  {
   "cell_type": "code",
   "execution_count": 881,
   "id": "365fb3e3",
   "metadata": {},
   "outputs": [],
   "source": [
    "postdata_patient = pd.DataFrame(postdata_patient.groupby(['Date']).sum('Status'))"
   ]
  },
  {
   "cell_type": "code",
   "execution_count": 882,
   "id": "ffc59115",
   "metadata": {},
   "outputs": [
    {
     "data": {
      "text/html": [
       "<div>\n",
       "<style scoped>\n",
       "    .dataframe tbody tr th:only-of-type {\n",
       "        vertical-align: middle;\n",
       "    }\n",
       "\n",
       "    .dataframe tbody tr th {\n",
       "        vertical-align: top;\n",
       "    }\n",
       "\n",
       "    .dataframe thead th {\n",
       "        text-align: right;\n",
       "    }\n",
       "</style>\n",
       "<table border=\"1\" class=\"dataframe\">\n",
       "  <thead>\n",
       "    <tr style=\"text-align: right;\">\n",
       "      <th></th>\n",
       "      <th>Status</th>\n",
       "    </tr>\n",
       "    <tr>\n",
       "      <th>Date</th>\n",
       "      <th></th>\n",
       "    </tr>\n",
       "  </thead>\n",
       "  <tbody>\n",
       "    <tr>\n",
       "      <th>2021-02-01</th>\n",
       "      <td>39</td>\n",
       "    </tr>\n",
       "    <tr>\n",
       "      <th>2021-02-02</th>\n",
       "      <td>33</td>\n",
       "    </tr>\n",
       "    <tr>\n",
       "      <th>2021-02-03</th>\n",
       "      <td>33</td>\n",
       "    </tr>\n",
       "    <tr>\n",
       "      <th>2021-02-04</th>\n",
       "      <td>37</td>\n",
       "    </tr>\n",
       "    <tr>\n",
       "      <th>2021-02-05</th>\n",
       "      <td>30</td>\n",
       "    </tr>\n",
       "    <tr>\n",
       "      <th>2021-02-08</th>\n",
       "      <td>60</td>\n",
       "    </tr>\n",
       "    <tr>\n",
       "      <th>2021-02-09</th>\n",
       "      <td>53</td>\n",
       "    </tr>\n",
       "    <tr>\n",
       "      <th>2021-02-10</th>\n",
       "      <td>46</td>\n",
       "    </tr>\n",
       "    <tr>\n",
       "      <th>2021-02-11</th>\n",
       "      <td>39</td>\n",
       "    </tr>\n",
       "    <tr>\n",
       "      <th>2021-02-12</th>\n",
       "      <td>32</td>\n",
       "    </tr>\n",
       "    <tr>\n",
       "      <th>2021-02-15</th>\n",
       "      <td>40</td>\n",
       "    </tr>\n",
       "    <tr>\n",
       "      <th>2021-02-16</th>\n",
       "      <td>35</td>\n",
       "    </tr>\n",
       "    <tr>\n",
       "      <th>2021-02-17</th>\n",
       "      <td>38</td>\n",
       "    </tr>\n",
       "    <tr>\n",
       "      <th>2021-02-18</th>\n",
       "      <td>37</td>\n",
       "    </tr>\n",
       "    <tr>\n",
       "      <th>2021-02-19</th>\n",
       "      <td>35</td>\n",
       "    </tr>\n",
       "    <tr>\n",
       "      <th>2021-02-22</th>\n",
       "      <td>37</td>\n",
       "    </tr>\n",
       "    <tr>\n",
       "      <th>2021-02-23</th>\n",
       "      <td>36</td>\n",
       "    </tr>\n",
       "    <tr>\n",
       "      <th>2021-02-24</th>\n",
       "      <td>36</td>\n",
       "    </tr>\n",
       "    <tr>\n",
       "      <th>2021-02-25</th>\n",
       "      <td>22</td>\n",
       "    </tr>\n",
       "  </tbody>\n",
       "</table>\n",
       "</div>"
      ],
      "text/plain": [
       "            Status\n",
       "Date              \n",
       "2021-02-01      39\n",
       "2021-02-02      33\n",
       "2021-02-03      33\n",
       "2021-02-04      37\n",
       "2021-02-05      30\n",
       "2021-02-08      60\n",
       "2021-02-09      53\n",
       "2021-02-10      46\n",
       "2021-02-11      39\n",
       "2021-02-12      32\n",
       "2021-02-15      40\n",
       "2021-02-16      35\n",
       "2021-02-17      38\n",
       "2021-02-18      37\n",
       "2021-02-19      35\n",
       "2021-02-22      37\n",
       "2021-02-23      36\n",
       "2021-02-24      36\n",
       "2021-02-25      22"
      ]
     },
     "execution_count": 882,
     "metadata": {},
     "output_type": "execute_result"
    }
   ],
   "source": [
    "postdata_patient"
   ]
  },
  {
   "cell_type": "code",
   "execution_count": 883,
   "id": "65105dca",
   "metadata": {},
   "outputs": [
    {
     "name": "stdout",
     "output_type": "stream",
     "text": [
      "<class 'pandas.core.frame.DataFrame'>\n",
      "DatetimeIndex: 19 entries, 2021-02-01 to 2021-02-25\n",
      "Data columns (total 1 columns):\n",
      " #   Column  Non-Null Count  Dtype\n",
      "---  ------  --------------  -----\n",
      " 0   Status  19 non-null     int64\n",
      "dtypes: int64(1)\n",
      "memory usage: 304.0 bytes\n"
     ]
    }
   ],
   "source": [
    "postdata_patient.info()"
   ]
  },
  {
   "cell_type": "code",
   "execution_count": 884,
   "id": "52d3ca31",
   "metadata": {},
   "outputs": [
    {
     "data": {
      "text/plain": [
       "(19, 1)"
      ]
     },
     "execution_count": 884,
     "metadata": {},
     "output_type": "execute_result"
    }
   ],
   "source": [
    "postdata_patient.shape"
   ]
  },
  {
   "cell_type": "code",
   "execution_count": 885,
   "id": "509ffad3",
   "metadata": {},
   "outputs": [
    {
     "data": {
      "image/png": "[encoded data removed]",
      "text/plain": [
       "<Figure size 432x288 with 1 Axes>"
      ]
     },
     "execution_count": 885,
     "metadata": {},
     "output_type": "execute_result"
    },
    {
     "data": {
      "image/png": "[encoded data removed]",
      "text/plain": [
       "<Figure size 432x288 with 1 Axes>"
      ]
     },
     "metadata": {
      "needs_background": "light"
     },
     "output_type": "display_data"
    }
   ],
   "source": [
    "# Plotting ACF to calculate Moving Average\n",
    "\n",
    "plot_acf(postdata_patient)"
   ]
  },
  {
   "cell_type": "code",
   "execution_count": 886,
   "id": "40edd231",
   "metadata": {},
   "outputs": [
    {
     "name": "stdout",
     "output_type": "stream",
     "text": [
      "Performing stepwise search to minimize aic\n",
      " ARIMA(2,0,2)(0,0,0)[0]             : AIC=147.616, Time=0.07 sec\n",
      " ARIMA(0,0,0)(0,0,0)[0]             : AIC=194.768, Time=0.01 sec\n",
      " ARIMA(1,0,0)(0,0,0)[0]             : AIC=144.237, Time=0.01 sec\n",
      " ARIMA(0,0,1)(0,0,0)[0]             : AIC=inf, Time=0.03 sec\n",
      " ARIMA(2,0,0)(0,0,0)[0]             : AIC=144.734, Time=0.02 sec\n",
      " ARIMA(1,0,1)(0,0,0)[0]             : AIC=144.301, Time=0.03 sec\n",
      " ARIMA(2,0,1)(0,0,0)[0]             : AIC=145.242, Time=0.06 sec\n",
      " ARIMA(1,0,0)(0,0,0)[0] intercept   : AIC=137.048, Time=0.03 sec\n",
      " ARIMA(0,0,0)(0,0,0)[0] intercept   : AIC=136.894, Time=0.02 sec\n",
      " ARIMA(0,0,1)(0,0,0)[0] intercept   : AIC=137.340, Time=0.02 sec\n",
      " ARIMA(1,0,1)(0,0,0)[0] intercept   : AIC=139.048, Time=0.07 sec\n",
      "\n",
      "Best model:  ARIMA(0,0,0)(0,0,0)[0] intercept\n",
      "Total fit time: 0.394 seconds\n"
     ]
    }
   ],
   "source": [
    "stepwise_fit = auto_arima(postdata_patient['Status'], trace = True, suppress_warnings = True, seasonal = False)"
   ]
  },
  {
   "cell_type": "code",
   "execution_count": 887,
   "id": "8621337e",
   "metadata": {},
   "outputs": [
    {
     "data": {
      "text/html": [
       "<table class=\"simpletable\">\n",
       "<caption>SARIMAX Results</caption>\n",
       "<tr>\n",
       "  <th>Dep. Variable:</th>           <td>y</td>        <th>  No. Observations:  </th>   <td>19</td>   \n",
       "</tr>\n",
       "<tr>\n",
       "  <th>Model:</th>                <td>SARIMAX</td>     <th>  Log Likelihood     </th> <td>-66.447</td>\n",
       "</tr>\n",
       "<tr>\n",
       "  <th>Date:</th>            <td>Sat, 10 Dec 2022</td> <th>  AIC                </th> <td>136.894</td>\n",
       "</tr>\n",
       "<tr>\n",
       "  <th>Time:</th>                <td>11:16:05</td>     <th>  BIC                </th> <td>138.783</td>\n",
       "</tr>\n",
       "<tr>\n",
       "  <th>Sample:</th>             <td>02-01-2021</td>    <th>  HQIC               </th> <td>137.214</td>\n",
       "</tr>\n",
       "<tr>\n",
       "  <th></th>                   <td>- 02-25-2021</td>   <th>                     </th>    <td> </td>   \n",
       "</tr>\n",
       "<tr>\n",
       "  <th>Covariance Type:</th>        <td>opg</td>       <th>                     </th>    <td> </td>   \n",
       "</tr>\n",
       "</table>\n",
       "<table class=\"simpletable\">\n",
       "<tr>\n",
       "      <td></td>         <th>coef</th>     <th>std err</th>      <th>z</th>      <th>P>|z|</th>  <th>[0.025</th>    <th>0.975]</th>  \n",
       "</tr>\n",
       "<tr>\n",
       "  <th>intercept</th> <td>   37.7895</td> <td>    2.178</td> <td>   17.351</td> <td> 0.000</td> <td>   33.521</td> <td>   42.058</td>\n",
       "</tr>\n",
       "<tr>\n",
       "  <th>sigma2</th>    <td>   63.8504</td> <td>   17.922</td> <td>    3.563</td> <td> 0.000</td> <td>   28.724</td> <td>   98.977</td>\n",
       "</tr>\n",
       "</table>\n",
       "<table class=\"simpletable\">\n",
       "<tr>\n",
       "  <th>Ljung-Box (L1) (Q):</th>     <td>1.71</td> <th>  Jarque-Bera (JB):  </th> <td>5.97</td>\n",
       "</tr>\n",
       "<tr>\n",
       "  <th>Prob(Q):</th>                <td>0.19</td> <th>  Prob(JB):          </th> <td>0.05</td>\n",
       "</tr>\n",
       "<tr>\n",
       "  <th>Heteroskedasticity (H):</th> <td>0.44</td> <th>  Skew:              </th> <td>1.05</td>\n",
       "</tr>\n",
       "<tr>\n",
       "  <th>Prob(H) (two-sided):</th>    <td>0.34</td> <th>  Kurtosis:          </th> <td>4.77</td>\n",
       "</tr>\n",
       "</table><br/><br/>Warnings:<br/>[1] Covariance matrix calculated using the outer product of gradients (complex-step)."
      ],
      "text/plain": [
       "<class 'statsmodels.iolib.summary.Summary'>\n",
       "\"\"\"\n",
       "                               SARIMAX Results                                \n",
       "==============================================================================\n",
       "Dep. Variable:                      y   No. Observations:                   19\n",
       "Model:                        SARIMAX   Log Likelihood                 -66.447\n",
       "Date:                Sat, 10 Dec 2022   AIC                            136.894\n",
       "Time:                        11:16:05   BIC                            138.783\n",
       "Sample:                    02-01-2021   HQIC                           137.214\n",
       "                         - 02-25-2021                                         \n",
       "Covariance Type:                  opg                                         \n",
       "==============================================================================\n",
       "                 coef    std err          z      P>|z|      [0.025      0.975]\n",
       "------------------------------------------------------------------------------\n",
       "intercept     37.7895      2.178     17.351      0.000      33.521      42.058\n",
       "sigma2        63.8504     17.922      3.563      0.000      28.724      98.977\n",
       "===================================================================================\n",
       "Ljung-Box (L1) (Q):                   1.71   Jarque-Bera (JB):                 5.97\n",
       "Prob(Q):                              0.19   Prob(JB):                         0.05\n",
       "Heteroskedasticity (H):               0.44   Skew:                             1.05\n",
       "Prob(H) (two-sided):                  0.34   Kurtosis:                         4.77\n",
       "===================================================================================\n",
       "\n",
       "Warnings:\n",
       "[1] Covariance matrix calculated using the outer product of gradients (complex-step).\n",
       "\"\"\""
      ]
     },
     "execution_count": 887,
     "metadata": {},
     "output_type": "execute_result"
    }
   ],
   "source": [
    "stepwise_fit.summary()"
   ]
  },
  {
   "cell_type": "code",
   "execution_count": 888,
   "id": "6e809aa3",
   "metadata": {},
   "outputs": [],
   "source": [
    "train = postdata_patient.iloc[: 13]\n",
    "test = postdata_patient.iloc[13 :]"
   ]
  },
  {
   "cell_type": "code",
   "execution_count": 889,
   "id": "b469cd3c",
   "metadata": {},
   "outputs": [
    {
     "data": {
      "text/html": [
       "<table class=\"simpletable\">\n",
       "<caption>SARIMAX Results</caption>\n",
       "<tr>\n",
       "  <th>Dep. Variable:</th>        <td>Status</td>      <th>  No. Observations:  </th>   <td>13</td>   \n",
       "</tr>\n",
       "<tr>\n",
       "  <th>Model:</th>            <td>ARIMA(4, 1, 0)</td>  <th>  Log Likelihood     </th> <td>-43.156</td>\n",
       "</tr>\n",
       "<tr>\n",
       "  <th>Date:</th>            <td>Sat, 10 Dec 2022</td> <th>  AIC                </th> <td>96.312</td> \n",
       "</tr>\n",
       "<tr>\n",
       "  <th>Time:</th>                <td>11:16:09</td>     <th>  BIC                </th> <td>98.736</td> \n",
       "</tr>\n",
       "<tr>\n",
       "  <th>Sample:</th>             <td>02-01-2021</td>    <th>  HQIC               </th> <td>95.414</td> \n",
       "</tr>\n",
       "<tr>\n",
       "  <th></th>                   <td>- 02-17-2021</td>   <th>                     </th>    <td> </td>   \n",
       "</tr>\n",
       "<tr>\n",
       "  <th>Covariance Type:</th>        <td>opg</td>       <th>                     </th>    <td> </td>   \n",
       "</tr>\n",
       "</table>\n",
       "<table class=\"simpletable\">\n",
       "<tr>\n",
       "     <td></td>       <th>coef</th>     <th>std err</th>      <th>z</th>      <th>P>|z|</th>  <th>[0.025</th>    <th>0.975]</th>  \n",
       "</tr>\n",
       "<tr>\n",
       "  <th>ar.L1</th>  <td>   -0.4129</td> <td>    0.501</td> <td>   -0.823</td> <td> 0.410</td> <td>   -1.396</td> <td>    0.570</td>\n",
       "</tr>\n",
       "<tr>\n",
       "  <th>ar.L2</th>  <td>   -0.1754</td> <td>    0.612</td> <td>   -0.286</td> <td> 0.775</td> <td>   -1.376</td> <td>    1.025</td>\n",
       "</tr>\n",
       "<tr>\n",
       "  <th>ar.L3</th>  <td>   -0.2488</td> <td>    0.420</td> <td>   -0.593</td> <td> 0.553</td> <td>   -1.071</td> <td>    0.574</td>\n",
       "</tr>\n",
       "<tr>\n",
       "  <th>ar.L4</th>  <td>   -0.3965</td> <td>    1.051</td> <td>   -0.377</td> <td> 0.706</td> <td>   -2.456</td> <td>    1.663</td>\n",
       "</tr>\n",
       "<tr>\n",
       "  <th>sigma2</th> <td>   72.5315</td> <td>   55.823</td> <td>    1.299</td> <td> 0.194</td> <td>  -36.880</td> <td>  181.943</td>\n",
       "</tr>\n",
       "</table>\n",
       "<table class=\"simpletable\">\n",
       "<tr>\n",
       "  <th>Ljung-Box (L1) (Q):</th>     <td>0.00</td> <th>  Jarque-Bera (JB):  </th> <td>16.50</td>\n",
       "</tr>\n",
       "<tr>\n",
       "  <th>Prob(Q):</th>                <td>0.97</td> <th>  Prob(JB):          </th> <td>0.00</td> \n",
       "</tr>\n",
       "<tr>\n",
       "  <th>Heteroskedasticity (H):</th> <td>0.86</td> <th>  Skew:              </th> <td>2.13</td> \n",
       "</tr>\n",
       "<tr>\n",
       "  <th>Prob(H) (two-sided):</th>    <td>0.89</td> <th>  Kurtosis:          </th> <td>6.86</td> \n",
       "</tr>\n",
       "</table><br/><br/>Warnings:<br/>[1] Covariance matrix calculated using the outer product of gradients (complex-step)."
      ],
      "text/plain": [
       "<class 'statsmodels.iolib.summary.Summary'>\n",
       "\"\"\"\n",
       "                               SARIMAX Results                                \n",
       "==============================================================================\n",
       "Dep. Variable:                 Status   No. Observations:                   13\n",
       "Model:                 ARIMA(4, 1, 0)   Log Likelihood                 -43.156\n",
       "Date:                Sat, 10 Dec 2022   AIC                             96.312\n",
       "Time:                        11:16:09   BIC                             98.736\n",
       "Sample:                    02-01-2021   HQIC                            95.414\n",
       "                         - 02-17-2021                                         \n",
       "Covariance Type:                  opg                                         \n",
       "==============================================================================\n",
       "                 coef    std err          z      P>|z|      [0.025      0.975]\n",
       "------------------------------------------------------------------------------\n",
       "ar.L1         -0.4129      0.501     -0.823      0.410      -1.396       0.570\n",
       "ar.L2         -0.1754      0.612     -0.286      0.775      -1.376       1.025\n",
       "ar.L3         -0.2488      0.420     -0.593      0.553      -1.071       0.574\n",
       "ar.L4         -0.3965      1.051     -0.377      0.706      -2.456       1.663\n",
       "sigma2        72.5315     55.823      1.299      0.194     -36.880     181.943\n",
       "===================================================================================\n",
       "Ljung-Box (L1) (Q):                   0.00   Jarque-Bera (JB):                16.50\n",
       "Prob(Q):                              0.97   Prob(JB):                         0.00\n",
       "Heteroskedasticity (H):               0.86   Skew:                             2.13\n",
       "Prob(H) (two-sided):                  0.89   Kurtosis:                         6.86\n",
       "===================================================================================\n",
       "\n",
       "Warnings:\n",
       "[1] Covariance matrix calculated using the outer product of gradients (complex-step).\n",
       "\"\"\""
      ]
     },
     "execution_count": 889,
     "metadata": {},
     "output_type": "execute_result"
    }
   ],
   "source": [
    "# Tried with various parameters and selected the best one (4,0,0) (4, 0,6) (5,0,5) (5,0,7) (5,1,7) (5,1,5) (4,1,0 : very good)\n",
    "model = sm.tsa.arima.ARIMA(train, order = (4,1,0))\n",
    "model = model.fit()\n",
    "model.summary()"
   ]
  },
  {
   "cell_type": "code",
   "execution_count": 890,
   "id": "8864f4a8",
   "metadata": {},
   "outputs": [
    {
     "data": {
      "text/plain": [
       "(6, 1)"
      ]
     },
     "execution_count": 890,
     "metadata": {},
     "output_type": "execute_result"
    }
   ],
   "source": [
    "test.shape"
   ]
  },
  {
   "cell_type": "code",
   "execution_count": 891,
   "id": "46295803",
   "metadata": {},
   "outputs": [],
   "source": [
    "forecast = model.predict(n_periods = 6)"
   ]
  },
  {
   "cell_type": "code",
   "execution_count": 892,
   "id": "c544242d",
   "metadata": {},
   "outputs": [
    {
     "data": {
      "text/plain": [
       "Date\n",
       "2021-02-18    38.423409\n",
       "2021-02-19    35.794499\n",
       "2021-02-22    38.041736\n",
       "2021-02-23    36.280121\n",
       "2021-02-24    37.099497\n",
       "2021-02-25    37.553395\n",
       "Name: predicted_mean, dtype: float64"
      ]
     },
     "execution_count": 892,
     "metadata": {},
     "output_type": "execute_result"
    }
   ],
   "source": [
    "start = len(train)\n",
    "end = len(train)+ len(test) - 1\n",
    "pred = model.predict(start= start, end = end, typ= 'levels')\n",
    "pred.index = postdata_patient.index[start:end+1]\n",
    "pred"
   ]
  },
  {
   "cell_type": "code",
   "execution_count": 893,
   "id": "8d9c8b04",
   "metadata": {},
   "outputs": [
    {
     "data": {
      "text/html": [
       "<div>\n",
       "<style scoped>\n",
       "    .dataframe tbody tr th:only-of-type {\n",
       "        vertical-align: middle;\n",
       "    }\n",
       "\n",
       "    .dataframe tbody tr th {\n",
       "        vertical-align: top;\n",
       "    }\n",
       "\n",
       "    .dataframe thead th {\n",
       "        text-align: right;\n",
       "    }\n",
       "</style>\n",
       "<table border=\"1\" class=\"dataframe\">\n",
       "  <thead>\n",
       "    <tr style=\"text-align: right;\">\n",
       "      <th></th>\n",
       "      <th>Status</th>\n",
       "    </tr>\n",
       "    <tr>\n",
       "      <th>Date</th>\n",
       "      <th></th>\n",
       "    </tr>\n",
       "  </thead>\n",
       "  <tbody>\n",
       "    <tr>\n",
       "      <th>2021-02-18</th>\n",
       "      <td>37</td>\n",
       "    </tr>\n",
       "    <tr>\n",
       "      <th>2021-02-19</th>\n",
       "      <td>35</td>\n",
       "    </tr>\n",
       "    <tr>\n",
       "      <th>2021-02-22</th>\n",
       "      <td>37</td>\n",
       "    </tr>\n",
       "    <tr>\n",
       "      <th>2021-02-23</th>\n",
       "      <td>36</td>\n",
       "    </tr>\n",
       "    <tr>\n",
       "      <th>2021-02-24</th>\n",
       "      <td>36</td>\n",
       "    </tr>\n",
       "    <tr>\n",
       "      <th>2021-02-25</th>\n",
       "      <td>22</td>\n",
       "    </tr>\n",
       "  </tbody>\n",
       "</table>\n",
       "</div>"
      ],
      "text/plain": [
       "            Status\n",
       "Date              \n",
       "2021-02-18      37\n",
       "2021-02-19      35\n",
       "2021-02-22      37\n",
       "2021-02-23      36\n",
       "2021-02-24      36\n",
       "2021-02-25      22"
      ]
     },
     "execution_count": 893,
     "metadata": {},
     "output_type": "execute_result"
    }
   ],
   "source": [
    "test"
   ]
  },
  {
   "cell_type": "code",
   "execution_count": 894,
   "id": "cd9b4403",
   "metadata": {},
   "outputs": [
    {
     "data": {
      "text/plain": [
       "[<matplotlib.lines.Line2D at 0x22f0d6c96d0>]"
      ]
     },
     "execution_count": 894,
     "metadata": {},
     "output_type": "execute_result"
    },
    {
     "data": {
      "image/png": "[encoded data removed]",
      "text/plain": [
       "<Figure size 432x288 with 1 Axes>"
      ]
     },
     "metadata": {
      "needs_background": "light"
     },
     "output_type": "display_data"
    }
   ],
   "source": [
    "plt.plot(pred)\n",
    "plt.plot(test)"
   ]
  },
  {
   "cell_type": "code",
   "execution_count": 2080,
   "id": "3e7be9c7",
   "metadata": {},
   "outputs": [
    {
     "data": {
      "text/plain": [
       "6.415319971155021"
      ]
     },
     "execution_count": 2080,
     "metadata": {},
     "output_type": "execute_result"
    }
   ],
   "source": [
    "np.sqrt(mean_squared_error(test, pred))"
   ]
  },
  {
   "cell_type": "code",
   "execution_count": 2081,
   "id": "99c9803b",
   "metadata": {},
   "outputs": [
    {
     "data": {
      "text/plain": [
       "Status    33.833333\n",
       "dtype: float64"
      ]
     },
     "execution_count": 2081,
     "metadata": {},
     "output_type": "execute_result"
    }
   ],
   "source": [
    "test.mean()"
   ]
  },
  {
   "cell_type": "code",
   "execution_count": 2082,
   "id": "9369640d",
   "metadata": {},
   "outputs": [
    {
     "data": {
      "text/plain": [
       "0.13910344948621203"
      ]
     },
     "execution_count": 2082,
     "metadata": {},
     "output_type": "execute_result"
    }
   ],
   "source": [
    "mean_absolute_percentage_error(test, pred)"
   ]
  },
  {
   "cell_type": "code",
   "execution_count": 2085,
   "id": "109bf304",
   "metadata": {},
   "outputs": [],
   "source": [
    "# Predicting Future Dates\n",
    "\n",
    "model_full= sm.tsa.arima.ARIMA(postdata_patient, order = (4,1,0))\n",
    "model_full = model_full.fit()"
   ]
  },
  {
   "cell_type": "code",
   "execution_count": 2086,
   "id": "c2450021",
   "metadata": {},
   "outputs": [
    {
     "data": {
      "text/html": [
       "<div>\n",
       "<style scoped>\n",
       "    .dataframe tbody tr th:only-of-type {\n",
       "        vertical-align: middle;\n",
       "    }\n",
       "\n",
       "    .dataframe tbody tr th {\n",
       "        vertical-align: top;\n",
       "    }\n",
       "\n",
       "    .dataframe thead th {\n",
       "        text-align: right;\n",
       "    }\n",
       "</style>\n",
       "<table border=\"1\" class=\"dataframe\">\n",
       "  <thead>\n",
       "    <tr style=\"text-align: right;\">\n",
       "      <th></th>\n",
       "      <th>Status</th>\n",
       "    </tr>\n",
       "    <tr>\n",
       "      <th>Date</th>\n",
       "      <th></th>\n",
       "    </tr>\n",
       "  </thead>\n",
       "  <tbody>\n",
       "    <tr>\n",
       "      <th>2021-02-19</th>\n",
       "      <td>35</td>\n",
       "    </tr>\n",
       "    <tr>\n",
       "      <th>2021-02-22</th>\n",
       "      <td>37</td>\n",
       "    </tr>\n",
       "    <tr>\n",
       "      <th>2021-02-23</th>\n",
       "      <td>36</td>\n",
       "    </tr>\n",
       "    <tr>\n",
       "      <th>2021-02-24</th>\n",
       "      <td>36</td>\n",
       "    </tr>\n",
       "    <tr>\n",
       "      <th>2021-02-25</th>\n",
       "      <td>22</td>\n",
       "    </tr>\n",
       "  </tbody>\n",
       "</table>\n",
       "</div>"
      ],
      "text/plain": [
       "            Status\n",
       "Date              \n",
       "2021-02-19      35\n",
       "2021-02-22      37\n",
       "2021-02-23      36\n",
       "2021-02-24      36\n",
       "2021-02-25      22"
      ]
     },
     "execution_count": 2086,
     "metadata": {},
     "output_type": "execute_result"
    }
   ],
   "source": [
    "postdata_patient.tail()"
   ]
  },
  {
   "cell_type": "code",
   "execution_count": 2097,
   "id": "51778da0",
   "metadata": {},
   "outputs": [
    {
     "name": "stdout",
     "output_type": "stream",
     "text": [
      "2021-02-25    27.315567\n",
      "2021-02-26    27.886659\n",
      "2021-02-27    30.561340\n",
      "2021-02-28    33.384999\n",
      "2021-03-01    29.514688\n",
      "2021-03-02    29.689416\n",
      "2021-03-03    28.459426\n",
      "2021-03-04    28.891353\n",
      "Freq: D, Name: Number of Patients Prediction, dtype: float64\n"
     ]
    }
   ],
   "source": [
    "future_dates = pd.date_range(start = '2021-02-25', end = '2021-03-04')\n",
    "future_pred = model_full.predict(start = len(postdata_patient), end = len(postdata_patient)+7, typ= 'levels').rename('Number of Patients Prediction')\n",
    "future_pred.index = future_dates\n",
    "print(future_pred)"
   ]
  },
  {
   "cell_type": "code",
   "execution_count": 2098,
   "id": "acea9ea7",
   "metadata": {},
   "outputs": [
    {
     "data": {
      "text/plain": [
       "<AxesSubplot:>"
      ]
     },
     "execution_count": 2098,
     "metadata": {},
     "output_type": "execute_result"
    },
    {
     "data": {
      "image/png": "[encoded data removed]",
      "text/plain": [
       "<Figure size 432x288 with 1 Axes>"
      ]
     },
     "metadata": {
      "needs_background": "light"
     },
     "output_type": "display_data"
    }
   ],
   "source": [
    "future_pred.plot(legend = True)"
   ]
  },
  {
   "cell_type": "markdown",
   "id": "565334e8",
   "metadata": {},
   "source": [
    "Applyimg ARIMA for precovid dataset as well"
   ]
  },
  {
   "cell_type": "code",
   "execution_count": 897,
   "id": "0623e4f9",
   "metadata": {},
   "outputs": [],
   "source": [
    "predata_patient = pd.read_csv('precovid.csv', index_col=False)"
   ]
  },
  {
   "cell_type": "code",
   "execution_count": 898,
   "id": "cfd72ca7",
   "metadata": {},
   "outputs": [],
   "source": [
    "## To remove the unwanted columns : predata\n",
    "minus = ['Unnamed: 1', 'Unnamed: 3', 'Unnamed: 4', 'Unnamed: 6', 'Unnamed: 7', 'Unnamed: 9', 'Unnamed: 10', 'Unnamed: 12', 'Unnamed: 13', 'Unnamed: 15', 'Run by:  RDL', 'Unnamed: 19', 'Unnamed: 21', 'Unnamed: 23', 'Unnamed: 24', 'Unnamed: 25', 'Unnamed: 26', 'Unnamed: 27', 'Unnamed: 28', 'Unnamed: 29', 'Unnamed: 30']\n",
    "predata_patient.drop(minus, inplace =True, axis =1)"
   ]
  },
  {
   "cell_type": "code",
   "execution_count": 900,
   "id": "f0d3be41",
   "metadata": {},
   "outputs": [],
   "source": [
    "predata_patient.rename(columns={'SW Wales Cancer Centre': 'Date', 'Unnamed: 2': 'Time', 'Unnamed: 5':'Patient Number', \n",
    "                    'Unnamed: 8': 'Procedure Code', 'Unnamed: 11': 'Description', 'Unnamed: 14': 'Status', 'Unnamed: 16': 'In/Out Patient', 'Unnamed: 17': 'Protocol Code', \n",
    "                    'Unnamed: 20': 'Staff Initials'}, inplace = True)\n",
    "predata_patient.rename(columns={predata_patient.columns[9]: 'Location'}, inplace = True)"
   ]
  },
  {
   "cell_type": "code",
   "execution_count": 901,
   "id": "5da79f91",
   "metadata": {},
   "outputs": [],
   "source": [
    "predata_patient = predata_patient.dropna(how='any',axis=0) "
   ]
  },
  {
   "cell_type": "code",
   "execution_count": 902,
   "id": "e8d15f66",
   "metadata": {},
   "outputs": [
    {
     "data": {
      "text/html": [
       "<div>\n",
       "<style scoped>\n",
       "    .dataframe tbody tr th:only-of-type {\n",
       "        vertical-align: middle;\n",
       "    }\n",
       "\n",
       "    .dataframe tbody tr th {\n",
       "        vertical-align: top;\n",
       "    }\n",
       "\n",
       "    .dataframe thead th {\n",
       "        text-align: right;\n",
       "    }\n",
       "</style>\n",
       "<table border=\"1\" class=\"dataframe\">\n",
       "  <thead>\n",
       "    <tr style=\"text-align: right;\">\n",
       "      <th></th>\n",
       "      <th>Date</th>\n",
       "      <th>Time</th>\n",
       "      <th>Patient Number</th>\n",
       "      <th>Procedure Code</th>\n",
       "      <th>Description</th>\n",
       "      <th>Status</th>\n",
       "      <th>In/Out Patient</th>\n",
       "      <th>Protocol Code</th>\n",
       "      <th>Staff Initials</th>\n",
       "      <th>Location</th>\n",
       "    </tr>\n",
       "  </thead>\n",
       "  <tbody>\n",
       "    <tr>\n",
       "      <th>0</th>\n",
       "      <td>2/1/2020</td>\n",
       "      <td>10:57 AM</td>\n",
       "      <td>Patient 1</td>\n",
       "      <td>Image 01</td>\n",
       "      <td>Image Portal x1</td>\n",
       "      <td>1.0</td>\n",
       "      <td>In</td>\n",
       "      <td>C80.9 00</td>\n",
       "      <td>EEC</td>\n",
       "      <td>LC</td>\n",
       "    </tr>\n",
       "    <tr>\n",
       "      <th>1</th>\n",
       "      <td>2/1/2020</td>\n",
       "      <td>10:57 AM</td>\n",
       "      <td>Patient 1</td>\n",
       "      <td>Met/Bone1j</td>\n",
       "      <td>Sacrum/5#</td>\n",
       "      <td>1.0</td>\n",
       "      <td>In</td>\n",
       "      <td>C80.9 00</td>\n",
       "      <td>EEC</td>\n",
       "      <td>LC</td>\n",
       "    </tr>\n",
       "    <tr>\n",
       "      <th>2</th>\n",
       "      <td>2/1/2020</td>\n",
       "      <td>11:18 AM</td>\n",
       "      <td>Patient 2</td>\n",
       "      <td>Calc</td>\n",
       "      <td>Calc single/parallel</td>\n",
       "      <td>1.0</td>\n",
       "      <td>In</td>\n",
       "      <td>C50.9 01</td>\n",
       "      <td>MR</td>\n",
       "      <td>LC</td>\n",
       "    </tr>\n",
       "    <tr>\n",
       "      <th>3</th>\n",
       "      <td>2/1/2020</td>\n",
       "      <td>11:18 AM</td>\n",
       "      <td>Patient 2</td>\n",
       "      <td>Image 01</td>\n",
       "      <td>Image Portal x1</td>\n",
       "      <td>1.0</td>\n",
       "      <td>In</td>\n",
       "      <td>C50.9 01</td>\n",
       "      <td>MR</td>\n",
       "      <td>LC</td>\n",
       "    </tr>\n",
       "    <tr>\n",
       "      <th>4</th>\n",
       "      <td>2/1/2020</td>\n",
       "      <td>11:18 AM</td>\n",
       "      <td>Patient 2</td>\n",
       "      <td>Met/Bone5</td>\n",
       "      <td>Spinal Cord Comp/1#</td>\n",
       "      <td>1.0</td>\n",
       "      <td>In</td>\n",
       "      <td>C50.9 01</td>\n",
       "      <td>MR</td>\n",
       "      <td>LC</td>\n",
       "    </tr>\n",
       "    <tr>\n",
       "      <th>...</th>\n",
       "      <td>...</td>\n",
       "      <td>...</td>\n",
       "      <td>...</td>\n",
       "      <td>...</td>\n",
       "      <td>...</td>\n",
       "      <td>...</td>\n",
       "      <td>...</td>\n",
       "      <td>...</td>\n",
       "      <td>...</td>\n",
       "      <td>...</td>\n",
       "    </tr>\n",
       "    <tr>\n",
       "      <th>980</th>\n",
       "      <td>2/27/2020</td>\n",
       "      <td>4:33 PM</td>\n",
       "      <td>Patient 67</td>\n",
       "      <td>Image 02</td>\n",
       "      <td>Image Portal x2</td>\n",
       "      <td>1.0</td>\n",
       "      <td>Out</td>\n",
       "      <td>C50.9 01</td>\n",
       "      <td>MR</td>\n",
       "      <td>LC</td>\n",
       "    </tr>\n",
       "    <tr>\n",
       "      <th>981</th>\n",
       "      <td>2/27/2020</td>\n",
       "      <td>4:43 PM</td>\n",
       "      <td>Patient 26</td>\n",
       "      <td>Breast 6b</td>\n",
       "      <td>Breast Boost/5# Elec</td>\n",
       "      <td>1.0</td>\n",
       "      <td>Out</td>\n",
       "      <td>C50.9 01</td>\n",
       "      <td>MR</td>\n",
       "      <td>LC</td>\n",
       "    </tr>\n",
       "    <tr>\n",
       "      <th>982</th>\n",
       "      <td>2/27/2020</td>\n",
       "      <td>4:58 PM</td>\n",
       "      <td>Patient 89</td>\n",
       "      <td>Breast 1l</td>\n",
       "      <td>IMRT Breath Hold 15#</td>\n",
       "      <td>1.0</td>\n",
       "      <td>Out</td>\n",
       "      <td>C50.9 01</td>\n",
       "      <td>DP</td>\n",
       "      <td>LC</td>\n",
       "    </tr>\n",
       "    <tr>\n",
       "      <th>983</th>\n",
       "      <td>2/27/2020</td>\n",
       "      <td>5:08 PM</td>\n",
       "      <td>Patient 23</td>\n",
       "      <td>Breast 6b</td>\n",
       "      <td>Breast Boost/5# Elec</td>\n",
       "      <td>1.0</td>\n",
       "      <td>Out</td>\n",
       "      <td>C50.9 01</td>\n",
       "      <td>MR</td>\n",
       "      <td>LC</td>\n",
       "    </tr>\n",
       "    <tr>\n",
       "      <th>984</th>\n",
       "      <td>2/27/2020</td>\n",
       "      <td>5:22 PM</td>\n",
       "      <td>Patient 48</td>\n",
       "      <td>Breast 1m</td>\n",
       "      <td>IMRT Breast&amp;SCF 15#</td>\n",
       "      <td>1.0</td>\n",
       "      <td>Out</td>\n",
       "      <td>C50.9 01</td>\n",
       "      <td>MR</td>\n",
       "      <td>LC</td>\n",
       "    </tr>\n",
       "  </tbody>\n",
       "</table>\n",
       "<p>985 rows × 10 columns</p>\n",
       "</div>"
      ],
      "text/plain": [
       "          Date      Time Patient Number Procedure Code           Description  \\\n",
       "0     2/1/2020  10:57 AM      Patient 1       Image 01       Image Portal x1   \n",
       "1     2/1/2020  10:57 AM      Patient 1     Met/Bone1j             Sacrum/5#   \n",
       "2     2/1/2020  11:18 AM      Patient 2           Calc  Calc single/parallel   \n",
       "3     2/1/2020  11:18 AM      Patient 2       Image 01       Image Portal x1   \n",
       "4     2/1/2020  11:18 AM      Patient 2      Met/Bone5   Spinal Cord Comp/1#   \n",
       "..         ...       ...            ...            ...                   ...   \n",
       "980  2/27/2020   4:33 PM     Patient 67       Image 02       Image Portal x2   \n",
       "981  2/27/2020   4:43 PM     Patient 26      Breast 6b  Breast Boost/5# Elec   \n",
       "982  2/27/2020   4:58 PM     Patient 89      Breast 1l  IMRT Breath Hold 15#   \n",
       "983  2/27/2020   5:08 PM     Patient 23      Breast 6b  Breast Boost/5# Elec   \n",
       "984  2/27/2020   5:22 PM     Patient 48      Breast 1m   IMRT Breast&SCF 15#   \n",
       "\n",
       "     Status In/Out Patient Protocol Code Staff Initials Location  \n",
       "0       1.0             In      C80.9 00            EEC       LC  \n",
       "1       1.0             In      C80.9 00            EEC       LC  \n",
       "2       1.0             In      C50.9 01             MR       LC  \n",
       "3       1.0             In      C50.9 01             MR       LC  \n",
       "4       1.0             In      C50.9 01             MR       LC  \n",
       "..      ...            ...           ...            ...      ...  \n",
       "980     1.0            Out      C50.9 01             MR       LC  \n",
       "981     1.0            Out      C50.9 01             MR       LC  \n",
       "982     1.0            Out      C50.9 01             DP       LC  \n",
       "983     1.0            Out      C50.9 01             MR       LC  \n",
       "984     1.0            Out      C50.9 01             MR       LC  \n",
       "\n",
       "[985 rows x 10 columns]"
      ]
     },
     "execution_count": 902,
     "metadata": {},
     "output_type": "execute_result"
    }
   ],
   "source": [
    "predata_patient"
   ]
  },
  {
   "cell_type": "code",
   "execution_count": 903,
   "id": "05c6b1ba",
   "metadata": {},
   "outputs": [],
   "source": [
    "predata_patient.drop(['Patient Number'], inplace = True, axis = 1 )"
   ]
  },
  {
   "cell_type": "code",
   "execution_count": 904,
   "id": "5a052762",
   "metadata": {},
   "outputs": [],
   "source": [
    "predata_patient['Date'] = pd.to_datetime(predata_patient['Date'])"
   ]
  },
  {
   "cell_type": "code",
   "execution_count": 905,
   "id": "1b7347b2",
   "metadata": {},
   "outputs": [],
   "source": [
    "predata_patient = pd.DataFrame(predata_patient.groupby(['Date']).sum('Status'))"
   ]
  },
  {
   "cell_type": "code",
   "execution_count": 906,
   "id": "d071fb7c",
   "metadata": {},
   "outputs": [
    {
     "data": {
      "text/html": [
       "<div>\n",
       "<style scoped>\n",
       "    .dataframe tbody tr th:only-of-type {\n",
       "        vertical-align: middle;\n",
       "    }\n",
       "\n",
       "    .dataframe tbody tr th {\n",
       "        vertical-align: top;\n",
       "    }\n",
       "\n",
       "    .dataframe thead th {\n",
       "        text-align: right;\n",
       "    }\n",
       "</style>\n",
       "<table border=\"1\" class=\"dataframe\">\n",
       "  <thead>\n",
       "    <tr style=\"text-align: right;\">\n",
       "      <th></th>\n",
       "      <th>Status</th>\n",
       "    </tr>\n",
       "    <tr>\n",
       "      <th>Date</th>\n",
       "      <th></th>\n",
       "    </tr>\n",
       "  </thead>\n",
       "  <tbody>\n",
       "    <tr>\n",
       "      <th>2020-02-01</th>\n",
       "      <td>5.0</td>\n",
       "    </tr>\n",
       "    <tr>\n",
       "      <th>2020-02-03</th>\n",
       "      <td>55.0</td>\n",
       "    </tr>\n",
       "    <tr>\n",
       "      <th>2020-02-04</th>\n",
       "      <td>48.0</td>\n",
       "    </tr>\n",
       "    <tr>\n",
       "      <th>2020-02-05</th>\n",
       "      <td>61.0</td>\n",
       "    </tr>\n",
       "    <tr>\n",
       "      <th>2020-02-06</th>\n",
       "      <td>48.0</td>\n",
       "    </tr>\n",
       "    <tr>\n",
       "      <th>2020-02-07</th>\n",
       "      <td>53.0</td>\n",
       "    </tr>\n",
       "    <tr>\n",
       "      <th>2020-02-10</th>\n",
       "      <td>45.0</td>\n",
       "    </tr>\n",
       "    <tr>\n",
       "      <th>2020-02-11</th>\n",
       "      <td>43.0</td>\n",
       "    </tr>\n",
       "    <tr>\n",
       "      <th>2020-02-12</th>\n",
       "      <td>59.0</td>\n",
       "    </tr>\n",
       "    <tr>\n",
       "      <th>2020-02-13</th>\n",
       "      <td>51.0</td>\n",
       "    </tr>\n",
       "    <tr>\n",
       "      <th>2020-02-14</th>\n",
       "      <td>55.0</td>\n",
       "    </tr>\n",
       "    <tr>\n",
       "      <th>2020-02-17</th>\n",
       "      <td>55.0</td>\n",
       "    </tr>\n",
       "    <tr>\n",
       "      <th>2020-02-18</th>\n",
       "      <td>64.0</td>\n",
       "    </tr>\n",
       "    <tr>\n",
       "      <th>2020-02-19</th>\n",
       "      <td>62.0</td>\n",
       "    </tr>\n",
       "    <tr>\n",
       "      <th>2020-02-20</th>\n",
       "      <td>46.0</td>\n",
       "    </tr>\n",
       "    <tr>\n",
       "      <th>2020-02-21</th>\n",
       "      <td>43.0</td>\n",
       "    </tr>\n",
       "    <tr>\n",
       "      <th>2020-02-24</th>\n",
       "      <td>50.0</td>\n",
       "    </tr>\n",
       "    <tr>\n",
       "      <th>2020-02-25</th>\n",
       "      <td>39.0</td>\n",
       "    </tr>\n",
       "    <tr>\n",
       "      <th>2020-02-26</th>\n",
       "      <td>50.0</td>\n",
       "    </tr>\n",
       "    <tr>\n",
       "      <th>2020-02-27</th>\n",
       "      <td>53.0</td>\n",
       "    </tr>\n",
       "  </tbody>\n",
       "</table>\n",
       "</div>"
      ],
      "text/plain": [
       "            Status\n",
       "Date              \n",
       "2020-02-01     5.0\n",
       "2020-02-03    55.0\n",
       "2020-02-04    48.0\n",
       "2020-02-05    61.0\n",
       "2020-02-06    48.0\n",
       "2020-02-07    53.0\n",
       "2020-02-10    45.0\n",
       "2020-02-11    43.0\n",
       "2020-02-12    59.0\n",
       "2020-02-13    51.0\n",
       "2020-02-14    55.0\n",
       "2020-02-17    55.0\n",
       "2020-02-18    64.0\n",
       "2020-02-19    62.0\n",
       "2020-02-20    46.0\n",
       "2020-02-21    43.0\n",
       "2020-02-24    50.0\n",
       "2020-02-25    39.0\n",
       "2020-02-26    50.0\n",
       "2020-02-27    53.0"
      ]
     },
     "execution_count": 906,
     "metadata": {},
     "output_type": "execute_result"
    }
   ],
   "source": [
    "predata_patient"
   ]
  },
  {
   "cell_type": "code",
   "execution_count": 907,
   "id": "491a596c",
   "metadata": {},
   "outputs": [
    {
     "data": {
      "text/plain": [
       "(20, 1)"
      ]
     },
     "execution_count": 907,
     "metadata": {},
     "output_type": "execute_result"
    }
   ],
   "source": [
    "predata_patient.shape"
   ]
  },
  {
   "cell_type": "code",
   "execution_count": 908,
   "id": "49604cfc",
   "metadata": {},
   "outputs": [
    {
     "data": {
      "image/png": "[encoded data removed]",
      "text/plain": [
       "<Figure size 432x288 with 1 Axes>"
      ]
     },
     "execution_count": 908,
     "metadata": {},
     "output_type": "execute_result"
    },
    {
     "data": {
      "image/png": "[encoded data removed]",
      "text/plain": [
       "<Figure size 432x288 with 1 Axes>"
      ]
     },
     "metadata": {
      "needs_background": "light"
     },
     "output_type": "display_data"
    }
   ],
   "source": [
    "# Plotting ACF to calculate Moving Average\n",
    "\n",
    "plot_acf(predata_patient)"
   ]
  },
  {
   "cell_type": "code",
   "execution_count": 910,
   "id": "5afa57a9",
   "metadata": {},
   "outputs": [
    {
     "name": "stdout",
     "output_type": "stream",
     "text": [
      "Performing stepwise search to minimize aic\n",
      " ARIMA(2,0,2)(0,0,0)[0]             : AIC=171.926, Time=0.07 sec\n",
      " ARIMA(0,0,0)(0,0,0)[0]             : AIC=215.802, Time=0.01 sec\n",
      " ARIMA(1,0,0)(0,0,0)[0]             : AIC=169.205, Time=0.01 sec\n",
      " ARIMA(0,0,1)(0,0,0)[0]             : AIC=inf, Time=0.02 sec\n",
      " ARIMA(2,0,0)(0,0,0)[0]             : AIC=168.330, Time=0.04 sec\n",
      " ARIMA(3,0,0)(0,0,0)[0]             : AIC=170.069, Time=0.03 sec\n",
      " ARIMA(2,0,1)(0,0,0)[0]             : AIC=169.929, Time=0.03 sec\n",
      " ARIMA(1,0,1)(0,0,0)[0]             : AIC=168.872, Time=0.03 sec\n",
      " ARIMA(3,0,1)(0,0,0)[0]             : AIC=171.928, Time=0.05 sec\n",
      " ARIMA(2,0,0)(0,0,0)[0] intercept   : AIC=164.089, Time=0.08 sec\n",
      " ARIMA(1,0,0)(0,0,0)[0] intercept   : AIC=162.396, Time=0.04 sec\n",
      " ARIMA(0,0,0)(0,0,0)[0] intercept   : AIC=160.414, Time=0.01 sec\n",
      " ARIMA(0,0,1)(0,0,0)[0] intercept   : AIC=162.402, Time=0.02 sec\n",
      " ARIMA(1,0,1)(0,0,0)[0] intercept   : AIC=163.905, Time=0.10 sec\n",
      "\n",
      "Best model:  ARIMA(0,0,0)(0,0,0)[0] intercept\n",
      "Total fit time: 0.544 seconds\n"
     ]
    }
   ],
   "source": [
    "stepwise_fit_pre = auto_arima(predata_patient['Status'], trace = True, suppress_warnings = True, seasonal = False)"
   ]
  },
  {
   "cell_type": "code",
   "execution_count": 911,
   "id": "5bd04c7f",
   "metadata": {},
   "outputs": [
    {
     "data": {
      "text/html": [
       "<table class=\"simpletable\">\n",
       "<caption>SARIMAX Results</caption>\n",
       "<tr>\n",
       "  <th>Dep. Variable:</th>           <td>y</td>        <th>  No. Observations:  </th>   <td>20</td>   \n",
       "</tr>\n",
       "<tr>\n",
       "  <th>Model:</th>                <td>SARIMAX</td>     <th>  Log Likelihood     </th> <td>-78.207</td>\n",
       "</tr>\n",
       "<tr>\n",
       "  <th>Date:</th>            <td>Sat, 10 Dec 2022</td> <th>  AIC                </th> <td>160.414</td>\n",
       "</tr>\n",
       "<tr>\n",
       "  <th>Time:</th>                <td>11:25:13</td>     <th>  BIC                </th> <td>162.406</td>\n",
       "</tr>\n",
       "<tr>\n",
       "  <th>Sample:</th>                  <td>0</td>        <th>  HQIC               </th> <td>160.803</td>\n",
       "</tr>\n",
       "<tr>\n",
       "  <th></th>                       <td> - 20</td>      <th>                     </th>    <td> </td>   \n",
       "</tr>\n",
       "<tr>\n",
       "  <th>Covariance Type:</th>        <td>opg</td>       <th>                     </th>    <td> </td>   \n",
       "</tr>\n",
       "</table>\n",
       "<table class=\"simpletable\">\n",
       "<tr>\n",
       "      <td></td>         <th>coef</th>     <th>std err</th>      <th>z</th>      <th>P>|z|</th>  <th>[0.025</th>    <th>0.975]</th>  \n",
       "</tr>\n",
       "<tr>\n",
       "  <th>intercept</th> <td>   49.2500</td> <td>    4.374</td> <td>   11.260</td> <td> 0.000</td> <td>   40.677</td> <td>   57.823</td>\n",
       "</tr>\n",
       "<tr>\n",
       "  <th>sigma2</th>    <td>  145.8875</td> <td>   36.700</td> <td>    3.975</td> <td> 0.000</td> <td>   73.958</td> <td>  217.817</td>\n",
       "</tr>\n",
       "</table>\n",
       "<table class=\"simpletable\">\n",
       "<tr>\n",
       "  <th>Ljung-Box (L1) (Q):</th>     <td>0.01</td> <th>  Jarque-Bera (JB):  </th> <td>50.06</td>\n",
       "</tr>\n",
       "<tr>\n",
       "  <th>Prob(Q):</th>                <td>0.93</td> <th>  Prob(JB):          </th> <td>0.00</td> \n",
       "</tr>\n",
       "<tr>\n",
       "  <th>Heteroskedasticity (H):</th> <td>0.15</td> <th>  Skew:              </th> <td>-2.26</td>\n",
       "</tr>\n",
       "<tr>\n",
       "  <th>Prob(H) (two-sided):</th>    <td>0.02</td> <th>  Kurtosis:          </th> <td>9.29</td> \n",
       "</tr>\n",
       "</table><br/><br/>Warnings:<br/>[1] Covariance matrix calculated using the outer product of gradients (complex-step)."
      ],
      "text/plain": [
       "<class 'statsmodels.iolib.summary.Summary'>\n",
       "\"\"\"\n",
       "                               SARIMAX Results                                \n",
       "==============================================================================\n",
       "Dep. Variable:                      y   No. Observations:                   20\n",
       "Model:                        SARIMAX   Log Likelihood                 -78.207\n",
       "Date:                Sat, 10 Dec 2022   AIC                            160.414\n",
       "Time:                        11:25:13   BIC                            162.406\n",
       "Sample:                             0   HQIC                           160.803\n",
       "                                 - 20                                         \n",
       "Covariance Type:                  opg                                         \n",
       "==============================================================================\n",
       "                 coef    std err          z      P>|z|      [0.025      0.975]\n",
       "------------------------------------------------------------------------------\n",
       "intercept     49.2500      4.374     11.260      0.000      40.677      57.823\n",
       "sigma2       145.8875     36.700      3.975      0.000      73.958     217.817\n",
       "===================================================================================\n",
       "Ljung-Box (L1) (Q):                   0.01   Jarque-Bera (JB):                50.06\n",
       "Prob(Q):                              0.93   Prob(JB):                         0.00\n",
       "Heteroskedasticity (H):               0.15   Skew:                            -2.26\n",
       "Prob(H) (two-sided):                  0.02   Kurtosis:                         9.29\n",
       "===================================================================================\n",
       "\n",
       "Warnings:\n",
       "[1] Covariance matrix calculated using the outer product of gradients (complex-step).\n",
       "\"\"\""
      ]
     },
     "execution_count": 911,
     "metadata": {},
     "output_type": "execute_result"
    }
   ],
   "source": [
    "stepwise_fit_pre.summary()"
   ]
  },
  {
   "cell_type": "code",
   "execution_count": 930,
   "id": "8cbe844f",
   "metadata": {},
   "outputs": [],
   "source": [
    "pre_train = predata_patient.iloc[: 14]\n",
    "pre_test = predata_patient.iloc[14 :]"
   ]
  },
  {
   "cell_type": "code",
   "execution_count": 1324,
   "id": "0a465229",
   "metadata": {},
   "outputs": [
    {
     "data": {
      "text/plain": [
       "(6, 1)"
      ]
     },
     "execution_count": 1324,
     "metadata": {},
     "output_type": "execute_result"
    }
   ],
   "source": [
    "pre_test.shape"
   ]
  },
  {
   "cell_type": "code",
   "execution_count": 2073,
   "id": "20f57ff8",
   "metadata": {},
   "outputs": [],
   "source": [
    "# Tried with various parameters and selected the best one (5,1,2) (4,1,5) (6,1,5) (3,1,1: very good)\n",
    "pre_model = sm.tsa.arima.ARIMA(pre_train, order = (3,1,1))\n",
    "pre_model = pre_model.fit()\n",
    "# pre_model.summary()"
   ]
  },
  {
   "cell_type": "code",
   "execution_count": 2074,
   "id": "22b54d0b",
   "metadata": {},
   "outputs": [],
   "source": [
    "pre_forecast = pre_model.predict(n_periods = 6)"
   ]
  },
  {
   "cell_type": "code",
   "execution_count": 2075,
   "id": "2fdb36cc",
   "metadata": {},
   "outputs": [
    {
     "data": {
      "text/plain": [
       "Date\n",
       "2020-02-20    63.932150\n",
       "2020-02-21    59.732827\n",
       "2020-02-24    60.992148\n",
       "2020-02-25    58.678714\n",
       "2020-02-26    60.670223\n",
       "2020-02-27    59.406103\n",
       "Name: predicted_mean, dtype: float64"
      ]
     },
     "execution_count": 2075,
     "metadata": {},
     "output_type": "execute_result"
    }
   ],
   "source": [
    "pre_start = len(pre_train)\n",
    "pre_end = len(pre_train)+ len(pre_test) - 1\n",
    "pre_pred = pre_model.predict(start= pre_start, end = pre_end, typ= 'levels')\n",
    "pre_pred.index = predata_patient.index[pre_start:pre_end+1]\n",
    "pre_pred"
   ]
  },
  {
   "cell_type": "code",
   "execution_count": 2076,
   "id": "4975b713",
   "metadata": {},
   "outputs": [
    {
     "data": {
      "text/html": [
       "<div>\n",
       "<style scoped>\n",
       "    .dataframe tbody tr th:only-of-type {\n",
       "        vertical-align: middle;\n",
       "    }\n",
       "\n",
       "    .dataframe tbody tr th {\n",
       "        vertical-align: top;\n",
       "    }\n",
       "\n",
       "    .dataframe thead th {\n",
       "        text-align: right;\n",
       "    }\n",
       "</style>\n",
       "<table border=\"1\" class=\"dataframe\">\n",
       "  <thead>\n",
       "    <tr style=\"text-align: right;\">\n",
       "      <th></th>\n",
       "      <th>Status</th>\n",
       "    </tr>\n",
       "    <tr>\n",
       "      <th>Date</th>\n",
       "      <th></th>\n",
       "    </tr>\n",
       "  </thead>\n",
       "  <tbody>\n",
       "    <tr>\n",
       "      <th>2020-02-20</th>\n",
       "      <td>46.0</td>\n",
       "    </tr>\n",
       "    <tr>\n",
       "      <th>2020-02-21</th>\n",
       "      <td>43.0</td>\n",
       "    </tr>\n",
       "    <tr>\n",
       "      <th>2020-02-24</th>\n",
       "      <td>50.0</td>\n",
       "    </tr>\n",
       "    <tr>\n",
       "      <th>2020-02-25</th>\n",
       "      <td>39.0</td>\n",
       "    </tr>\n",
       "    <tr>\n",
       "      <th>2020-02-26</th>\n",
       "      <td>50.0</td>\n",
       "    </tr>\n",
       "    <tr>\n",
       "      <th>2020-02-27</th>\n",
       "      <td>53.0</td>\n",
       "    </tr>\n",
       "  </tbody>\n",
       "</table>\n",
       "</div>"
      ],
      "text/plain": [
       "            Status\n",
       "Date              \n",
       "2020-02-20    46.0\n",
       "2020-02-21    43.0\n",
       "2020-02-24    50.0\n",
       "2020-02-25    39.0\n",
       "2020-02-26    50.0\n",
       "2020-02-27    53.0"
      ]
     },
     "execution_count": 2076,
     "metadata": {},
     "output_type": "execute_result"
    }
   ],
   "source": [
    "pre_test"
   ]
  },
  {
   "cell_type": "code",
   "execution_count": 2077,
   "id": "c059afc7",
   "metadata": {},
   "outputs": [
    {
     "data": {
      "text/plain": [
       "[<matplotlib.lines.Line2D at 0x22f17f5e2b0>]"
      ]
     },
     "execution_count": 2077,
     "metadata": {},
     "output_type": "execute_result"
    },
    {
     "data": {
      "image/png": "[encoded data removed]",
      "text/plain": [
       "<Figure size 432x288 with 1 Axes>"
      ]
     },
     "metadata": {
      "needs_background": "light"
     },
     "output_type": "display_data"
    }
   ],
   "source": [
    "plt.plot(pre_pred)\n",
    "plt.plot(pre_test)"
   ]
  },
  {
   "cell_type": "code",
   "execution_count": 2078,
   "id": "ab8bdb8f",
   "metadata": {},
   "outputs": [
    {
     "data": {
      "text/plain": [
       "14.517348335549036"
      ]
     },
     "execution_count": 2078,
     "metadata": {},
     "output_type": "execute_result"
    }
   ],
   "source": [
    "np.sqrt(mean_squared_error(pre_test, pre_pred))"
   ]
  },
  {
   "cell_type": "code",
   "execution_count": 2084,
   "id": "bbacdd5d",
   "metadata": {},
   "outputs": [
    {
     "data": {
      "text/plain": [
       "Status    46.833333\n",
       "dtype: float64"
      ]
     },
     "execution_count": 2084,
     "metadata": {},
     "output_type": "execute_result"
    }
   ],
   "source": [
    "pre_test.mean()"
   ]
  },
  {
   "cell_type": "code",
   "execution_count": 2079,
   "id": "c68e36c2",
   "metadata": {},
   "outputs": [
    {
     "data": {
      "text/plain": [
       "0.3062774265037833"
      ]
     },
     "execution_count": 2079,
     "metadata": {},
     "output_type": "execute_result"
    }
   ],
   "source": [
    "mean_absolute_percentage_error(pre_test, pre_pred)"
   ]
  },
  {
   "cell_type": "code",
   "execution_count": null,
   "id": "406e383e",
   "metadata": {},
   "outputs": [],
   "source": []
  }
 ],
 "metadata": {
  "kernelspec": {
   "display_name": "Python 3",
   "language": "python",
   "name": "python3"
  },
  "language_info": {
   "codemirror_mode": {
    "name": "ipython",
    "version": 3
   },
   "file_extension": ".py",
   "mimetype": "text/x-python",
   "name": "python",
   "nbconvert_exporter": "python",
   "pygments_lexer": "ipython3",
   "version": "3.8.8"
  }
 },
 "nbformat": 4,
 "nbformat_minor": 5
}
